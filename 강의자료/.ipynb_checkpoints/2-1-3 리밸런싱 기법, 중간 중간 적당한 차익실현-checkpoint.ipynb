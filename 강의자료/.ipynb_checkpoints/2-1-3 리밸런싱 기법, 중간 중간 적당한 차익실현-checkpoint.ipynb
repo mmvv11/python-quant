{
 "cells": [
  {
   "cell_type": "code",
   "execution_count": 6,
   "id": "ac5ebedc",
   "metadata": {},
   "outputs": [],
   "source": [
    "import FinanceDataReader as fdr\n",
    "import pandas as pd\n",
    "import matplotlib.pyplot as plt\n",
    "import numpy as np"
   ]
  },
  {
   "cell_type": "code",
   "execution_count": 7,
   "id": "f9c3adf1",
   "metadata": {},
   "outputs": [],
   "source": [
    "def getCloseData(ticker, start, end=None):\n",
    "    \"\"\"\n",
    "    종가 데이터\n",
    "    ticker: 종목 번호\n",
    "    start: 시작일\n",
    "    end: 마지막 날짜\n",
    "    return: 종목의 종가 데이터\n",
    "    \"\"\"\n",
    "    return fdr.DataReader(ticker, start, end)['Close']\n",
    "\n",
    "def getDayReturn(closeDataSet):\n",
    "    \"\"\"\n",
    "    개별종목 일별 수익률\n",
    "    closeDataSet: 종가 데이터\n",
    "    return: 종가 데이터의 일별 수익률\n",
    "    \"\"\"\n",
    "    return (closeDataSet / closeDataSet.shift(1)).fillna(1)\n",
    "\n",
    "def getCumulativeReturn(closeDataSet=None):\n",
    "    \"\"\"\n",
    "    개별종목 누적수익률 == 자산흐름\n",
    "    closeDataSet: 종가 데이터\n",
    "    return:종가데이터 누적수익률\n",
    "    \"\"\"\n",
    "    return closeDataSet / closeDataSet.iloc[0]\n",
    "\n",
    "def getPortfolioResult(closeDataSet, weight=None):\n",
    "    \"\"\"\n",
    "    포트폴리오 결과\n",
    "    closeDataSet: 종가 데이터\n",
    "    weight: 포트폴리오 개별자산 비중\n",
    "    return: 포트폴리오 일간수익률, 누적수익률\n",
    "    \"\"\"\n",
    "    # 개별종목 일별 수익률\n",
    "    dayReturn = getDayReturn(closeDataSet)\n",
    "    # 개별종목 누적 수익률\n",
    "    cumulativeReturn = getCumulativeReturn(closeDataSet)\n",
    "    # 자산별 비중. 기본값: 동일비중\n",
    "    if not weight:\n",
    "        weight = [1/len(closeDataSet.columns)] * len(closeDataSet.columns)\n",
    "        \n",
    "    # 포트폴리오 누적 수익률\n",
    "    portfolioCumulativeReturn = (weight * cumulativeReturn).sum(axis=1)\n",
    "    # 포트폴리오 일별 수익률\n",
    "    portfolioDayReturn = (portfolioCumulativeReturn / portfolioCumulativeReturn.shift(1)).fillna(1)\n",
    "        \n",
    "#     # 자산별 비중이 반영된 개별자산 누적 수익률\n",
    "#     weightedCumulativeReturn = weight * cumulativeReturn\n",
    "#     # 자산흐름 정규화: 시기별 각 자산 보유 비율\n",
    "#     normalizedAssetFlow = weightedCumulativeReturn.divide(weightedCumulativeReturn.sum(axis=1), axis=0) # 각 행의 합으로 각 행을 나누기\n",
    "#     # 자산별 비중이 반영된 개별자산 일별 수익률\n",
    "#     weightedDayReturn = normalizedAssetFlow * dayReturn.shift(-1).fillna(0)\n",
    "#     # 포트폴리오 일별 수익률 = 자산별 비중이 반영된 개별자산 일별 수익률의 합\n",
    "#     portfolioDayReturn = weightedDayReturn.sum(axis=1).shift(1).fillna(1)\n",
    "#     # 포트폴리오 누적 수익률\n",
    "#     portfolioCumulativeReturn = portfolioDayReturn.cumprod()\n",
    "# #     portfolioCumulativeReturn = weightedCumulativeReturn.sum(axis=1)\n",
    "    \n",
    "    return portfolioDayReturn, portfolioCumulativeReturn\n",
    "\n",
    "def getEvaluation(cumulativeReturn):\n",
    "    \"\"\"\n",
    "    cagr, dd, mdd\n",
    "    투자 성과 지표\n",
    "    \"\"\"\n",
    "    # cagr\n",
    "    cagr = cumulativeReturn.iloc[-1] ** (252/len(cumulativeReturn))\n",
    "    # mdd\n",
    "    dd = (cumulativeReturn.cummax() - cumulativeReturn) / cumulativeReturn.cummax() * 100\n",
    "    mdd= dd.max()\n",
    "    \n",
    "    print(f\"cagr: {cagr}\\nmdd: {mdd}\")\n",
    "\n",
    "    return cagr, dd, mdd\n",
    "\n",
    "def getRebalancingDate(closeDataSet, period=\"month\"):\n",
    "    \"\"\"\n",
    "    리밸런싱 일자 추출\n",
    "    월별, 분기별, 연별\n",
    "    \"\"\"\n",
    "    data = closeDataSet.copy()\n",
    "    data = pd.DataFrame(data)\n",
    "    data.index = pd.to_datetime(data.index)\n",
    "    data['year'] = data.index.year\n",
    "    data['month'] = data.index.month\n",
    "    \n",
    "    if period == \"month\":\n",
    "        rebalancingDate = data.drop_duplicates(['year', 'month'], keep=\"last\").index\n",
    "        \n",
    "    if period == \"quarter\":\n",
    "        # 3 6 9 12월 말에 리밸런싱\n",
    "        # np where 같은걸로 3, 6, 9, 12월 데이터만 가져오고\n",
    "        # drop_duplicates keep last 하면 됌\n",
    "        quarter = [3,6,9,12]\n",
    "        data = data.loc[data['month'].isin(quarter)]\n",
    "        rebalancingDate = data.drop_duplicates(['year', 'month'], keep=\"last\").index\n",
    "    \n",
    "    if period == \"year\":\n",
    "        rebalancingDate = data.drop_duplicates(['year'], keep=\"last\").index\n",
    "        \n",
    "    return rebalancingDate\n",
    "\n",
    "def getRebalancingPortfolioResult(closeDataSet, period = \"month\", weightDf=None):\n",
    "    \"\"\"\n",
    "    리밸런싱 포트폴리오 결과\n",
    "    closeDataSet: 종가 데이터\n",
    "    weight: 포트폴리오 개별자산 비중\n",
    "    return: 포트폴리오 일간수익률, 누적수익률\n",
    "    \"\"\"\n",
    "    \n",
    "    rebalancingDate = getRebalancingDate(closeDataSet, period) # 리밸런싱 날짜\n",
    "    \n",
    "    # 자산별 비중. 기본값: 동일비중\n",
    "    if weightDf is None:\n",
    "        weightDf = pd.DataFrame([[1/len(closeDataSet.columns)] * len(closeDataSet.columns)] * len(rebalancingDate),\n",
    "                              index=rebalancingDate,\n",
    "                              columns=closeDataSet.columns)\n",
    "      \n",
    "    portfolio = pd.DataFrame() # 빈 데이터 프레임 생성\n",
    "\n",
    "    totalAsset = 1 # 총 자산, 초기값 1\n",
    "    start = rebalancingDate[0] # 리밸런싱 날짜, 초기값 첫 투자일\n",
    "\n",
    "    for end in rebalancingDate[1:]:\n",
    "        weight = weightDf.loc[start] # 당월 리밸런싱 비율\n",
    "        priceData = closeDataSet.loc[start:end] # 당월 가격 데이터\n",
    "        cumReturn = getCumulativeReturn(priceData) # 당월 누적 수익률\n",
    "        weightedCumReturn = weight * cumReturn # 당월 리밸런싱 비율이 반영된 누적 수익률\n",
    "        netCumReturn = totalAsset * weightedCumReturn # 전월 투자 결과 반영\n",
    "\n",
    "        start = end # start 갱신\n",
    "        totalAsset = netCumReturn.iloc[-1].sum() # 총 자산 갱신\n",
    "        portfolio = pd.concat([portfolio, netCumReturn]) # 매월 데이터 추가\n",
    "    \n",
    "    portfolio = portfolio.loc[~portfolio.index.duplicated(keep='last')] # 중복 데이터 제거\n",
    "    portfolioCumulativeReturn = portfolio.sum(axis=1) # 포트폴리오 누적 수익률\n",
    "    portfolioDayReturn = (portfolioCumulativeReturn / portfolioCumulativeReturn.shift(1)).fillna(1) # 포트폴리오 일간 수익률\n",
    "    \n",
    "    return portfolioDayReturn, portfolioCumulativeReturn"
   ]
  },
  {
   "cell_type": "markdown",
   "id": "362296b1",
   "metadata": {},
   "source": [
    "  "
   ]
  },
  {
   "cell_type": "markdown",
   "id": "5ae2219b",
   "metadata": {},
   "source": [
    "  "
   ]
  },
  {
   "cell_type": "markdown",
   "id": "71027d51",
   "metadata": {},
   "source": [
    "  "
   ]
  },
  {
   "cell_type": "markdown",
   "id": "3634b4ab",
   "metadata": {},
   "source": [
    "## 리밸런싱\n"
   ]
  },
  {
   "cell_type": "markdown",
   "id": "c969ef2b",
   "metadata": {},
   "source": [
    "  "
   ]
  },
  {
   "cell_type": "markdown",
   "id": "7cd2e20e",
   "metadata": {},
   "source": [
    "#### 리밸런싱 개념  "
   ]
  },
  {
   "cell_type": "code",
   "execution_count": 8,
   "id": "ad25cb2f",
   "metadata": {},
   "outputs": [
    {
     "data": {
      "text/html": [
       "<div>\n",
       "<style scoped>\n",
       "    .dataframe tbody tr th:only-of-type {\n",
       "        vertical-align: middle;\n",
       "    }\n",
       "\n",
       "    .dataframe tbody tr th {\n",
       "        vertical-align: top;\n",
       "    }\n",
       "\n",
       "    .dataframe thead th {\n",
       "        text-align: right;\n",
       "    }\n",
       "</style>\n",
       "<table border=\"1\" class=\"dataframe\">\n",
       "  <thead>\n",
       "    <tr style=\"text-align: right;\">\n",
       "      <th></th>\n",
       "      <th>stock</th>\n",
       "      <th>bond</th>\n",
       "    </tr>\n",
       "  </thead>\n",
       "  <tbody>\n",
       "    <tr>\n",
       "      <th>0</th>\n",
       "      <td>10</td>\n",
       "      <td>5</td>\n",
       "    </tr>\n",
       "    <tr>\n",
       "      <th>1</th>\n",
       "      <td>5</td>\n",
       "      <td>10</td>\n",
       "    </tr>\n",
       "    <tr>\n",
       "      <th>2</th>\n",
       "      <td>10</td>\n",
       "      <td>5</td>\n",
       "    </tr>\n",
       "    <tr>\n",
       "      <th>3</th>\n",
       "      <td>5</td>\n",
       "      <td>10</td>\n",
       "    </tr>\n",
       "    <tr>\n",
       "      <th>4</th>\n",
       "      <td>10</td>\n",
       "      <td>5</td>\n",
       "    </tr>\n",
       "    <tr>\n",
       "      <th>5</th>\n",
       "      <td>5</td>\n",
       "      <td>10</td>\n",
       "    </tr>\n",
       "    <tr>\n",
       "      <th>6</th>\n",
       "      <td>10</td>\n",
       "      <td>5</td>\n",
       "    </tr>\n",
       "    <tr>\n",
       "      <th>7</th>\n",
       "      <td>5</td>\n",
       "      <td>10</td>\n",
       "    </tr>\n",
       "    <tr>\n",
       "      <th>8</th>\n",
       "      <td>10</td>\n",
       "      <td>5</td>\n",
       "    </tr>\n",
       "    <tr>\n",
       "      <th>9</th>\n",
       "      <td>5</td>\n",
       "      <td>10</td>\n",
       "    </tr>\n",
       "  </tbody>\n",
       "</table>\n",
       "</div>"
      ],
      "text/plain": [
       "   stock  bond\n",
       "0     10     5\n",
       "1      5    10\n",
       "2     10     5\n",
       "3      5    10\n",
       "4     10     5\n",
       "5      5    10\n",
       "6     10     5\n",
       "7      5    10\n",
       "8     10     5\n",
       "9      5    10"
      ]
     },
     "execution_count": 8,
     "metadata": {},
     "output_type": "execute_result"
    }
   ],
   "source": [
    "dummyData =pd.DataFrame(\n",
    "    {\n",
    "        \"stock\": [10, 5] * 5,\n",
    "        \"bond\": [5, 10] * 5,\n",
    "    },\n",
    ")\n",
    "dummyData"
   ]
  },
  {
   "cell_type": "code",
   "execution_count": 9,
   "id": "225c4eb1",
   "metadata": {},
   "outputs": [
    {
     "data": {
      "image/png": "[encoded data removed]",
      "text/plain": [
       "<Figure size 1440x360 with 1 Axes>"
      ]
     },
     "metadata": {
      "needs_background": "light"
     },
     "output_type": "display_data"
    }
   ],
   "source": [
    "dummyData.plot(figsize=(20,5))\n",
    "plt.xticks(dummyData.index)\n",
    "plt.show()"
   ]
  },
  {
   "cell_type": "markdown",
   "id": "c4038b14",
   "metadata": {},
   "source": [
    "지금까지는 사고 그대로 존버하는 포지션이었지만,  \n",
    "이번엔 **매월 말 주식:현금 = 1:1 비율로 조절해주는 리밸런싱 기법**을 도입해보겠습니다.  "
   ]
  },
  {
   "cell_type": "markdown",
   "id": "ef90c77a",
   "metadata": {},
   "source": [
    "  "
   ]
  },
  {
   "cell_type": "markdown",
   "id": "f9a6c9fc",
   "metadata": {},
   "source": [
    "#### 리밸런싱 코드 구현하기"
   ]
  },
  {
   "cell_type": "code",
   "execution_count": null,
   "id": "a3013acc",
   "metadata": {},
   "outputs": [],
   "source": [
    "closeDataSet = pd.DataFrame(\n",
    "    {\n",
    "        \"kodex200\": [100, 140, 120, 110, 100, 120, 110, 115, 120],\n",
    "        \"kodex10Bond\": [100, 90, 105, 115, 125, 130, 120, 125, 130],\n",
    "    },\n",
    "    index=pd.to_datetime([\"2022-01-31\", \"2022-02-10\", \"2022-02-21\", \"2022-02-28\", \"2022-03-10\", \"2022-03-19\", \"2022-03-31\", \"2022-04-20\", \"2022-04-30\",])\n",
    ")\n",
    "closeDataSet"
   ]
  },
  {
   "cell_type": "code",
   "execution_count": null,
   "id": "695f2112",
   "metadata": {},
   "outputs": [],
   "source": [
    "# 리밸런싱 날짜 가져오기\n",
    "# 매달 마지막 영업일\n",
    "\n",
    "closeDataSet['year'] = closeDataSet.index.year\n",
    "closeDataSet['month'] = closeDataSet.index.month\n",
    "rebalancingDate = closeDataSet.drop_duplicates(['year','month'], keep=\"last\").index\n",
    "closeDataSet.drop(['year', 'month'], axis=1, inplace=True)\n",
    "rebalancingDate"
   ]
  },
  {
   "cell_type": "code",
   "execution_count": null,
   "id": "eaaa563c",
   "metadata": {},
   "outputs": [],
   "source": [
    "# 월별 리밸런싱 비중\n",
    "# 나중엔 이걸 베이스로 모멘텀 비중으로 해도 되고,,커스텀 가능\n",
    "defaultWeight = [1/len(closeDataSet.columns)] * len(closeDataSet.columns)\n",
    "MonthlyWeight = pd.DataFrame([defaultWeight] * len(rebalancingDate), index=rebalancingDate, columns=closeDataSet.columns) \n",
    "MonthlyWeight"
   ]
  },
  {
   "cell_type": "markdown",
   "id": "d768c0a1",
   "metadata": {},
   "source": [
    "   "
   ]
  },
  {
   "cell_type": "markdown",
   "id": "6dccc94f",
   "metadata": {},
   "source": [
    "   "
   ]
  },
  {
   "cell_type": "markdown",
   "id": "40d33a05",
   "metadata": {},
   "source": [
    "   "
   ]
  },
  {
   "cell_type": "markdown",
   "id": "8c67293b",
   "metadata": {},
   "source": [
    "### 1. 누적수익률을 이용하는 방법"
   ]
  },
  {
   "cell_type": "code",
   "execution_count": null,
   "id": "88ef0195",
   "metadata": {
    "scrolled": true
   },
   "outputs": [],
   "source": [
    "# 월별 누적 수익률을 구하기\n",
    "\n",
    "start = rebalancingDate[0] # 리밸런싱 날짜, 초기값 첫 투자일\n",
    "\n",
    "for end in rebalancingDate[1:]:\n",
    "    weight = MonthlyWeight.loc[start] # 당월 리밸런싱 비율\n",
    "    priceData = closeDataSet.loc[start:end] # 당월 가격 데이터\n",
    "    cumReturn = getCumulativeReturn(priceData) # 당월 누적 수익률\n",
    "    weightedCumReturn = weight * cumReturn # 당월 리밸런싱 비율이 반영된 누적 수익률\n",
    "    \n",
    "    \n",
    "    start = end # start 갱신\n",
    "    \n",
    "    print(weightedCumReturn)"
   ]
  },
  {
   "cell_type": "markdown",
   "id": "9c3014ff",
   "metadata": {},
   "source": [
    "   "
   ]
  },
  {
   "cell_type": "markdown",
   "id": "dfcc7728",
   "metadata": {},
   "source": [
    "**월별 투자 결과가 그 다음달에도 연속적으로 반영되어야 합니다.**"
   ]
  },
  {
   "cell_type": "markdown",
   "id": "00a986dc",
   "metadata": {},
   "source": [
    "   "
   ]
  },
  {
   "cell_type": "code",
   "execution_count": null,
   "id": "c6d75647",
   "metadata": {
    "scrolled": true
   },
   "outputs": [],
   "source": [
    "# 투자 결과 연속 반영\n",
    "\n",
    "totalAsset = 1 # 총 자산, 초기값 1\n",
    "start = rebalancingDate[0] # 리밸런싱 날짜, 초기값 첫 투자일\n",
    "\n",
    "for end in rebalancingDate[1:]:\n",
    "    weight = MonthlyWeight.loc[start] # 당월 리밸런싱 비율\n",
    "    priceData = closeDataSet.loc[start:end] # 당월 가격 데이터\n",
    "    cumReturn = getCumulativeReturn(priceData) # 당월 누적 수익률\n",
    "    weightedCumReturn = weight * cumReturn # 당월 리밸런싱 비율이 반영된 누적 수익률\n",
    "    netCumReturn = totalAsset * weightedCumReturn # 전월 투자 결과 반영\n",
    "    \n",
    "    \n",
    "    start = end # start 갱신\n",
    "    print(\"갱신 전 총 자산: \",totalAsset)\n",
    "    totalAsset = netCumReturn.iloc[-1].sum() # 총 자산 갱신\n",
    "    print(netCumReturn)\n",
    "    print(\"갱신 후 총 자산: \",totalAsset)"
   ]
  },
  {
   "cell_type": "markdown",
   "id": "fd24182f",
   "metadata": {},
   "source": [
    "   "
   ]
  },
  {
   "cell_type": "markdown",
   "id": "138bcb25",
   "metadata": {},
   "source": [
    "**위 결과를 하나의 데이터 프레임으로 합쳐서 전체 포트폴리오의 누적 수익률을 계산 할 수 있습니다.**"
   ]
  },
  {
   "cell_type": "markdown",
   "id": "fface605",
   "metadata": {},
   "source": [
    "   "
   ]
  },
  {
   "cell_type": "code",
   "execution_count": null,
   "id": "7572c00f",
   "metadata": {
    "scrolled": true
   },
   "outputs": [],
   "source": [
    "# 하나의 데이터 프레임으로 합치기\n",
    "\n",
    "portfolio = pd.DataFrame() # 빈 데이터 프레임 생성\n",
    "\n",
    "totalAsset = 1 # 총 자산, 초기값 1\n",
    "start = rebalancingDate[0] # 리밸런싱 날짜, 초기값 첫 투자일\n",
    "\n",
    "for end in rebalancingDate[1:]:\n",
    "    weight = MonthlyWeight.loc[start] # 당월 리밸런싱 비율\n",
    "    priceData = closeDataSet.loc[start:end] # 당월 가격 데이터\n",
    "    cumReturn = getCumulativeReturn(priceData) # 당월 누적 수익률\n",
    "    weightedCumReturn = weight * cumReturn # 당월 리밸런싱 비율이 반영된 누적 수익률\n",
    "    netCumReturn = totalAsset * weightedCumReturn # 전월 투자 결과 반영\n",
    "    \n",
    "    \n",
    "    start = end # start 갱신\n",
    "    totalAsset = netCumReturn.iloc[-1].sum() # 총 자산 갱신\n",
    "    portfolio = pd.concat([portfolio, netCumReturn]) # 매월 데이터 추가\n",
    "\n",
    "portfolio    "
   ]
  },
  {
   "cell_type": "markdown",
   "id": "35d5a7ce",
   "metadata": {},
   "source": [
    "   "
   ]
  },
  {
   "cell_type": "markdown",
   "id": "dcd75f46",
   "metadata": {},
   "source": [
    "**매달 중복되는 데이터를 제거하고, 최종 포트폴리오 누적 수익률을 계산합니다.**"
   ]
  },
  {
   "cell_type": "markdown",
   "id": "1aab569a",
   "metadata": {},
   "source": [
    "   "
   ]
  },
  {
   "cell_type": "code",
   "execution_count": null,
   "id": "82fd9945",
   "metadata": {},
   "outputs": [],
   "source": [
    "portfolio.index.duplicated(keep='last')"
   ]
  },
  {
   "cell_type": "code",
   "execution_count": null,
   "id": "5af658dd",
   "metadata": {},
   "outputs": [],
   "source": [
    "portfolio.loc[~portfolio.index.duplicated(keep='last')]"
   ]
  },
  {
   "cell_type": "code",
   "execution_count": null,
   "id": "68d837ea",
   "metadata": {},
   "outputs": [],
   "source": [
    "portfolio = portfolio.loc[~portfolio.index.duplicated(keep='last')]"
   ]
  },
  {
   "cell_type": "code",
   "execution_count": null,
   "id": "d7b98377",
   "metadata": {
    "scrolled": true
   },
   "outputs": [],
   "source": [
    "portCumReturn = portfolio.sum(axis=1)\n",
    "portCumReturn"
   ]
  },
  {
   "cell_type": "markdown",
   "id": "ca9d06d0",
   "metadata": {},
   "source": [
    "   "
   ]
  },
  {
   "cell_type": "markdown",
   "id": "82da39e9",
   "metadata": {},
   "source": [
    "   "
   ]
  },
  {
   "cell_type": "markdown",
   "id": "320b2ed0",
   "metadata": {},
   "source": [
    "### 2. 일간 수익률을 이용하는 방법 (선택사항)"
   ]
  },
  {
   "cell_type": "raw",
   "id": "6c1a9387",
   "metadata": {},
   "source": [
    "# 여기서 하고 싶은거는 일자별로 각 종목 비율을 계산하는 거임\n",
    "\n",
    "totalNormalizedAssetFlow = []\n",
    "start = rebalancingDate[0] # 리밸런싱 날짜, 초기값 첫 투자일\n",
    "\n",
    "for end in rebalancingDate[1:]:\n",
    "    weight = MonthlyWeight.loc[start] # 당기 리밸런싱 비율\n",
    "    \n",
    "    priceData = closeDataSet.loc[start: end] # 당기 가격 데이터\n",
    "    cumulativeReturn = priceData / priceData.iloc[0] # 당기 개별자산 누적 수익률\n",
    "    \n",
    "    # 자산별 비중이 반영된 개별자산 누적 수익률\n",
    "    weightedCumulativeReturn = weight * cumulativeReturn\n",
    "    # 자산흐름 정규화: 시기별 각 자산 보유 비율\n",
    "    normalizedAssetFlow = weightedCumulativeReturn.divide(weightedCumulativeReturn.sum(axis=1), axis=0) # 각 행의 합으로 각 행을 나누기\n",
    "    \n",
    "    totalNormalizedAssetFlow.append(normalizedAssetFlow)\n",
    "    start = end # 리밸런싱 날짜업데이트\n",
    "    \n",
    "totalNormalizedAssetFlow"
   ]
  },
  {
   "cell_type": "raw",
   "id": "670233c2",
   "metadata": {},
   "source": [
    "totalNormalizedAssetFlow = pd.concat(totalNormalizedAssetFlow) # 정규화된 전체 자산흐름.\n",
    "totalNormalizedAssetFlow"
   ]
  },
  {
   "cell_type": "raw",
   "id": "bfb863ca",
   "metadata": {},
   "source": [
    "# 매달 마지막 영업일엔 리밸런싱이 들어간 row만 남긴다.\n",
    "totalNormalizedAssetFlow = totalNormalizedAssetFlow.loc[~totalNormalizedAssetFlow.index.duplicated(keep='last')]\n",
    "totalNormalizedAssetFlow"
   ]
  },
  {
   "cell_type": "raw",
   "id": "caf03051",
   "metadata": {},
   "source": [
    "# 자산 일별 수익률\n",
    "dayReturn = getDayReturn(closeDataSet)\n",
    "dayReturn"
   ]
  },
  {
   "cell_type": "raw",
   "id": "69fc186f",
   "metadata": {},
   "source": [
    "# 자산별 비중이 반영된 개별자산 일별 수익률\n",
    "weightedDayReturn = totalNormalizedAssetFlow * dayReturn.shift(-1).fillna(0)\n",
    "weightedDayReturn"
   ]
  },
  {
   "cell_type": "raw",
   "id": "74da7ed4",
   "metadata": {},
   "source": [
    "# 포트폴리오 일별 수익률 = 자산별 비중이 반영된 개별자산 일별 수익률의 합\n",
    "portfolioDayReturn = weightedDayReturn.sum(axis=1).shift(1).fillna(1)\n",
    "portfolioDayReturn"
   ]
  },
  {
   "cell_type": "raw",
   "id": "96c8d437",
   "metadata": {},
   "source": [
    "# 포트폴리오 누적 수익률\n",
    "portfolioCumulativeReturn = portfolioDayReturn.cumprod()\n",
    "portfolioCumulativeReturn"
   ]
  },
  {
   "cell_type": "markdown",
   "id": "282f7278",
   "metadata": {},
   "source": [
    "  \n",
    " "
   ]
  },
  {
   "cell_type": "markdown",
   "id": "016a942f",
   "metadata": {},
   "source": [
    "  \n",
    " "
   ]
  },
  {
   "cell_type": "markdown",
   "id": "951a1d66",
   "metadata": {},
   "source": [
    "  \n",
    " "
   ]
  },
  {
   "cell_type": "markdown",
   "id": "80485484",
   "metadata": {},
   "source": [
    "#### 함수화"
   ]
  },
  {
   "cell_type": "code",
   "execution_count": null,
   "id": "5a757259",
   "metadata": {},
   "outputs": [],
   "source": [
    "def getRebalancingDate(closeDataSet, period=\"month\"):\n",
    "    \"\"\"\n",
    "    리밸런싱 일자 추출\n",
    "    월별, 분기별, 연별\n",
    "    \"\"\"\n",
    "    data = closeDataSet.copy()\n",
    "    data = pd.DataFrame(data)\n",
    "    data.index = pd.to_datetime(data.index)\n",
    "    data['year'] = data.index.year\n",
    "    data['month'] = data.index.month\n",
    "    \n",
    "    if period == \"month\":\n",
    "        rebalancingDate = data.drop_duplicates(['year', 'month'], keep=\"last\").index\n",
    "        \n",
    "    if period == \"quarter\":\n",
    "        # 3 6 9 12월 말에 리밸런싱\n",
    "        # np where 같은걸로 3, 6, 9, 12월 데이터만 가져오고\n",
    "        # drop_duplicates keep last 하면 됌\n",
    "        quarter = [3,6,9,12]\n",
    "        data = data.loc[data['month'].isin(quarter)]\n",
    "        rebalancingDate = data.drop_duplicates(['year', 'month'], keep=\"last\").index\n",
    "    \n",
    "    if period == \"year\":\n",
    "        rebalancingDate = data.drop_duplicates(['year'], keep=\"last\").index\n",
    "        \n",
    "    return rebalancingDate"
   ]
  },
  {
   "cell_type": "code",
   "execution_count": null,
   "id": "4d9af8c6",
   "metadata": {},
   "outputs": [],
   "source": [
    "def getRebalancingPortfolioResult(closeDataSet, period = \"month\", weightDf=None):\n",
    "    \"\"\"\n",
    "    리밸런싱 포트폴리오 결과\n",
    "    closeDataSet: 종가 데이터\n",
    "    weight: 포트폴리오 개별자산 비중\n",
    "    return: 포트폴리오 일간수익률, 누적수익률\n",
    "    \"\"\"\n",
    "    \n",
    "    rebalancingDate = getRebalancingDate(closeDataSet, period) # 리밸런싱 날짜\n",
    "    \n",
    "    # 자산별 비중. 기본값: 동일비중\n",
    "    if weightDf is None:\n",
    "        weightDf = pd.DataFrame([[1/len(closeDataSet.columns)] * len(closeDataSet.columns)] * len(rebalancingDate),\n",
    "                              index=rebalancingDate,\n",
    "                              columns=closeDataSet.columns)\n",
    "      \n",
    "    portfolio = pd.DataFrame() # 빈 데이터 프레임 생성\n",
    "\n",
    "    totalAsset = 1 # 총 자산, 초기값 1\n",
    "    start = rebalancingDate[0] # 리밸런싱 날짜, 초기값 첫 투자일\n",
    "\n",
    "    for end in rebalancingDate[1:]:\n",
    "        weight = weightDf.loc[start] # 당월 리밸런싱 비율\n",
    "        priceData = closeDataSet.loc[start:end] # 당월 가격 데이터\n",
    "        cumReturn = getCumulativeReturn(priceData) # 당월 누적 수익률\n",
    "        weightedCumReturn = weight * cumReturn # 당월 리밸런싱 비율이 반영된 누적 수익률\n",
    "        netCumReturn = totalAsset * weightedCumReturn # 전월 투자 결과 반영\n",
    "\n",
    "        start = end # start 갱신\n",
    "        totalAsset = netCumReturn.iloc[-1].sum() # 총 자산 갱신\n",
    "        portfolio = pd.concat([portfolio, netCumReturn]) # 매월 데이터 추가\n",
    "    \n",
    "    portfolio = portfolio.loc[~portfolio.index.duplicated(keep='last')] # 중복 데이터 제거\n",
    "    portfolioCumulativeReturn = portfolio.sum(axis=1) # 포트폴리오 누적 수익률\n",
    "    portfolioDayReturn = (portfolioCumulativeReturn / portfolioCumulativeReturn.shift(1)).fillna(1) # 포트폴리오 일간 수익률\n",
    "    \n",
    "    return portfolioDayReturn, portfolioCumulativeReturn"
   ]
  },
  {
   "cell_type": "raw",
   "id": "38e9aafc",
   "metadata": {
    "scrolled": true
   },
   "source": [
    "# 일간 수익률을 활용한 함수\n",
    "\n",
    "def getRebalancingPortfolioResult(closeDataSet, weightDf=None):\n",
    "    \"\"\"\n",
    "    리밸런싱 포트폴리오 결과\n",
    "    closeDataSet: 종가 데이터\n",
    "    weight: 포트폴리오 개별자산 비중\n",
    "    return: 포트폴리오 일간수익률, 누적수익률\n",
    "    \"\"\"\n",
    "    \n",
    "    rebalancingDate = getRebalancingDate(closeDataSet) # 리밸런싱 날짜\n",
    "    \n",
    "    # 자산별 비중. 기본값: 동일비중\n",
    "    if weightDf is None:\n",
    "        weightDf = pd.DataFrame([[1/len(closeDataSet.columns)] * len(closeDataSet.columns)] * len(rebalancingDate),\n",
    "                              index=rebalancingDate,\n",
    "                              columns=closeDataSet.columns)\n",
    "      \n",
    "    totalNormalizedAssetFlow = [] # 정규화된 전체 자산흐름\n",
    "    start = rebalancingDate[0] # 첫 투자일 시작일\n",
    "    dayReturn = getDayReturn(closeDataSet).loc[start:] # 자산 일별 수익률\n",
    "\n",
    "    for end in rebalancingDate[1:]:\n",
    "        weight = weightDf.loc[start] # 당기 리밸런싱 비율\n",
    "\n",
    "        priceData = closeDataSet.loc[start: end] # 당기 가격 데이터\n",
    "        cumulativeReturn = priceData / priceData.iloc[0] # 당기 개별자산 누적 수익률\n",
    "\n",
    "        # 자산별 비중이 반영된 개별자산 누적 수익률\n",
    "        weightedCumulativeReturn = weight * cumulativeReturn\n",
    "        # 자산흐름 정규화: 시기별 각 자산 보유 비율\n",
    "        normalizedAssetFlow = weightedCumulativeReturn.divide(weightedCumulativeReturn.sum(axis=1), axis=0) # 각 행의 합으로 각 행을 나누기\n",
    "\n",
    "        totalNormalizedAssetFlow.append(normalizedAssetFlow)\n",
    "        start = end # 리밸런싱 날짜업데이트\n",
    "\n",
    "    # 데이터프레임으로 바꾸기\n",
    "    totalNormalizedAssetFlow = pd.concat(totalNormalizedAssetFlow) \n",
    "    # 매달 마지막 영업일엔 리밸런싱이 들어간 row만 남긴다.\n",
    "    totalNormalizedAssetFlow = totalNormalizedAssetFlow.loc[~totalNormalizedAssetFlow.index.duplicated(keep='last')]\n",
    "    \n",
    "    # 자산별 비중이 반영된 개별자산 일별 수익률\n",
    "    weightedDayReturn = totalNormalizedAssetFlow * dayReturn.shift(-1).fillna(0)\n",
    "    # 포트폴리오 일별 수익률 = 자산별 비중이 반영된 개별자산 일별 수익률의 합\n",
    "    portfolioDayReturn = weightedDayReturn.sum(axis=1).shift(1).fillna(1)\n",
    "    # 포트폴리오 누적 수익률\n",
    "    portfolioCumulativeReturn = portfolioDayReturn.cumprod()\n",
    "    \n",
    "    return portfolioDayReturn, portfolioCumulativeReturn\n",
    "\n",
    "getRebalancingPortfolioResult(closeDataSet)"
   ]
  },
  {
   "cell_type": "markdown",
   "id": "8653e211",
   "metadata": {},
   "source": [
    "  \n",
    " "
   ]
  },
  {
   "cell_type": "markdown",
   "id": "78798cf1",
   "metadata": {},
   "source": [
    "  \n",
    " "
   ]
  },
  {
   "cell_type": "markdown",
   "id": "8c3ab5d0",
   "metadata": {},
   "source": [
    "#### 실전 데이터 적용"
   ]
  },
  {
   "cell_type": "code",
   "execution_count": null,
   "id": "c3f0b894",
   "metadata": {
    "scrolled": true
   },
   "outputs": [],
   "source": [
    "# 데이터 로드\n",
    "kodex200 = getCloseData(\"069500\", \"2002\") # 코스피200 ETF\n",
    "kodex10Bond = getCloseData(\"152380\", \"2002\") # kodex 국고채 10년물 etf\n",
    "\n",
    "# kodex200 = 069500\n",
    "# kodex10Bond = 152380\n",
    "# S&P500 = SPY\n",
    "# 미국 7-10 국채 = IEF\n",
    "\n",
    "closeDataSet = pd.concat([kodex200, kodex10Bond], axis=1)\n",
    "closeDataSet.columns = ['kodex200', 'kodex10Bond']\n",
    "closeDataSet.dropna(inplace=True)\n",
    "rebalancingDate = getRebalancingDate(closeDataSet)\n",
    "closeDataSet = closeDataSet.loc[rebalancingDate[0]:]\n",
    "closeDataSet"
   ]
  },
  {
   "cell_type": "code",
   "execution_count": null,
   "id": "e6eaff57",
   "metadata": {},
   "outputs": [],
   "source": [
    "weight= pd.DataFrame([[0.6, 0.4]] * len(closeDataSet), index=closeDataSet.index, columns=closeDataSet.columns) "
   ]
  },
  {
   "cell_type": "code",
   "execution_count": null,
   "id": "00b9f1fa",
   "metadata": {
    "scrolled": false
   },
   "outputs": [],
   "source": [
    "rebalPortfolioDayReturn, rebalPortfolioCumulativeReturn = getRebalancingPortfolioResult(closeDataSet)"
   ]
  },
  {
   "cell_type": "code",
   "execution_count": null,
   "id": "41759d12",
   "metadata": {},
   "outputs": [],
   "source": [
    "rebalancingDate = getRebalancingDate(closeDataSet)"
   ]
  },
  {
   "cell_type": "code",
   "execution_count": null,
   "id": "5efea137",
   "metadata": {},
   "outputs": [],
   "source": [
    "portfolioDayReturn, portfolioCumulativeReturn = getPortfolioResult(closeDataSet.loc[rebalancingDate[0]:])"
   ]
  },
  {
   "cell_type": "markdown",
   "id": "a8f22c7e",
   "metadata": {},
   "source": [
    "#### 전략 성과 비교"
   ]
  },
  {
   "cell_type": "code",
   "execution_count": null,
   "id": "e64159c5",
   "metadata": {},
   "outputs": [],
   "source": [
    "print(\"리밸런싱 포트폴리오 누적 수익률\")\n",
    "print(rebalPortfolioCumulativeReturn.iloc[-1])\n",
    "\n",
    "rebalCagr, rebalDD, rebalMDD = getEvaluation(rebalPortfolioCumulativeReturn)"
   ]
  },
  {
   "cell_type": "code",
   "execution_count": null,
   "id": "f32071a0",
   "metadata": {
    "scrolled": true
   },
   "outputs": [],
   "source": [
    "print(\"Buy & Hold 포트폴리오 누적 수익률\")\n",
    "print(portfolioCumulativeReturn.iloc[-1])\n",
    "cagr, dd, mdd = getEvaluation(portfolioCumulativeReturn)\n"
   ]
  },
  {
   "cell_type": "code",
   "execution_count": null,
   "id": "a52abdab",
   "metadata": {
    "scrolled": true
   },
   "outputs": [],
   "source": [
    "stockDayReturn = getDayReturn(kodex200.loc[rebalancingDate[0]:])\n",
    "stockCumReturn = getCumulativeReturn(kodex200.loc[rebalancingDate[0]:])\n",
    "\n",
    "print(\"주식 100% 포트폴리오 누적 수익률\")\n",
    "print(stockCumReturn.iloc[-1])\n",
    "cagr, dd, mdd = getEvaluation(stockCumReturn)"
   ]
  },
  {
   "cell_type": "code",
   "execution_count": null,
   "id": "8d552e43",
   "metadata": {
    "scrolled": true
   },
   "outputs": [],
   "source": [
    "plt.rc('font', family='malgun gothic')\n",
    "plt.figure(figsize=(20,8))\n",
    "rebalPortfolioCumulativeReturn.plot(label=\"리밸런싱\")\n",
    "portfolioCumulativeReturn.plot(label=\"buy&hold\")\n",
    "stockCumReturn.plot(label=\"stock only\")\n",
    "plt.legend()\n",
    "plt.show()"
   ]
  },
  {
   "cell_type": "markdown",
   "id": "cc78778f",
   "metadata": {},
   "source": [
    "정리: 2021까지는 단순히 주식에 100% 올인하는 것보다. 채권과 혼합하여 포트폴리오를 구성하면 훨씬 더 안정적이고 수익률도 높게 만들 수 있었다.  \n",
    "하지만, 이번 포트폴리오는 채권과 주식이 어떤 상황에서든 절반으로 나누어져 있기 때문에,(그리고 채권 가격이 커플링) 2021년 주식 가파른 상승장이 왔을 때는 그 추세를 누리지 못했다.  \n",
    "장세를 반영하여 포트폴리오 비율을 조절할 필요가 있다. -> 추세 개념과 모멘텀"
   ]
  },
  {
   "cell_type": "markdown",
   "id": "e4fc9e72",
   "metadata": {},
   "source": [
    "  \n",
    "  "
   ]
  }
 ],
 "metadata": {
  "kernelspec": {
   "display_name": "AITrading",
   "language": "python",
   "name": "aitradingproject"
  },
  "language_info": {
   "codemirror_mode": {
    "name": "ipython",
    "version": 3
   },
   "file_extension": ".py",
   "mimetype": "text/x-python",
   "name": "python",
   "nbconvert_exporter": "python",
   "pygments_lexer": "ipython3",
   "version": "3.9.12"
  }
 },
 "nbformat": 4,
 "nbformat_minor": 5
}
