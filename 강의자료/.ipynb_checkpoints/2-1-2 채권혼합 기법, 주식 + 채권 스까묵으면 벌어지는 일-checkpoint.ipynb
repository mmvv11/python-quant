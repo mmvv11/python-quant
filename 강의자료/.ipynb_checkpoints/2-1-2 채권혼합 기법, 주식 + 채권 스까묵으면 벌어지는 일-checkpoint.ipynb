{
 "cells": [
  {
   "cell_type": "code",
   "execution_count": null,
   "id": "050f092c",
   "metadata": {},
   "outputs": [],
   "source": [
    "import FinanceDataReader as fdr\n",
    "import yfinance as yf\n",
    "import pandas as pd\n",
    "import matplotlib.pyplot as plt\n",
    "import numpy as np"
   ]
  },
  {
   "cell_type": "markdown",
   "id": "14191ecd",
   "metadata": {},
   "source": [
    "#### 함수"
   ]
  },
  {
   "cell_type": "code",
   "execution_count": null,
   "id": "553bcc36",
   "metadata": {},
   "outputs": [],
   "source": [
    "def getCloseData(ticker, start, end=None):\n",
    "    \"\"\"\n",
    "    종가 데이터\n",
    "    ticker: 종목 번호\n",
    "    start: 시작일\n",
    "    end: 마지막 날짜\n",
    "    return: 종목의 종가 데이터\n",
    "    \"\"\"\n",
    "    return fdr.DataReader(ticker, start, end)['Close']\n",
    "\n",
    "def getDayReturn(closeDataSet):\n",
    "    \"\"\"\n",
    "    개별종목 일별 수익률\n",
    "    closeDataSet: 종가 데이터\n",
    "    return: 종가 데이터의 일별 수익률\n",
    "    \"\"\"\n",
    "    return (closeDataSet / closeDataSet.shift(1)).fillna(1)\n",
    "\n",
    "def getCumulativeReturn(closeDataSet):\n",
    "    \"\"\"\n",
    "    개별종목 누적수익률 == 자산흐름\n",
    "    closeDataSet: 종가 데이터\n",
    "    return:종가데이터 누적수익률\n",
    "    \"\"\"\n",
    "    return closeDataSet / closeDataSet.iloc[0]\n",
    "\n",
    "def getPortfolioResult(closeDataSet, weight=None):\n",
    "    \"\"\"\n",
    "    포트폴리오 결과\n",
    "    closeDataSet: 종가 데이터\n",
    "    weight: 포트폴리오 개별자산 비중\n",
    "    return: 포트폴리오 일간수익률, 누적수익률\n",
    "    \"\"\"\n",
    "    # 개별종목 일별 수익률\n",
    "    dayReturn = getDayReturn(closeDataSet)\n",
    "    # 개별종목 누적 수익률\n",
    "    cumulativeReturn = getCumulativeReturn(closeDataSet)\n",
    "    # 자산별 비중. 기본값: 동일비중\n",
    "    if not weight:\n",
    "        weight = [1/len(closeDataSet.columns)] * len(closeDataSet.columns)\n",
    "        \n",
    "    # 포트폴리오 누적 수익률\n",
    "    portfolioCumulativeReturn = (weight * cumulativeReturn).sum(axis=1)\n",
    "    # 포트폴리오 일별 수익률\n",
    "    portfolioDayReturn = (portfolioCumulativeReturn / portfolioCumulativeReturn.shift(1)).fillna(1)\n",
    "        \n",
    "#     # 자산별 비중이 반영된 개별자산 누적 수익률\n",
    "#     weightedCumulativeReturn = weight * cumulativeReturn\n",
    "#     # 자산흐름 정규화: 시기별 각 자산 보유 비율\n",
    "#     normalizedAssetFlow = weightedCumulativeReturn.divide(weightedCumulativeReturn.sum(axis=1), axis=0) # 각 행의 합으로 각 행을 나누기\n",
    "#     # 자산별 비중이 반영된 개별자산 일별 수익률\n",
    "#     weightedDayReturn = normalizedAssetFlow * dayReturn.shift(-1).fillna(0)\n",
    "#     # 포트폴리오 일별 수익률 = 자산별 비중이 반영된 개별자산 일별 수익률의 합\n",
    "#     portfolioDayReturn = weightedDayReturn.sum(axis=1).shift(1).fillna(1)\n",
    "#     # 포트폴리오 누적 수익률\n",
    "#     portfolioCumulativeReturn = portfolioDayReturn.cumprod()\n",
    "# #     portfolioCumulativeReturn = weightedCumulativeReturn.sum(axis=1)\n",
    "    \n",
    "    return portfolioDayReturn, portfolioCumulativeReturn\n",
    "\n",
    "def getEvaluation(cumulativeReturn):\n",
    "    \"\"\"\n",
    "    cagr, dd, mdd\n",
    "    투자 성과 지표\n",
    "    \"\"\"\n",
    "    # cagr\n",
    "    cagr = cumulativeReturn.iloc[-1] ** (252/len(cumulativeReturn))\n",
    "    # mdd\n",
    "    dd = (cumulativeReturn.cummax() - cumulativeReturn) / cumulativeReturn.cummax() * 100\n",
    "    mdd= dd.max()\n",
    "    \n",
    "    print(f\"cagr: {cagr}\\nmdd: {mdd}\")\n",
    "\n",
    "    return cagr, dd, mdd"
   ]
  },
  {
   "cell_type": "markdown",
   "id": "02435f66",
   "metadata": {},
   "source": [
    "  "
   ]
  },
  {
   "cell_type": "markdown",
   "id": "66b9d125",
   "metadata": {},
   "source": [
    "  "
   ]
  },
  {
   "cell_type": "markdown",
   "id": "7094408f",
   "metadata": {},
   "source": [
    "# 채권 혼합"
   ]
  },
  {
   "cell_type": "markdown",
   "id": "54f1d814",
   "metadata": {},
   "source": [
    "채권을 혼합하는 이유는 일반적으로 채권은 주식과 가격 움직임이 반대이기 때문입니다.  \n",
    "서로 반대로 움직이는 종목으로 포트폴리오를 구성하여 한쪽이 하락할 때 그 손실을 줄이는 것이 목적입니다.  \n"
   ]
  },
  {
   "cell_type": "code",
   "execution_count": null,
   "id": "4dac9841",
   "metadata": {},
   "outputs": [],
   "source": [
    "# 코스피 ETF 채권 ETF 1:1 혼합\n",
    "\n",
    "# 데이터 로드\n",
    "kodex200 = getCloseData(\"069500\", \"2002\") # 코스피200 ETF\n",
    "kodex10Bond = getCloseData(\"152380\", \"2002\") # kodex 국고채 10년물 etf\n",
    "\n",
    "# kodex200 = 069500\n",
    "# kodex10Bond = 152380\n",
    "# S&P500 = SPY\n",
    "# 미국 7-10 국채 = IEF\n",
    "\n",
    "closeDataSet = pd.concat([kodex200, kodex10Bond], axis=1)\n",
    "closeDataSet.columns = ['kodex200', 'kodex10Bond']\n",
    "closeDataSet.dropna(inplace=True)\n",
    "closeDataSet"
   ]
  },
  {
   "cell_type": "code",
   "execution_count": null,
   "id": "e4cdadca",
   "metadata": {},
   "outputs": [],
   "source": [
    "# 결측치 가볍게 검사\n",
    "pd.isnull(closeDataSet).sum()"
   ]
  },
  {
   "cell_type": "markdown",
   "id": "def2333c",
   "metadata": {},
   "source": [
    "  "
   ]
  },
  {
   "cell_type": "markdown",
   "id": "60583587",
   "metadata": {},
   "source": [
    "  "
   ]
  },
  {
   "cell_type": "markdown",
   "id": "cb51ccbd",
   "metadata": {},
   "source": [
    "  "
   ]
  },
  {
   "cell_type": "markdown",
   "id": "22485839",
   "metadata": {},
   "source": [
    "**주식과 채권의 움직임 비교**"
   ]
  },
  {
   "cell_type": "code",
   "execution_count": null,
   "id": "8055f0a0",
   "metadata": {
    "scrolled": false
   },
   "outputs": [],
   "source": [
    "plt.figure(figsize=(12, 5))\n",
    "closeDataSet['kodex200'].plot(label=\"stock\")\n",
    "closeDataSet['kodex10Bond'].plot(label=\"bond\")\n",
    "plt.legend()\n",
    "plt.show()"
   ]
  },
  {
   "cell_type": "markdown",
   "id": "674a893e",
   "metadata": {},
   "source": [
    "가격 수준이 다르기 때문에 비교가 쉽지 않습니다.  \n",
    "정규화를 통해 해결해볼까요?  \n",
    "정규분포의 특성을 이용해 자료의 평균으로부터 어느정도 떨어져있는지에 대한 값으로 사용할 수 있습니다.  \n",
    "서로 다른 가격 수준을 가지더라도 -1~1 사이의 값으로 확인 할 수 있어서 주식과 채권 가격 사이의 움직임을 한눈에 보기에 적합합니다.  \n",
    "\n",
    "정규분포에 관한 자세한 내용은 검색해보시길..  \n",
    "\n",
    "정규화 = $ \\frac{주가 - 주가 평균}{주가 표준편차} $"
   ]
  },
  {
   "cell_type": "code",
   "execution_count": null,
   "id": "11421ad5",
   "metadata": {},
   "outputs": [],
   "source": [
    "# 데이터 정규화\n",
    "normalizedCloseDataSet = (closeDataSet - closeDataSet.mean()) / closeDataSet.std()"
   ]
  },
  {
   "cell_type": "code",
   "execution_count": null,
   "id": "3edef081",
   "metadata": {
    "scrolled": true
   },
   "outputs": [],
   "source": [
    "# 정규화 가격 시각화\n",
    "plt.figure(figsize=(20, 5))\n",
    "normalizedCloseDataSet['kodex200'].plot(label=\"stock\")\n",
    "normalizedCloseDataSet['kodex10Bond'].plot(label=\"bond\")\n",
    "plt.legend()\n",
    "plt.show()"
   ]
  },
  {
   "cell_type": "markdown",
   "id": "7114f4ff",
   "metadata": {},
   "source": [
    "최근 2022년부터는 금리인상으로 인해 채권과 주식 가격이 커플링되는 현상이 나타났지만, 일반적으로 채권과 주식은 반대로 움직이는 것을 확인했습니다."
   ]
  },
  {
   "cell_type": "markdown",
   "id": "149410fa",
   "metadata": {},
   "source": [
    "  "
   ]
  },
  {
   "cell_type": "markdown",
   "id": "ab268148",
   "metadata": {},
   "source": [
    "  "
   ]
  },
  {
   "cell_type": "markdown",
   "id": "a2beebe8",
   "metadata": {},
   "source": [
    "  "
   ]
  },
  {
   "cell_type": "markdown",
   "id": "f9525401",
   "metadata": {},
   "source": [
    "### 주식 ETF 성과\n",
    "\n",
    "우선 KODEX200은 코스피 200에 랭크된 종목에 골고루 분산투자하는 ETF입니다.  \n",
    "이로 인해 분산투자를 했다고 가정하고,\n",
    "주식 분산 투자 성과를 계산해보겠습니다."
   ]
  },
  {
   "cell_type": "code",
   "execution_count": null,
   "id": "f106b0bf",
   "metadata": {},
   "outputs": [],
   "source": [
    "kodex200DayReturn = getDayReturn(closeDataSet['kodex200'])\n",
    "kodex200CumReturn = getCumulativeReturn(closeDataSet['kodex200'])\n",
    "\n",
    "kodex200Cagr, kodex200Dd, kodex200Mdd = getEvaluation(kodex200CumReturn)"
   ]
  },
  {
   "cell_type": "code",
   "execution_count": null,
   "id": "b16c8a84",
   "metadata": {},
   "outputs": [],
   "source": [
    "plt.figure(figsize=(12, 8))\n",
    "kodex200CumReturn.plot(label=\"stock\")\n",
    "plt.legend()\n",
    "plt.show()"
   ]
  },
  {
   "cell_type": "markdown",
   "id": "b082327e",
   "metadata": {},
   "source": [
    "연평균 수익률이 4.7%이면 나쁘지 않을 수 있지만, MDD가 약 38%입니다.  \n",
    "결코 낮지 않은 수치입니다."
   ]
  },
  {
   "cell_type": "markdown",
   "id": "624737b5",
   "metadata": {},
   "source": [
    "  "
   ]
  },
  {
   "cell_type": "markdown",
   "id": "92ab8a98",
   "metadata": {},
   "source": [
    "  "
   ]
  },
  {
   "cell_type": "markdown",
   "id": "0b9189bb",
   "metadata": {},
   "source": [
    "  "
   ]
  },
  {
   "cell_type": "markdown",
   "id": "1811aeef",
   "metadata": {},
   "source": [
    "## 채권 ETF와 1:1 혼합할 때 성과"
   ]
  },
  {
   "cell_type": "code",
   "execution_count": null,
   "id": "ab5d5469",
   "metadata": {},
   "outputs": [],
   "source": [
    "# 지난번 구현해둔 함수를 사용해서 간편하게 구할 수 있음\n",
    "portDayReturn, portCumReturn = getPortfolioResult(closeDataSet)"
   ]
  },
  {
   "cell_type": "code",
   "execution_count": null,
   "id": "34411bb7",
   "metadata": {},
   "outputs": [],
   "source": [
    "portCumReturn"
   ]
  },
  {
   "cell_type": "code",
   "execution_count": null,
   "id": "9853b049",
   "metadata": {},
   "outputs": [],
   "source": [
    "# 투자 성과 cagr, dd, mdd\n",
    "portCagr, portDd, portMdd = getEvaluation(portCumReturn)"
   ]
  },
  {
   "cell_type": "markdown",
   "id": "00e6e571",
   "metadata": {},
   "source": [
    "**시각화**"
   ]
  },
  {
   "cell_type": "code",
   "execution_count": null,
   "id": "f5c0386c",
   "metadata": {
    "scrolled": false
   },
   "outputs": [],
   "source": [
    "plt.figure(figsize=(20, 15))\n",
    "\n",
    "# 수익곡선\n",
    "plt.subplot(2,1,1)\n",
    "kodex200CumReturn.plot(label=\"stock\")\n",
    "portCumReturn.plot(label=\"portfolio\")\n",
    "plt.legend()\n",
    "\n",
    "# dd 곡선\n",
    "plt.subplot(2,1,2)\n",
    "plt.plot(kodex200Dd * -1, label=\"stock drop rate\")\n",
    "plt.plot(portDd * -1, label=\"portfolid drop rate\")\n",
    "plt.legend()\n",
    "\n",
    "plt.show()"
   ]
  },
  {
   "cell_type": "markdown",
   "id": "148b3c9c",
   "metadata": {},
   "source": [
    "코스피200 ETF에만 투자했을 땐 MDD가 38%에 달했지만  \n",
    "채권 ETF를 혼합했을 땐 MDD가 16.7%로 약 20% 이상 감소하여 효과적으로 리스크를 관리했습니다."
   ]
  }
 ],
 "metadata": {
  "kernelspec": {
   "display_name": "AITrading",
   "language": "python",
   "name": "aitradingproject"
  },
  "language_info": {
   "codemirror_mode": {
    "name": "ipython",
    "version": 3
   },
   "file_extension": ".py",
   "mimetype": "text/x-python",
   "name": "python",
   "nbconvert_exporter": "python",
   "pygments_lexer": "ipython3",
   "version": "3.9.12"
  }
 },
 "nbformat": 4,
 "nbformat_minor": 5
}
