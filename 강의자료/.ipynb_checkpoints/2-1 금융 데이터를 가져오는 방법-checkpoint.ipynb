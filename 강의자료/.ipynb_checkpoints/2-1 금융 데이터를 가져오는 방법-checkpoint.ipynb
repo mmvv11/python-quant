{
 "cells": [
  {
   "cell_type": "markdown",
   "id": "cc2aa480",
   "metadata": {},
   "source": [
    "FinanceDataReader 설치와 간단한 사용법\n",
    "\n",
    "https://financedata.github.io/posts/finance-data-reader-users-guide.html"
   ]
  },
  {
   "cell_type": "code",
   "execution_count": null,
   "id": "52e8dca9",
   "metadata": {},
   "outputs": [],
   "source": [
    "pip install -U finance-datareader"
   ]
  },
  {
   "cell_type": "code",
   "execution_count": null,
   "id": "cf3d6527",
   "metadata": {},
   "outputs": [],
   "source": [
    "import FinanceDataReader as fdr"
   ]
  },
  {
   "cell_type": "markdown",
   "id": "bc93df87",
   "metadata": {},
   "source": [
    "  "
   ]
  },
  {
   "cell_type": "code",
   "execution_count": null,
   "id": "7e312a6e",
   "metadata": {},
   "outputs": [],
   "source": [
    "# test\n",
    "fdr.DataReader(\"005930\", \"2020\") # 삼성전자 종목번호를 넣고 돌리기"
   ]
  },
  {
   "cell_type": "code",
   "execution_count": null,
   "id": "ecd332dd",
   "metadata": {},
   "outputs": [],
   "source": [
    "# test\n",
    "fdr.DataReader(\"SPY\", \"2020\") # 미국 ETF, SPY 종목번호를 넣고 돌리기"
   ]
  }
 ],
 "metadata": {
  "kernelspec": {
   "display_name": "AITrading",
   "language": "python",
   "name": "aitradingproject"
  },
  "language_info": {
   "codemirror_mode": {
    "name": "ipython",
    "version": 3
   },
   "file_extension": ".py",
   "mimetype": "text/x-python",
   "name": "python",
   "nbconvert_exporter": "python",
   "pygments_lexer": "ipython3",
   "version": "3.9.7"
  }
 },
 "nbformat": 4,
 "nbformat_minor": 5
}
