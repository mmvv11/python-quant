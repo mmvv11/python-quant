{
 "cells": [
  {
   "cell_type": "markdown",
   "id": "e8ba9a77",
   "metadata": {},
   "source": [
    "### 정적 자산 배분, 동적 자산 배분?\n",
    "\n",
    "정적자산배분이란, 다양한 자산군을 고정된 비율에 맞춰 배분하는 방식입니다.  \n",
    "예를들면, 앞서 살펴본 주식, 채권 1:1 리밸런싱 전략 등이 정적자산배분의 예시라고 할 수 있습니다.  \n",
    "\n",
    "반면 동적자산배분이란, 시장 상황에 맞춰서 투자 비중을 동적으로 바꿔가며 배분하는 방식입니다.  \n",
    "예를들면, 앞서 살펴본 평균 모멘텀 스코어 전략이 동적자산배분의 예시라고 할 수 있습니다.\n",
    "\n",
    "\n",
    "유명한 자산배분전략을 직접 구현해보겠습니다."
   ]
  },
  {
   "cell_type": "markdown",
   "id": "e3e50a96",
   "metadata": {},
   "source": [
    "#### 정적자산배분에서 사용하는 ETF\n",
    "\n",
    "- VTI 미국 전체 주식 ETF\n",
    "- VBR 미국 소형 가치주 ETF\n",
    "- TLT 미국 장기채권 ETF\n",
    "- IEF 미국 중기채권 ETF\n",
    "- IEI 미국 단기채권 ETF\n",
    "- SHY 미국 초단기채권 ETF\n",
    "- GSG 원자재 ETF\n",
    "- GLD 금 ETF"
   ]
  },
  {
   "cell_type": "markdown",
   "id": "3433b301",
   "metadata": {},
   "source": [
    "#### 동적자산배분에서 사용하는 ETF\n",
    "\n",
    "- VTI 미국 전체 주식 ETF\n",
    "- VBR 미국 소형 가치주 ETF\n",
    "- SPY 미국 S&P500 ETF\n",
    "- VWO 전 세계 신흥국 ETF\n",
    "- VEA 미국 제외 선진국 ETF\n",
    "- EWJ 일본 주식 ETF\n",
    "- EFA 미국 제외 선진국 ETF\n",
    "- QQQ 나스닥 ETF\n",
    "- VGK 유럽 선진국 ETF\n",
    "- IWM 러시아 러셀 2000 ETF\n",
    "- EEM 전세계 신흥국 ETF\n",
    "\n",
    "\n",
    "- BND 미국 전체 채권 ETF\n",
    "- AGG 미국 전체 채권 ETF\n",
    "- HYG 하이일드 채권(저신용 정크본드) ETF\n",
    "- SHV 미국 단기 국채 ETF\n",
    "- UST 미국 중기채 레버리지(2배) ETF\n",
    "- LQD 미국 회사채 ETF\n",
    "- TLT 미국 장기채권 ETF\n",
    "- IEF 미국 중기채권 ETF\n",
    "- IEI 미국 단기채권 ETF\n",
    "- SHY 미국 초단기채권 ETF\n",
    "\n",
    "\n",
    "- VNQ 미국 상업용 부동산 리츠 ETF\n",
    "\n",
    "\n",
    "- GSG 원자재 ETF\n",
    "- DBC 원자재 ETF\n",
    "\n",
    "\n",
    "- GLD 금 ETF"
   ]
  }
 ],
 "metadata": {
  "kernelspec": {
   "display_name": "AITrading",
   "language": "python",
   "name": "aitradingproject"
  },
  "language_info": {
   "codemirror_mode": {
    "name": "ipython",
    "version": 3
   },
   "file_extension": ".py",
   "mimetype": "text/x-python",
   "name": "python",
   "nbconvert_exporter": "python",
   "pygments_lexer": "ipython3",
   "version": "3.9.12"
  }
 },
 "nbformat": 4,
 "nbformat_minor": 5
}
