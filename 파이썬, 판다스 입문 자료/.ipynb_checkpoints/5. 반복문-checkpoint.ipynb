{
 "cells": [
  {
   "cell_type": "markdown",
   "id": "87b8283f",
   "metadata": {},
   "source": [
    "## 반복문\n",
    "\n",
    "프로그래밍에서는 불필요한 반복을 줄이는 것이 핵심.  \n",
    "반복문은 그것을 해결해줄 방법!  \n",
    "\n",
    "#### 파이썬 반복문의 종류\n",
    "* while\n",
    "* for"
   ]
  },
  {
   "cell_type": "markdown",
   "id": "9795b9fd",
   "metadata": {},
   "source": [
    "  "
   ]
  },
  {
   "cell_type": "markdown",
   "id": "32363746",
   "metadata": {},
   "source": [
    "  "
   ]
  },
  {
   "cell_type": "markdown",
   "id": "4807c166",
   "metadata": {},
   "source": [
    "  "
   ]
  },
  {
   "cell_type": "markdown",
   "id": "eb6ff9c4",
   "metadata": {},
   "source": [
    "1~10까지 숫자를 print해볼 것임.  \n",
    "먼저 반복문을 사용하기 전.."
   ]
  },
  {
   "cell_type": "code",
   "execution_count": 1,
   "id": "bccc0059",
   "metadata": {},
   "outputs": [
    {
     "data": {
      "text/plain": [
       "[1, 2, 3, 4, 5, 6, 7, 8, 9, 10]"
      ]
     },
     "execution_count": 1,
     "metadata": {},
     "output_type": "execute_result"
    }
   ],
   "source": [
    "a = [i for i in range(1,11)]\n",
    "a"
   ]
  },
  {
   "cell_type": "code",
   "execution_count": 4,
   "id": "34e8e003",
   "metadata": {},
   "outputs": [
    {
     "name": "stdout",
     "output_type": "stream",
     "text": [
      "1\n",
      "2\n",
      "3\n",
      "********중략**********\n",
      "10\n"
     ]
    }
   ],
   "source": [
    "print(a[0])\n",
    "print(a[1])\n",
    "print(a[2])\n",
    "print(\"********중략**********\")\n",
    "print(a[9])"
   ]
  },
  {
   "cell_type": "markdown",
   "id": "e7c3058b",
   "metadata": {},
   "source": [
    "  "
   ]
  },
  {
   "cell_type": "markdown",
   "id": "ef00b979",
   "metadata": {},
   "source": [
    "  "
   ]
  },
  {
   "cell_type": "markdown",
   "id": "0e5d011e",
   "metadata": {},
   "source": [
    "  "
   ]
  },
  {
   "cell_type": "markdown",
   "id": "1ef5e9d7",
   "metadata": {},
   "source": [
    "## while 반복\n",
    "\n",
    "**사용법**\n",
    "\n",
    "```python\n",
    "while 조건:\n",
    "    반복할 코드"
   ]
  },
  {
   "cell_type": "code",
   "execution_count": null,
   "id": "d60bc596",
   "metadata": {},
   "outputs": [],
   "source": []
  },
  {
   "cell_type": "markdown",
   "id": "f1ab83a9",
   "metadata": {},
   "source": [
    "  "
   ]
  },
  {
   "cell_type": "markdown",
   "id": "88340bce",
   "metadata": {},
   "source": [
    "  "
   ]
  },
  {
   "cell_type": "markdown",
   "id": "40d463b2",
   "metadata": {},
   "source": [
    "  "
   ]
  },
  {
   "cell_type": "markdown",
   "id": "4bbd3d70",
   "metadata": {},
   "source": [
    "## for 반복"
   ]
  },
  {
   "cell_type": "code",
   "execution_count": null,
   "id": "db8958a1",
   "metadata": {},
   "outputs": [],
   "source": []
  }
 ],
 "metadata": {
  "kernelspec": {
   "display_name": "AITrading",
   "language": "python",
   "name": "aitradingproject"
  },
  "language_info": {
   "codemirror_mode": {
    "name": "ipython",
    "version": 3
   },
   "file_extension": ".py",
   "mimetype": "text/x-python",
   "name": "python",
   "nbconvert_exporter": "python",
   "pygments_lexer": "ipython3",
   "version": "3.9.12"
  }
 },
 "nbformat": 4,
 "nbformat_minor": 5
}
