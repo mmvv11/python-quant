{
 "cells": [
  {
   "cell_type": "markdown",
   "id": "90382a1d",
   "metadata": {},
   "source": [
    "## 함수\n",
    "\n",
    "변수가 데이터를 담는 공간이었다면,  \n",
    "함수는 특정 기능을 하는 코드를 담는 공간입니다.  \n",
    "\n",
    "더하기 함수, 빼기 함수 등.. 반복되고 자주 사용하는 기능을 묶어서 만들어 놓은 것이 바로 함수!"
   ]
  },
  {
   "cell_type": "markdown",
   "id": "528d3b90",
   "metadata": {},
   "source": [
    "**사용법**\n",
    "\n",
    "```python\n",
    "\n",
    "def 함수명(매개변수1, 매개변수2):\n",
    "    코드\n",
    "    return 반환 값\n",
    "```"
   ]
  },
  {
   "cell_type": "code",
   "execution_count": 3,
   "id": "811df48c",
   "metadata": {},
   "outputs": [],
   "source": [
    "def myAdd(x, y):\n",
    "    answer = 10*x + y\n",
    "    return answer"
   ]
  },
  {
   "cell_type": "code",
   "execution_count": 7,
   "id": "895b1093",
   "metadata": {
    "scrolled": false
   },
   "outputs": [
    {
     "data": {
      "text/plain": [
       "13"
      ]
     },
     "execution_count": 7,
     "metadata": {},
     "output_type": "execute_result"
    }
   ],
   "source": [
    "a = myAdd(1, 3)\n",
    "a"
   ]
  },
  {
   "cell_type": "markdown",
   "id": "156d5340",
   "metadata": {},
   "source": [
    "  "
   ]
  },
  {
   "cell_type": "markdown",
   "id": "c798f16c",
   "metadata": {},
   "source": [
    "  "
   ]
  },
  {
   "cell_type": "markdown",
   "id": "c0376a39",
   "metadata": {},
   "source": [
    "  "
   ]
  },
  {
   "cell_type": "markdown",
   "id": "32879079",
   "metadata": {},
   "source": [
    "**parameter(매개변수)**\n",
    " * 함수에 전달되는 값 (함수의 재료)\n",
    " * 함수의 목적과 기능에 따라서 매개변수가 없을 수도 있고, n개일 수도 있음\n",
    " * 정의된 순서에 따라 값을 전달해야 함, 그게 아니라면 값을 명시하여 전달\n"
   ]
  },
  {
   "cell_type": "code",
   "execution_count": 9,
   "id": "21cab505",
   "metadata": {
    "scrolled": true
   },
   "outputs": [
    {
     "data": {
      "text/plain": [
       "25"
      ]
     },
     "execution_count": 9,
     "metadata": {},
     "output_type": "execute_result"
    }
   ],
   "source": [
    "b = myAdd(y=5, x=2)\n",
    "b"
   ]
  },
  {
   "cell_type": "markdown",
   "id": "9ca4977f",
   "metadata": {},
   "source": [
    "  "
   ]
  },
  {
   "cell_type": "markdown",
   "id": "43d61421",
   "metadata": {},
   "source": [
    "  "
   ]
  },
  {
   "cell_type": "markdown",
   "id": "093a041c",
   "metadata": {},
   "source": [
    "  "
   ]
  },
  {
   "cell_type": "markdown",
   "id": "b146aafa",
   "metadata": {},
   "source": [
    "**기본값**\n",
    " * 매개변수 기본값 지정 가능\n",
    " * 전달되지 않으면 기본값으로 사용"
   ]
  },
  {
   "cell_type": "code",
   "execution_count": 10,
   "id": "7cd1e822",
   "metadata": {},
   "outputs": [],
   "source": [
    "def myAdd(x, y=3):\n",
    "    answer = 10*x + y\n",
    "    return answer"
   ]
  },
  {
   "cell_type": "code",
   "execution_count": 13,
   "id": "946f93f3",
   "metadata": {
    "scrolled": true
   },
   "outputs": [
    {
     "data": {
      "text/plain": [
       "13"
      ]
     },
     "execution_count": 13,
     "metadata": {},
     "output_type": "execute_result"
    }
   ],
   "source": [
    "c = myAdd(1#### **multiple return (복수 값 반환)**\n",
    " + tuple반환을 하여 복수개의 값 리턴 가능)\n",
    "c"
   ]
  },
  {
   "cell_type": "markdown",
   "id": "2be4be91",
   "metadata": {},
   "source": [
    "  "
   ]
  },
  {
   "cell_type": "markdown",
   "id": "3a1e85f9",
   "metadata": {},
   "source": [
    "  "
   ]
  },
  {
   "cell_type": "markdown",
   "id": "bd829799",
   "metadata": {},
   "source": [
    "  "
   ]
  },
  {
   "cell_type": "markdown",
   "id": "03013404",
   "metadata": {},
   "source": [
    "#### **multiple return (복수 값 반환)**\n",
    " + tuple반환을 하여 복수개의 값 리턴 가능"
   ]
  },
  {
   "cell_type": "code",
   "execution_count": null,
   "id": "44394b7f",
   "metadata": {},
   "outputs": [],
   "source": []
  },
  {
   "cell_type": "markdown",
   "id": "fde62aa7",
   "metadata": {},
   "source": [
    "  "
   ]
  },
  {
   "cell_type": "markdown",
   "id": "adaba61c",
   "metadata": {},
   "source": [
    "  "
   ]
  },
  {
   "cell_type": "markdown",
   "id": "3cf98a99",
   "metadata": {},
   "source": [
    "  "
   ]
  },
  {
   "cell_type": "markdown",
   "id": "cbdc6b69",
   "metadata": {},
   "source": [
    "#### **variable scope (변수의 범위)** \n",
    " + 변수가 참조 가능한 코드상의 범위를 명시\n",
    " + 함수내의 변수는 자신이 속한 코드 블록이 종료되면 소멸됨\n",
    " + 이렇게 특정 코드 블록에서 선언된 변수를 **지역변수(local variable)** 이라고 함\n",
    " + 반대로 가장 상단에서 정의되어 프로그램 종료 전까지 유지되는 변수를 **전역변수(global variable)**이라고 함\n",
    " + 같은 이름의 지역변수와 전역변수가 존재할 경우, 지역변수의 우선순위가 더 높음"
   ]
  },
  {
   "cell_type": "code",
   "execution_count": null,
   "id": "58728afd",
   "metadata": {},
   "outputs": [],
   "source": []
  }
 ],
 "metadata": {
  "kernelspec": {
   "display_name": "AITrading",
   "language": "python",
   "name": "aitradingproject"
  },
  "language_info": {
   "codemirror_mode": {
    "name": "ipython",
    "version": 3
   },
   "file_extension": ".py",
   "mimetype": "text/x-python",
   "name": "python",
   "nbconvert_exporter": "python",
   "pygments_lexer": "ipython3",
   "version": "3.9.12"
  }
 },
 "nbformat": 4,
 "nbformat_minor": 5
}
