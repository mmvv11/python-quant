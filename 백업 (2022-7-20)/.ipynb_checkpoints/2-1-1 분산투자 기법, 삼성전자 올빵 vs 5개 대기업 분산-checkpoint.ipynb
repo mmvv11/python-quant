{
 "cells": [
  {
   "cell_type": "markdown",
   "id": "a344aca6",
   "metadata": {},
   "source": [
    "## 분산투자\n",
    "\n"
   ]
  },
  {
   "cell_type": "markdown",
   "id": "344b02c0",
   "metadata": {},
   "source": [
    "분산투자 개념은 한번 쯤은 들어보았을 것입니다.  \n",
    "가장 큰 수익을 올릴 수 있는 종목을 알아낼 수 있으면 좋겠지만, 주가를 예측하는 것은 불가능하기 때문에  \n",
    "그것에 대한 대안으로 다양한 주식에 투자하는 것이 바로 분산투자입니다.  \n",
    "분산 투자하면 다수 종목의 평균적인 수익과 손실을 추구할 수 있게 됩니다."
   ]
  },
  {
   "cell_type": "code",
   "execution_count": 1,
   "id": "cf3d6527",
   "metadata": {},
   "outputs": [],
   "source": [
    "import FinanceDataReader as fdr\n",
    "import pandas as pd\n",
    "import matplotlib.pyplot as plt\n",
    "import numpy as np"
   ]
  },
  {
   "cell_type": "markdown",
   "id": "bc93df87",
   "metadata": {},
   "source": [
    "  "
   ]
  },
  {
   "cell_type": "markdown",
   "id": "d54f215f",
   "metadata": {},
   "source": [
    "  "
   ]
  },
  {
   "cell_type": "markdown",
   "id": "85adf101",
   "metadata": {},
   "source": [
    "  "
   ]
  },
  {
   "cell_type": "code",
   "execution_count": 2,
   "id": "40e0ea00",
   "metadata": {},
   "outputs": [
    {
     "name": "stdout",
     "output_type": "stream",
     "text": [
      "             Open   High    Low  Close    Volume    Change\n",
      "Date                                                      \n",
      "2020-01-02  55500  56000  55000  55200  12993228 -0.010753\n",
      "2020-01-03  56000  56600  54900  55500  15422255  0.005435\n",
      "2020-01-06  54900  55600  54600  55500  10278951  0.000000\n",
      "2020-01-07  55700  56400  55600  55800  10009778  0.005405\n",
      "2020-01-08  56200  57400  55900  56800  23501171  0.017921\n",
      "             Open   High    Low  Close  Volume    Change\n",
      "Date                                                    \n",
      "2020-01-02  30909  31010  30508  30609  241047 -0.006524\n",
      "2020-01-03  30810  31111  30308  30609  314848  0.000000\n",
      "2020-01-06  30206  31109  30106  31010  393715  0.013101\n",
      "2020-01-07  31110  32113  31009  32114  840186  0.035601\n",
      "2020-01-08  31813  32516  31412  32014  851619 -0.003114\n",
      "             Open   High    Low  Close   Volume    Change\n",
      "Date                                                     \n",
      "2020-01-02  96000  96200  94100  94700  2342070  0.006376\n",
      "2020-01-03  96500  97900  94300  94500  3021380 -0.002112\n",
      "2020-01-06  93000  95300  92800  94300  2577573 -0.002116\n",
      "2020-01-07  94500  95400  94000  94000  2489429 -0.003181\n",
      "2020-01-08  96400  99500  95200  97400  7014748  0.036170\n",
      "              Open    High     Low   Close  Volume    Change\n",
      "Date                                                        \n",
      "2020-01-02  187500  188000  182000  182500  300640 -0.021448\n",
      "2020-01-03  185000  186000  180500  181500  454492 -0.005479\n",
      "2020-01-06  180000  182000  178000  180500  287970 -0.005510\n",
      "2020-01-07  182500  187000  181500  187000  328624  0.036011\n",
      "2020-01-08  182000  183500  179000  183000  820867 -0.021390\n",
      "              Open    High     Low   Close   Volume    Change\n",
      "Date                                                         \n",
      "2020-01-02  121000  121000  118000  118000   556532 -0.020747\n",
      "2020-01-03  118500  119000  115000  116000  1145187 -0.016949\n",
      "2020-01-06  116000  117000  115500  116000   334574  0.000000\n",
      "2020-01-07  116500  117000  115500  115500   674196 -0.004310\n",
      "2020-01-08  115000  115500  111500  112000  1044825 -0.030303\n"
     ]
    }
   ],
   "source": [
    "# 데이터 가져오기\n",
    "\n",
    "samsung = fdr.DataReader(\"005930\", \"2000\")\n",
    "kakao = fdr.DataReader(\"035720\", \"2020\")\n",
    "sk = fdr.DataReader(\"000660\", \"2020\")\n",
    "naver = fdr.DataReader(\"035420\", \"2020\")\n",
    "hyundai = fdr.DataReader(\"005380\", \"2020\")\n",
    "print(samsung.head())\n",
    "print(kakao.head())\n",
    "print(sk.head())\n",
    "print(naver.head())\n",
    "print(hyundai.head())"
   ]
  },
  {
   "cell_type": "code",
   "execution_count": 3,
   "id": "880199f0",
   "metadata": {
    "scrolled": true
   },
   "outputs": [
    {
     "name": "stdout",
     "output_type": "stream",
     "text": [
      "Open      0\n",
      "High      0\n",
      "Low       0\n",
      "Close     0\n",
      "Volume    0\n",
      "Change    0\n",
      "dtype: int64\n",
      "Open      0\n",
      "High      0\n",
      "Low       0\n",
      "Close     0\n",
      "Volume    0\n",
      "Change    0\n",
      "dtype: int64\n",
      "Open      0\n",
      "High      0\n",
      "Low       0\n",
      "Close     0\n",
      "Volume    0\n",
      "Change    0\n",
      "dtype: int64\n",
      "Open      0\n",
      "High      0\n",
      "Low       0\n",
      "Close     0\n",
      "Volume    0\n",
      "Change    0\n",
      "dtype: int64\n",
      "Open      0\n",
      "High      0\n",
      "Low       0\n",
      "Close     0\n",
      "Volume    0\n",
      "Change    0\n",
      "dtype: int64\n"
     ]
    }
   ],
   "source": [
    "# 결측치 검사, 다행히 2020 부터 데이터에 결측치는 없다. 바로 사용해도 무방할듯\n",
    "print(pd.isnull(samsung).sum())\n",
    "print(pd.isnull(kakao).sum())\n",
    "print(pd.isnull(sk).sum())\n",
    "print(pd.isnull(naver).sum())\n",
    "print(pd.isnull(hyundai).sum())\n"
   ]
  },
  {
   "cell_type": "markdown",
   "id": "d53efb2f",
   "metadata": {},
   "source": [
    "  "
   ]
  },
  {
   "cell_type": "markdown",
   "id": "0f762759",
   "metadata": {},
   "source": [
    "  "
   ]
  },
  {
   "cell_type": "markdown",
   "id": "a1fc1e29",
   "metadata": {},
   "source": [
    "  "
   ]
  },
  {
   "cell_type": "markdown",
   "id": "32235fe5",
   "metadata": {},
   "source": [
    "**삼성전자 단일 종목 투자성과**"
   ]
  },
  {
   "cell_type": "code",
   "execution_count": 4,
   "id": "e3803985",
   "metadata": {},
   "outputs": [
    {
     "data": {
      "text/plain": [
       "Date\n",
       "2020-01-02    1.000000\n",
       "2020-01-03    1.005435\n",
       "2020-01-06    1.000000\n",
       "2020-01-07    1.005405\n",
       "2020-01-08    1.017921\n",
       "                ...   \n",
       "2022-06-02    0.989614\n",
       "2022-06-03    1.001499\n",
       "2022-06-07    0.980539\n",
       "2022-06-08    0.996947\n",
       "2022-06-09    0.992343\n",
       "Name: Close, Length: 602, dtype: float64"
      ]
     },
     "execution_count": 4,
     "metadata": {},
     "output_type": "execute_result"
    }
   ],
   "source": [
    "# 삼성전자 단일 종목 수익률\n",
    "samsungDayReturn = (samsung['Close'] / samsung['Close'].shift(1)).fillna(1)\n",
    "samsungDayReturn"
   ]
  },
  {
   "cell_type": "code",
   "execution_count": 5,
   "id": "f19f4c93",
   "metadata": {},
   "outputs": [
    {
     "data": {
      "text/plain": [
       "Date\n",
       "2020-01-02    1.000000\n",
       "2020-01-03    1.005435\n",
       "2020-01-06    1.005435\n",
       "2020-01-07    1.010870\n",
       "2020-01-08    1.028986\n",
       "                ...   \n",
       "2022-06-02    1.208333\n",
       "2022-06-03    1.210145\n",
       "2022-06-07    1.186594\n",
       "2022-06-08    1.182971\n",
       "2022-06-09    1.173913\n",
       "Name: Close, Length: 602, dtype: float64"
      ]
     },
     "execution_count": 5,
     "metadata": {},
     "output_type": "execute_result"
    }
   ],
   "source": [
    "# 삼전 누적수익률\n",
    "samsungCumulativeReturn = samsungDayReturn.cumprod()\n",
    "samsungCumulativeReturn"
   ]
  },
  {
   "cell_type": "code",
   "execution_count": 6,
   "id": "44ead245",
   "metadata": {},
   "outputs": [
    {
     "data": {
      "text/plain": [
       "Date\n",
       "2020-01-02    1.000000\n",
       "2020-01-03    1.005435\n",
       "2020-01-06    1.005435\n",
       "2020-01-07    1.010870\n",
       "2020-01-08    1.028986\n",
       "                ...   \n",
       "2022-06-02    1.208333\n",
       "2022-06-03    1.210145\n",
       "2022-06-07    1.186594\n",
       "2022-06-08    1.182971\n",
       "2022-06-09    1.173913\n",
       "Name: Close, Length: 602, dtype: float64"
      ]
     },
     "execution_count": 6,
     "metadata": {},
     "output_type": "execute_result"
    }
   ],
   "source": [
    "# 누적수익률을 구하는 다른 방법\n",
    "samsungCumulativeReturn = samsung['Close'] / samsung['Close'].iloc[0]\n",
    "samsungCumulativeReturn"
   ]
  },
  {
   "cell_type": "code",
   "execution_count": 7,
   "id": "cfc32490",
   "metadata": {
    "scrolled": true
   },
   "outputs": [
    {
     "name": "stdout",
     "output_type": "stream",
     "text": [
      "cagr:  1.0694239928663605\n",
      "mdd:  31.89102564102564\n"
     ]
    }
   ],
   "source": [
    "# cagr\n",
    "samsungCagr = samsungCumulativeReturn.iloc[-1] ** (252/len(samsung))\n",
    "# mdd\n",
    "samsungDd = (samsungCumulativeReturn.cummax() - samsungCumulativeReturn) / samsungCumulativeReturn.cummax() * 100\n",
    "samsungMdd = samsungDd.max()\n",
    "\n",
    "print(\"cagr: \",samsungCagr)\n",
    "print(\"mdd: \",samsungMdd)"
   ]
  },
  {
   "cell_type": "code",
   "execution_count": 8,
   "id": "3c42e6ea",
   "metadata": {},
   "outputs": [
    {
     "data": {
      "image/png": "[encoded data removed]",
      "text/plain": [
       "<Figure size 864x360 with 1 Axes>"
      ]
     },
     "metadata": {
      "needs_background": "light"
     },
     "output_type": "display_data"
    }
   ],
   "source": [
    "# 시각화\n",
    "plt.figure(figsize=(12, 5))\n",
    "samsungCumulativeReturn.plot()\n",
    "plt.show()"
   ]
  },
  {
   "cell_type": "markdown",
   "id": "59f6c131",
   "metadata": {},
   "source": [
    "  "
   ]
  },
  {
   "cell_type": "markdown",
   "id": "cc38124a",
   "metadata": {},
   "source": [
    "  "
   ]
  },
  {
   "cell_type": "markdown",
   "id": "8758bcbe",
   "metadata": {},
   "source": [
    "  "
   ]
  },
  {
   "cell_type": "markdown",
   "id": "87643fad",
   "metadata": {},
   "source": [
    "**5개 종목 혼합 투자 성과와 누적 수익률 곡선**"
   ]
  },
  {
   "cell_type": "markdown",
   "id": "b41de884",
   "metadata": {},
   "source": [
    "삼성전자 단일 종목에 2020년부터 투자한 결과 CAGR은 7%, MDD는 32%  \n",
    "분산투자하면 어떻게 변화하는지 살펴보겠습니다."
   ]
  },
  {
   "cell_type": "code",
   "execution_count": 9,
   "id": "73a08086",
   "metadata": {},
   "outputs": [
    {
     "data": {
      "text/html": [
       "<div>\n",
       "<style scoped>\n",
       "    .dataframe tbody tr th:only-of-type {\n",
       "        vertical-align: middle;\n",
       "    }\n",
       "\n",
       "    .dataframe tbody tr th {\n",
       "        vertical-align: top;\n",
       "    }\n",
       "\n",
       "    .dataframe thead th {\n",
       "        text-align: right;\n",
       "    }\n",
       "</style>\n",
       "<table border=\"1\" class=\"dataframe\">\n",
       "  <thead>\n",
       "    <tr style=\"text-align: right;\">\n",
       "      <th></th>\n",
       "      <th>samsung</th>\n",
       "      <th>kakao</th>\n",
       "      <th>sk</th>\n",
       "      <th>naver</th>\n",
       "      <th>hyundai</th>\n",
       "    </tr>\n",
       "  </thead>\n",
       "  <tbody>\n",
       "    <tr>\n",
       "      <th>2020-01-02</th>\n",
       "      <td>55200</td>\n",
       "      <td>30609</td>\n",
       "      <td>94700</td>\n",
       "      <td>182500</td>\n",
       "      <td>118000</td>\n",
       "    </tr>\n",
       "    <tr>\n",
       "      <th>2020-01-03</th>\n",
       "      <td>55500</td>\n",
       "      <td>30609</td>\n",
       "      <td>94500</td>\n",
       "      <td>181500</td>\n",
       "      <td>116000</td>\n",
       "    </tr>\n",
       "    <tr>\n",
       "      <th>2020-01-06</th>\n",
       "      <td>55500</td>\n",
       "      <td>31010</td>\n",
       "      <td>94300</td>\n",
       "      <td>180500</td>\n",
       "      <td>116000</td>\n",
       "    </tr>\n",
       "    <tr>\n",
       "      <th>2020-01-07</th>\n",
       "      <td>55800</td>\n",
       "      <td>32114</td>\n",
       "      <td>94000</td>\n",
       "      <td>187000</td>\n",
       "      <td>115500</td>\n",
       "    </tr>\n",
       "    <tr>\n",
       "      <th>2020-01-08</th>\n",
       "      <td>56800</td>\n",
       "      <td>32014</td>\n",
       "      <td>97400</td>\n",
       "      <td>183000</td>\n",
       "      <td>112000</td>\n",
       "    </tr>\n",
       "    <tr>\n",
       "      <th>...</th>\n",
       "      <td>...</td>\n",
       "      <td>...</td>\n",
       "      <td>...</td>\n",
       "      <td>...</td>\n",
       "      <td>...</td>\n",
       "    </tr>\n",
       "    <tr>\n",
       "      <th>2022-06-02</th>\n",
       "      <td>66700</td>\n",
       "      <td>83700</td>\n",
       "      <td>107000</td>\n",
       "      <td>290000</td>\n",
       "      <td>187500</td>\n",
       "    </tr>\n",
       "    <tr>\n",
       "      <th>2022-06-03</th>\n",
       "      <td>66800</td>\n",
       "      <td>85700</td>\n",
       "      <td>107000</td>\n",
       "      <td>287500</td>\n",
       "      <td>187000</td>\n",
       "    </tr>\n",
       "    <tr>\n",
       "      <th>2022-06-07</th>\n",
       "      <td>65500</td>\n",
       "      <td>81900</td>\n",
       "      <td>104000</td>\n",
       "      <td>278000</td>\n",
       "      <td>183500</td>\n",
       "    </tr>\n",
       "    <tr>\n",
       "      <th>2022-06-08</th>\n",
       "      <td>65300</td>\n",
       "      <td>81500</td>\n",
       "      <td>106000</td>\n",
       "      <td>278000</td>\n",
       "      <td>183000</td>\n",
       "    </tr>\n",
       "    <tr>\n",
       "      <th>2022-06-09</th>\n",
       "      <td>64800</td>\n",
       "      <td>81000</td>\n",
       "      <td>106500</td>\n",
       "      <td>273500</td>\n",
       "      <td>181000</td>\n",
       "    </tr>\n",
       "  </tbody>\n",
       "</table>\n",
       "<p>602 rows × 5 columns</p>\n",
       "</div>"
      ],
      "text/plain": [
       "            samsung  kakao      sk   naver  hyundai\n",
       "2020-01-02    55200  30609   94700  182500   118000\n",
       "2020-01-03    55500  30609   94500  181500   116000\n",
       "2020-01-06    55500  31010   94300  180500   116000\n",
       "2020-01-07    55800  32114   94000  187000   115500\n",
       "2020-01-08    56800  32014   97400  183000   112000\n",
       "...             ...    ...     ...     ...      ...\n",
       "2022-06-02    66700  83700  107000  290000   187500\n",
       "2022-06-03    66800  85700  107000  287500   187000\n",
       "2022-06-07    65500  81900  104000  278000   183500\n",
       "2022-06-08    65300  81500  106000  278000   183000\n",
       "2022-06-09    64800  81000  106500  273500   181000\n",
       "\n",
       "[602 rows x 5 columns]"
      ]
     },
     "execution_count": 9,
     "metadata": {},
     "output_type": "execute_result"
    }
   ],
   "source": [
    "stocks = [samsung, kakao, sk, naver, hyundai]\n",
    "data = pd.DataFrame()\n",
    "\n",
    "for stock in stocks:\n",
    "    data = pd.concat([data, stock['Close']], axis=1)\n",
    "    \n",
    "data.columns = [\"samsung\", \"kakao\", \"sk\", \"naver\", \"hyundai\"]\n",
    "\n",
    "data"
   ]
  },
  {
   "cell_type": "markdown",
   "id": "df7e688e",
   "metadata": {},
   "source": [
    "  "
   ]
  },
  {
   "cell_type": "markdown",
   "id": "0ff2e9cd",
   "metadata": {},
   "source": [
    "  "
   ]
  },
  {
   "cell_type": "markdown",
   "id": "532101f4",
   "metadata": {},
   "source": [
    "  "
   ]
  },
  {
   "cell_type": "markdown",
   "id": "535b31bd",
   "metadata": {},
   "source": [
    "  "
   ]
  },
  {
   "cell_type": "markdown",
   "id": "31848f8c",
   "metadata": {},
   "source": [
    "#### 다중 종목의 수익률을 계산하는 원리\n",
    "\n",
    "https://sprinkle-guide-797.notion.site/4f7f60695edc4cebbfe568d442d0627a"
   ]
  },
  {
   "cell_type": "markdown",
   "id": "d8b37d5a",
   "metadata": {},
   "source": [
    "## 누적수익률 계산"
   ]
  },
  {
   "cell_type": "code",
   "execution_count": 10,
   "id": "d543befa",
   "metadata": {
    "scrolled": true
   },
   "outputs": [
    {
     "data": {
      "text/html": [
       "<div>\n",
       "<style scoped>\n",
       "    .dataframe tbody tr th:only-of-type {\n",
       "        vertical-align: middle;\n",
       "    }\n",
       "\n",
       "    .dataframe tbody tr th {\n",
       "        vertical-align: top;\n",
       "    }\n",
       "\n",
       "    .dataframe thead th {\n",
       "        text-align: right;\n",
       "    }\n",
       "</style>\n",
       "<table border=\"1\" class=\"dataframe\">\n",
       "  <thead>\n",
       "    <tr style=\"text-align: right;\">\n",
       "      <th></th>\n",
       "      <th>samsung</th>\n",
       "      <th>kakao</th>\n",
       "      <th>sk</th>\n",
       "      <th>naver</th>\n",
       "      <th>hyundai</th>\n",
       "    </tr>\n",
       "  </thead>\n",
       "  <tbody>\n",
       "    <tr>\n",
       "      <th>2020-01-02</th>\n",
       "      <td>1.000000</td>\n",
       "      <td>1.000000</td>\n",
       "      <td>1.000000</td>\n",
       "      <td>1.000000</td>\n",
       "      <td>1.000000</td>\n",
       "    </tr>\n",
       "    <tr>\n",
       "      <th>2020-01-03</th>\n",
       "      <td>1.005435</td>\n",
       "      <td>1.000000</td>\n",
       "      <td>0.997888</td>\n",
       "      <td>0.994521</td>\n",
       "      <td>0.983051</td>\n",
       "    </tr>\n",
       "    <tr>\n",
       "      <th>2020-01-06</th>\n",
       "      <td>1.000000</td>\n",
       "      <td>1.013101</td>\n",
       "      <td>0.997884</td>\n",
       "      <td>0.994490</td>\n",
       "      <td>1.000000</td>\n",
       "    </tr>\n",
       "    <tr>\n",
       "      <th>2020-01-07</th>\n",
       "      <td>1.005405</td>\n",
       "      <td>1.035601</td>\n",
       "      <td>0.996819</td>\n",
       "      <td>1.036011</td>\n",
       "      <td>0.995690</td>\n",
       "    </tr>\n",
       "    <tr>\n",
       "      <th>2020-01-08</th>\n",
       "      <td>1.017921</td>\n",
       "      <td>0.996886</td>\n",
       "      <td>1.036170</td>\n",
       "      <td>0.978610</td>\n",
       "      <td>0.969697</td>\n",
       "    </tr>\n",
       "    <tr>\n",
       "      <th>...</th>\n",
       "      <td>...</td>\n",
       "      <td>...</td>\n",
       "      <td>...</td>\n",
       "      <td>...</td>\n",
       "      <td>...</td>\n",
       "    </tr>\n",
       "    <tr>\n",
       "      <th>2022-06-02</th>\n",
       "      <td>0.989614</td>\n",
       "      <td>0.984706</td>\n",
       "      <td>0.990741</td>\n",
       "      <td>1.006944</td>\n",
       "      <td>0.989446</td>\n",
       "    </tr>\n",
       "    <tr>\n",
       "      <th>2022-06-03</th>\n",
       "      <td>1.001499</td>\n",
       "      <td>1.023895</td>\n",
       "      <td>1.000000</td>\n",
       "      <td>0.991379</td>\n",
       "      <td>0.997333</td>\n",
       "    </tr>\n",
       "    <tr>\n",
       "      <th>2022-06-07</th>\n",
       "      <td>0.980539</td>\n",
       "      <td>0.955659</td>\n",
       "      <td>0.971963</td>\n",
       "      <td>0.966957</td>\n",
       "      <td>0.981283</td>\n",
       "    </tr>\n",
       "    <tr>\n",
       "      <th>2022-06-08</th>\n",
       "      <td>0.996947</td>\n",
       "      <td>0.995116</td>\n",
       "      <td>1.019231</td>\n",
       "      <td>1.000000</td>\n",
       "      <td>0.997275</td>\n",
       "    </tr>\n",
       "    <tr>\n",
       "      <th>2022-06-09</th>\n",
       "      <td>0.992343</td>\n",
       "      <td>0.993865</td>\n",
       "      <td>1.004717</td>\n",
       "      <td>0.983813</td>\n",
       "      <td>0.989071</td>\n",
       "    </tr>\n",
       "  </tbody>\n",
       "</table>\n",
       "<p>602 rows × 5 columns</p>\n",
       "</div>"
      ],
      "text/plain": [
       "             samsung     kakao        sk     naver   hyundai\n",
       "2020-01-02  1.000000  1.000000  1.000000  1.000000  1.000000\n",
       "2020-01-03  1.005435  1.000000  0.997888  0.994521  0.983051\n",
       "2020-01-06  1.000000  1.013101  0.997884  0.994490  1.000000\n",
       "2020-01-07  1.005405  1.035601  0.996819  1.036011  0.995690\n",
       "2020-01-08  1.017921  0.996886  1.036170  0.978610  0.969697\n",
       "...              ...       ...       ...       ...       ...\n",
       "2022-06-02  0.989614  0.984706  0.990741  1.006944  0.989446\n",
       "2022-06-03  1.001499  1.023895  1.000000  0.991379  0.997333\n",
       "2022-06-07  0.980539  0.955659  0.971963  0.966957  0.981283\n",
       "2022-06-08  0.996947  0.995116  1.019231  1.000000  0.997275\n",
       "2022-06-09  0.992343  0.993865  1.004717  0.983813  0.989071\n",
       "\n",
       "[602 rows x 5 columns]"
      ]
     },
     "execution_count": 10,
     "metadata": {},
     "output_type": "execute_result"
    }
   ],
   "source": [
    "# 개별 자산 일별 수익률\n",
    "dayReturn = (data / data.shift(1)).fillna(1)\n",
    "dayReturn"
   ]
  },
  {
   "cell_type": "code",
   "execution_count": 20,
   "id": "5c448f15",
   "metadata": {},
   "outputs": [
    {
     "data": {
      "text/html": [
       "<div>\n",
       "<style scoped>\n",
       "    .dataframe tbody tr th:only-of-type {\n",
       "        vertical-align: middle;\n",
       "    }\n",
       "\n",
       "    .dataframe tbody tr th {\n",
       "        vertical-align: top;\n",
       "    }\n",
       "\n",
       "    .dataframe thead th {\n",
       "        text-align: right;\n",
       "    }\n",
       "</style>\n",
       "<table border=\"1\" class=\"dataframe\">\n",
       "  <thead>\n",
       "    <tr style=\"text-align: right;\">\n",
       "      <th></th>\n",
       "      <th>samsung</th>\n",
       "      <th>kakao</th>\n",
       "      <th>sk</th>\n",
       "      <th>naver</th>\n",
       "      <th>hyundai</th>\n",
       "    </tr>\n",
       "  </thead>\n",
       "  <tbody>\n",
       "    <tr>\n",
       "      <th>2020-01-02</th>\n",
       "      <td>1.000000</td>\n",
       "      <td>1.000000</td>\n",
       "      <td>1.000000</td>\n",
       "      <td>1.000000</td>\n",
       "      <td>1.000000</td>\n",
       "    </tr>\n",
       "    <tr>\n",
       "      <th>2020-01-03</th>\n",
       "      <td>1.005435</td>\n",
       "      <td>1.000000</td>\n",
       "      <td>0.997888</td>\n",
       "      <td>0.994521</td>\n",
       "      <td>0.983051</td>\n",
       "    </tr>\n",
       "    <tr>\n",
       "      <th>2020-01-06</th>\n",
       "      <td>1.005435</td>\n",
       "      <td>1.013101</td>\n",
       "      <td>0.995776</td>\n",
       "      <td>0.989041</td>\n",
       "      <td>0.983051</td>\n",
       "    </tr>\n",
       "    <tr>\n",
       "      <th>2020-01-07</th>\n",
       "      <td>1.010870</td>\n",
       "      <td>1.049169</td>\n",
       "      <td>0.992608</td>\n",
       "      <td>1.024658</td>\n",
       "      <td>0.978814</td>\n",
       "    </tr>\n",
       "    <tr>\n",
       "      <th>2020-01-08</th>\n",
       "      <td>1.028986</td>\n",
       "      <td>1.045902</td>\n",
       "      <td>1.028511</td>\n",
       "      <td>1.002740</td>\n",
       "      <td>0.949153</td>\n",
       "    </tr>\n",
       "    <tr>\n",
       "      <th>...</th>\n",
       "      <td>...</td>\n",
       "      <td>...</td>\n",
       "      <td>...</td>\n",
       "      <td>...</td>\n",
       "      <td>...</td>\n",
       "    </tr>\n",
       "    <tr>\n",
       "      <th>2022-06-02</th>\n",
       "      <td>1.208333</td>\n",
       "      <td>2.734490</td>\n",
       "      <td>1.129884</td>\n",
       "      <td>1.589041</td>\n",
       "      <td>1.588983</td>\n",
       "    </tr>\n",
       "    <tr>\n",
       "      <th>2022-06-03</th>\n",
       "      <td>1.210145</td>\n",
       "      <td>2.799830</td>\n",
       "      <td>1.129884</td>\n",
       "      <td>1.575342</td>\n",
       "      <td>1.584746</td>\n",
       "    </tr>\n",
       "    <tr>\n",
       "      <th>2022-06-07</th>\n",
       "      <td>1.186594</td>\n",
       "      <td>2.675684</td>\n",
       "      <td>1.098205</td>\n",
       "      <td>1.523288</td>\n",
       "      <td>1.555085</td>\n",
       "    </tr>\n",
       "    <tr>\n",
       "      <th>2022-06-08</th>\n",
       "      <td>1.182971</td>\n",
       "      <td>2.662616</td>\n",
       "      <td>1.119324</td>\n",
       "      <td>1.523288</td>\n",
       "      <td>1.550847</td>\n",
       "    </tr>\n",
       "    <tr>\n",
       "      <th>2022-06-09</th>\n",
       "      <td>1.173913</td>\n",
       "      <td>2.646281</td>\n",
       "      <td>1.124604</td>\n",
       "      <td>1.498630</td>\n",
       "      <td>1.533898</td>\n",
       "    </tr>\n",
       "  </tbody>\n",
       "</table>\n",
       "<p>602 rows × 5 columns</p>\n",
       "</div>"
      ],
      "text/plain": [
       "             samsung     kakao        sk     naver   hyundai\n",
       "2020-01-02  1.000000  1.000000  1.000000  1.000000  1.000000\n",
       "2020-01-03  1.005435  1.000000  0.997888  0.994521  0.983051\n",
       "2020-01-06  1.005435  1.013101  0.995776  0.989041  0.983051\n",
       "2020-01-07  1.010870  1.049169  0.992608  1.024658  0.978814\n",
       "2020-01-08  1.028986  1.045902  1.028511  1.002740  0.949153\n",
       "...              ...       ...       ...       ...       ...\n",
       "2022-06-02  1.208333  2.734490  1.129884  1.589041  1.588983\n",
       "2022-06-03  1.210145  2.799830  1.129884  1.575342  1.584746\n",
       "2022-06-07  1.186594  2.675684  1.098205  1.523288  1.555085\n",
       "2022-06-08  1.182971  2.662616  1.119324  1.523288  1.550847\n",
       "2022-06-09  1.173913  2.646281  1.124604  1.498630  1.533898\n",
       "\n",
       "[602 rows x 5 columns]"
      ]
     },
     "execution_count": 20,
     "metadata": {},
     "output_type": "execute_result"
    }
   ],
   "source": [
    "# 개별 자산 누적 수익률\n",
    "cumReturn = data / data.iloc[0]\n",
    "cumReturn"
   ]
  },
  {
   "cell_type": "code",
   "execution_count": 22,
   "id": "20f8deb6",
   "metadata": {},
   "outputs": [
    {
     "data": {
      "text/plain": [
       "[0.2, 0.2, 0.2, 0.2, 0.2]"
      ]
     },
     "execution_count": 22,
     "metadata": {},
     "output_type": "execute_result"
    }
   ],
   "source": [
    "# 포트폴리오 비율 : 동일 가중\n",
    "portWeight = [1/len(data.columns)] * len(data.columns)\n",
    "portWeight"
   ]
  },
  {
   "cell_type": "code",
   "execution_count": 23,
   "id": "3c25424e",
   "metadata": {},
   "outputs": [
    {
     "data": {
      "text/plain": [
       "2020-01-02    1.000000\n",
       "2020-01-03    0.996179\n",
       "2020-01-06    0.997281\n",
       "2020-01-07    1.011223\n",
       "2020-01-08    1.011058\n",
       "                ...   \n",
       "2022-06-02    1.650146\n",
       "2022-06-03    1.659989\n",
       "2022-06-07    1.607771\n",
       "2022-06-08    1.607809\n",
       "2022-06-09    1.595465\n",
       "Length: 602, dtype: float64"
      ]
     },
     "execution_count": 23,
     "metadata": {},
     "output_type": "execute_result"
    }
   ],
   "source": [
    "# 누적 수익률\n",
    "portCumReturn = (portWeight * cumReturn).sum(axis=1)\n",
    "portCumReturn"
   ]
  },
  {
   "cell_type": "markdown",
   "id": "37ac18a7",
   "metadata": {},
   "source": [
    "## 일간 수익률"
   ]
  },
  {
   "cell_type": "markdown",
   "id": "64733be3",
   "metadata": {},
   "source": [
    "### 간단한 방법 -> 역연산"
   ]
  },
  {
   "cell_type": "code",
   "execution_count": 25,
   "id": "e62467b3",
   "metadata": {},
   "outputs": [
    {
     "data": {
      "text/plain": [
       "2020-01-02    1.000000\n",
       "2020-01-03    0.996179\n",
       "2020-01-06    1.001106\n",
       "2020-01-07    1.013981\n",
       "2020-01-08    0.999836\n",
       "                ...   \n",
       "2022-06-02    0.991384\n",
       "2022-06-03    1.005965\n",
       "2022-06-07    0.968543\n",
       "2022-06-08    1.000024\n",
       "2022-06-09    0.992322\n",
       "Length: 602, dtype: float64"
      ]
     },
     "execution_count": 25,
     "metadata": {},
     "output_type": "execute_result"
    }
   ],
   "source": [
    "portDayReturn = (portCumReturn / portCumReturn.shift(1)).fillna(1)\n",
    "portDayReturn"
   ]
  },
  {
   "cell_type": "markdown",
   "id": "12f80cc2",
   "metadata": {},
   "source": [
    "### 안 간단한 방법 -> 비율 계산"
   ]
  },
  {
   "cell_type": "code",
   "execution_count": 26,
   "id": "23e8ce04",
   "metadata": {},
   "outputs": [
    {
     "data": {
      "text/html": [
       "<div>\n",
       "<style scoped>\n",
       "    .dataframe tbody tr th:only-of-type {\n",
       "        vertical-align: middle;\n",
       "    }\n",
       "\n",
       "    .dataframe tbody tr th {\n",
       "        vertical-align: top;\n",
       "    }\n",
       "\n",
       "    .dataframe thead th {\n",
       "        text-align: right;\n",
       "    }\n",
       "</style>\n",
       "<table border=\"1\" class=\"dataframe\">\n",
       "  <thead>\n",
       "    <tr style=\"text-align: right;\">\n",
       "      <th></th>\n",
       "      <th>samsung</th>\n",
       "      <th>kakao</th>\n",
       "      <th>sk</th>\n",
       "      <th>naver</th>\n",
       "      <th>hyundai</th>\n",
       "    </tr>\n",
       "  </thead>\n",
       "  <tbody>\n",
       "    <tr>\n",
       "      <th>2020-01-02</th>\n",
       "      <td>0.200000</td>\n",
       "      <td>0.200000</td>\n",
       "      <td>0.200000</td>\n",
       "      <td>0.200000</td>\n",
       "      <td>0.200000</td>\n",
       "    </tr>\n",
       "    <tr>\n",
       "      <th>2020-01-03</th>\n",
       "      <td>0.201087</td>\n",
       "      <td>0.200000</td>\n",
       "      <td>0.199578</td>\n",
       "      <td>0.198904</td>\n",
       "      <td>0.196610</td>\n",
       "    </tr>\n",
       "    <tr>\n",
       "      <th>2020-01-06</th>\n",
       "      <td>0.201087</td>\n",
       "      <td>0.202620</td>\n",
       "      <td>0.199155</td>\n",
       "      <td>0.197808</td>\n",
       "      <td>0.196610</td>\n",
       "    </tr>\n",
       "    <tr>\n",
       "      <th>2020-01-07</th>\n",
       "      <td>0.202174</td>\n",
       "      <td>0.209834</td>\n",
       "      <td>0.198522</td>\n",
       "      <td>0.204932</td>\n",
       "      <td>0.195763</td>\n",
       "    </tr>\n",
       "    <tr>\n",
       "      <th>2020-01-08</th>\n",
       "      <td>0.205797</td>\n",
       "      <td>0.209180</td>\n",
       "      <td>0.205702</td>\n",
       "      <td>0.200548</td>\n",
       "      <td>0.189831</td>\n",
       "    </tr>\n",
       "    <tr>\n",
       "      <th>...</th>\n",
       "      <td>...</td>\n",
       "      <td>...</td>\n",
       "      <td>...</td>\n",
       "      <td>...</td>\n",
       "      <td>...</td>\n",
       "    </tr>\n",
       "    <tr>\n",
       "      <th>2022-06-02</th>\n",
       "      <td>0.241667</td>\n",
       "      <td>0.546898</td>\n",
       "      <td>0.225977</td>\n",
       "      <td>0.317808</td>\n",
       "      <td>0.317797</td>\n",
       "    </tr>\n",
       "    <tr>\n",
       "      <th>2022-06-03</th>\n",
       "      <td>0.242029</td>\n",
       "      <td>0.559966</td>\n",
       "      <td>0.225977</td>\n",
       "      <td>0.315068</td>\n",
       "      <td>0.316949</td>\n",
       "    </tr>\n",
       "    <tr>\n",
       "      <th>2022-06-07</th>\n",
       "      <td>0.237319</td>\n",
       "      <td>0.535137</td>\n",
       "      <td>0.219641</td>\n",
       "      <td>0.304658</td>\n",
       "      <td>0.311017</td>\n",
       "    </tr>\n",
       "    <tr>\n",
       "      <th>2022-06-08</th>\n",
       "      <td>0.236594</td>\n",
       "      <td>0.532523</td>\n",
       "      <td>0.223865</td>\n",
       "      <td>0.304658</td>\n",
       "      <td>0.310169</td>\n",
       "    </tr>\n",
       "    <tr>\n",
       "      <th>2022-06-09</th>\n",
       "      <td>0.234783</td>\n",
       "      <td>0.529256</td>\n",
       "      <td>0.224921</td>\n",
       "      <td>0.299726</td>\n",
       "      <td>0.306780</td>\n",
       "    </tr>\n",
       "  </tbody>\n",
       "</table>\n",
       "<p>602 rows × 5 columns</p>\n",
       "</div>"
      ],
      "text/plain": [
       "             samsung     kakao        sk     naver   hyundai\n",
       "2020-01-02  0.200000  0.200000  0.200000  0.200000  0.200000\n",
       "2020-01-03  0.201087  0.200000  0.199578  0.198904  0.196610\n",
       "2020-01-06  0.201087  0.202620  0.199155  0.197808  0.196610\n",
       "2020-01-07  0.202174  0.209834  0.198522  0.204932  0.195763\n",
       "2020-01-08  0.205797  0.209180  0.205702  0.200548  0.189831\n",
       "...              ...       ...       ...       ...       ...\n",
       "2022-06-02  0.241667  0.546898  0.225977  0.317808  0.317797\n",
       "2022-06-03  0.242029  0.559966  0.225977  0.315068  0.316949\n",
       "2022-06-07  0.237319  0.535137  0.219641  0.304658  0.311017\n",
       "2022-06-08  0.236594  0.532523  0.223865  0.304658  0.310169\n",
       "2022-06-09  0.234783  0.529256  0.224921  0.299726  0.306780\n",
       "\n",
       "[602 rows x 5 columns]"
      ]
     },
     "execution_count": 26,
     "metadata": {},
     "output_type": "execute_result"
    }
   ],
   "source": [
    "# 자산별 비중이 반영된 자산 흐름\n",
    "weightedCumReturn = portWeight * assetFlow\n",
    "weightedCumReturn"
   ]
  },
  {
   "cell_type": "code",
   "execution_count": 34,
   "id": "b7d25dbe",
   "metadata": {},
   "outputs": [
    {
     "data": {
      "text/html": [
       "<div>\n",
       "<style scoped>\n",
       "    .dataframe tbody tr th:only-of-type {\n",
       "        vertical-align: middle;\n",
       "    }\n",
       "\n",
       "    .dataframe tbody tr th {\n",
       "        vertical-align: top;\n",
       "    }\n",
       "\n",
       "    .dataframe thead th {\n",
       "        text-align: right;\n",
       "    }\n",
       "</style>\n",
       "<table border=\"1\" class=\"dataframe\">\n",
       "  <thead>\n",
       "    <tr style=\"text-align: right;\">\n",
       "      <th></th>\n",
       "      <th>samsung</th>\n",
       "      <th>kakao</th>\n",
       "      <th>sk</th>\n",
       "      <th>naver</th>\n",
       "      <th>hyundai</th>\n",
       "    </tr>\n",
       "  </thead>\n",
       "  <tbody>\n",
       "    <tr>\n",
       "      <th>2020-01-02</th>\n",
       "      <td>0.200000</td>\n",
       "      <td>0.200000</td>\n",
       "      <td>0.200000</td>\n",
       "      <td>0.200000</td>\n",
       "      <td>0.200000</td>\n",
       "    </tr>\n",
       "    <tr>\n",
       "      <th>2020-01-03</th>\n",
       "      <td>0.201858</td>\n",
       "      <td>0.200767</td>\n",
       "      <td>0.200343</td>\n",
       "      <td>0.199667</td>\n",
       "      <td>0.197364</td>\n",
       "    </tr>\n",
       "    <tr>\n",
       "      <th>2020-01-06</th>\n",
       "      <td>0.201635</td>\n",
       "      <td>0.203173</td>\n",
       "      <td>0.199698</td>\n",
       "      <td>0.198348</td>\n",
       "      <td>0.197146</td>\n",
       "    </tr>\n",
       "    <tr>\n",
       "      <th>2020-01-07</th>\n",
       "      <td>0.199930</td>\n",
       "      <td>0.207505</td>\n",
       "      <td>0.196318</td>\n",
       "      <td>0.202657</td>\n",
       "      <td>0.193590</td>\n",
       "    </tr>\n",
       "    <tr>\n",
       "      <th>2020-01-08</th>\n",
       "      <td>0.203546</td>\n",
       "      <td>0.206892</td>\n",
       "      <td>0.203452</td>\n",
       "      <td>0.198355</td>\n",
       "      <td>0.187754</td>\n",
       "    </tr>\n",
       "    <tr>\n",
       "      <th>...</th>\n",
       "      <td>...</td>\n",
       "      <td>...</td>\n",
       "      <td>...</td>\n",
       "      <td>...</td>\n",
       "      <td>...</td>\n",
       "    </tr>\n",
       "    <tr>\n",
       "      <th>2022-06-02</th>\n",
       "      <td>0.146452</td>\n",
       "      <td>0.331424</td>\n",
       "      <td>0.136943</td>\n",
       "      <td>0.192594</td>\n",
       "      <td>0.192587</td>\n",
       "    </tr>\n",
       "    <tr>\n",
       "      <th>2022-06-03</th>\n",
       "      <td>0.145802</td>\n",
       "      <td>0.337331</td>\n",
       "      <td>0.136131</td>\n",
       "      <td>0.189802</td>\n",
       "      <td>0.190934</td>\n",
       "    </tr>\n",
       "    <tr>\n",
       "      <th>2022-06-07</th>\n",
       "      <td>0.147607</td>\n",
       "      <td>0.332844</td>\n",
       "      <td>0.136612</td>\n",
       "      <td>0.189491</td>\n",
       "      <td>0.193446</td>\n",
       "    </tr>\n",
       "    <tr>\n",
       "      <th>2022-06-08</th>\n",
       "      <td>0.147153</td>\n",
       "      <td>0.331210</td>\n",
       "      <td>0.139236</td>\n",
       "      <td>0.189486</td>\n",
       "      <td>0.192914</td>\n",
       "    </tr>\n",
       "    <tr>\n",
       "      <th>2022-06-09</th>\n",
       "      <td>0.147156</td>\n",
       "      <td>0.331725</td>\n",
       "      <td>0.140975</td>\n",
       "      <td>0.187861</td>\n",
       "      <td>0.192282</td>\n",
       "    </tr>\n",
       "  </tbody>\n",
       "</table>\n",
       "<p>602 rows × 5 columns</p>\n",
       "</div>"
      ],
      "text/plain": [
       "             samsung     kakao        sk     naver   hyundai\n",
       "2020-01-02  0.200000  0.200000  0.200000  0.200000  0.200000\n",
       "2020-01-03  0.201858  0.200767  0.200343  0.199667  0.197364\n",
       "2020-01-06  0.201635  0.203173  0.199698  0.198348  0.197146\n",
       "2020-01-07  0.199930  0.207505  0.196318  0.202657  0.193590\n",
       "2020-01-08  0.203546  0.206892  0.203452  0.198355  0.187754\n",
       "...              ...       ...       ...       ...       ...\n",
       "2022-06-02  0.146452  0.331424  0.136943  0.192594  0.192587\n",
       "2022-06-03  0.145802  0.337331  0.136131  0.189802  0.190934\n",
       "2022-06-07  0.147607  0.332844  0.136612  0.189491  0.193446\n",
       "2022-06-08  0.147153  0.331210  0.139236  0.189486  0.192914\n",
       "2022-06-09  0.147156  0.331725  0.140975  0.187861  0.192282\n",
       "\n",
       "[602 rows x 5 columns]"
      ]
     },
     "execution_count": 34,
     "metadata": {},
     "output_type": "execute_result"
    }
   ],
   "source": [
    "# 자산 비율 => 자산 흐름 정규화 \n",
    "assetRatio = weightedCumReturn.divide(weightedCumReturn.sum(axis=1), axis=0)\n",
    "assetRatio"
   ]
  },
  {
   "cell_type": "code",
   "execution_count": 35,
   "id": "d3ca6dd8",
   "metadata": {},
   "outputs": [
    {
     "data": {
      "text/html": [
       "<div>\n",
       "<style scoped>\n",
       "    .dataframe tbody tr th:only-of-type {\n",
       "        vertical-align: middle;\n",
       "    }\n",
       "\n",
       "    .dataframe tbody tr th {\n",
       "        vertical-align: top;\n",
       "    }\n",
       "\n",
       "    .dataframe thead th {\n",
       "        text-align: right;\n",
       "    }\n",
       "</style>\n",
       "<table border=\"1\" class=\"dataframe\">\n",
       "  <thead>\n",
       "    <tr style=\"text-align: right;\">\n",
       "      <th></th>\n",
       "      <th>samsung</th>\n",
       "      <th>kakao</th>\n",
       "      <th>sk</th>\n",
       "      <th>naver</th>\n",
       "      <th>hyundai</th>\n",
       "    </tr>\n",
       "  </thead>\n",
       "  <tbody>\n",
       "    <tr>\n",
       "      <th>2020-01-02</th>\n",
       "      <td>0.201087</td>\n",
       "      <td>0.200000</td>\n",
       "      <td>0.199578</td>\n",
       "      <td>0.198904</td>\n",
       "      <td>0.196610</td>\n",
       "    </tr>\n",
       "    <tr>\n",
       "      <th>2020-01-03</th>\n",
       "      <td>0.201858</td>\n",
       "      <td>0.203397</td>\n",
       "      <td>0.199919</td>\n",
       "      <td>0.198567</td>\n",
       "      <td>0.197364</td>\n",
       "    </tr>\n",
       "    <tr>\n",
       "      <th>2020-01-06</th>\n",
       "      <td>0.202725</td>\n",
       "      <td>0.210406</td>\n",
       "      <td>0.199063</td>\n",
       "      <td>0.205490</td>\n",
       "      <td>0.196296</td>\n",
       "    </tr>\n",
       "    <tr>\n",
       "      <th>2020-01-07</th>\n",
       "      <td>0.203513</td>\n",
       "      <td>0.206859</td>\n",
       "      <td>0.203419</td>\n",
       "      <td>0.198322</td>\n",
       "      <td>0.187724</td>\n",
       "    </tr>\n",
       "    <tr>\n",
       "      <th>2020-01-08</th>\n",
       "      <td>0.209997</td>\n",
       "      <td>0.212728</td>\n",
       "      <td>0.206795</td>\n",
       "      <td>0.201606</td>\n",
       "      <td>0.186916</td>\n",
       "    </tr>\n",
       "    <tr>\n",
       "      <th>...</th>\n",
       "      <td>...</td>\n",
       "      <td>...</td>\n",
       "      <td>...</td>\n",
       "      <td>...</td>\n",
       "      <td>...</td>\n",
       "    </tr>\n",
       "    <tr>\n",
       "      <th>2022-06-02</th>\n",
       "      <td>0.146671</td>\n",
       "      <td>0.339343</td>\n",
       "      <td>0.136943</td>\n",
       "      <td>0.190934</td>\n",
       "      <td>0.192073</td>\n",
       "    </tr>\n",
       "    <tr>\n",
       "      <th>2022-06-03</th>\n",
       "      <td>0.142964</td>\n",
       "      <td>0.322374</td>\n",
       "      <td>0.132315</td>\n",
       "      <td>0.183530</td>\n",
       "      <td>0.187361</td>\n",
       "    </tr>\n",
       "    <tr>\n",
       "      <th>2022-06-07</th>\n",
       "      <td>0.147157</td>\n",
       "      <td>0.331218</td>\n",
       "      <td>0.139239</td>\n",
       "      <td>0.189491</td>\n",
       "      <td>0.192919</td>\n",
       "    </tr>\n",
       "    <tr>\n",
       "      <th>2022-06-08</th>\n",
       "      <td>0.146026</td>\n",
       "      <td>0.329178</td>\n",
       "      <td>0.139893</td>\n",
       "      <td>0.186419</td>\n",
       "      <td>0.190806</td>\n",
       "    </tr>\n",
       "    <tr>\n",
       "      <th>2022-06-09</th>\n",
       "      <td>NaN</td>\n",
       "      <td>NaN</td>\n",
       "      <td>NaN</td>\n",
       "      <td>NaN</td>\n",
       "      <td>NaN</td>\n",
       "    </tr>\n",
       "  </tbody>\n",
       "</table>\n",
       "<p>602 rows × 5 columns</p>\n",
       "</div>"
      ],
      "text/plain": [
       "             samsung     kakao        sk     naver   hyundai\n",
       "2020-01-02  0.201087  0.200000  0.199578  0.198904  0.196610\n",
       "2020-01-03  0.201858  0.203397  0.199919  0.198567  0.197364\n",
       "2020-01-06  0.202725  0.210406  0.199063  0.205490  0.196296\n",
       "2020-01-07  0.203513  0.206859  0.203419  0.198322  0.187724\n",
       "2020-01-08  0.209997  0.212728  0.206795  0.201606  0.186916\n",
       "...              ...       ...       ...       ...       ...\n",
       "2022-06-02  0.146671  0.339343  0.136943  0.190934  0.192073\n",
       "2022-06-03  0.142964  0.322374  0.132315  0.183530  0.187361\n",
       "2022-06-07  0.147157  0.331218  0.139239  0.189491  0.192919\n",
       "2022-06-08  0.146026  0.329178  0.139893  0.186419  0.190806\n",
       "2022-06-09       NaN       NaN       NaN       NaN       NaN\n",
       "\n",
       "[602 rows x 5 columns]"
      ]
     },
     "execution_count": 35,
     "metadata": {},
     "output_type": "execute_result"
    }
   ],
   "source": [
    "# 포트폴리오 개별자산 순 수익률\n",
    "assetRatio * dayReturn.shift(-1)"
   ]
  },
  {
   "cell_type": "code",
   "execution_count": 36,
   "id": "480fee61",
   "metadata": {
    "scrolled": true
   },
   "outputs": [
    {
     "data": {
      "text/plain": [
       "2020-01-02    1.000000\n",
       "2020-01-03    0.996179\n",
       "2020-01-06    1.001106\n",
       "2020-01-07    1.013981\n",
       "2020-01-08    0.999836\n",
       "                ...   \n",
       "2022-06-02    0.991384\n",
       "2022-06-03    1.005965\n",
       "2022-06-07    0.968543\n",
       "2022-06-08    1.000024\n",
       "2022-06-09    0.992322\n",
       "Length: 602, dtype: float64"
      ]
     },
     "execution_count": 36,
     "metadata": {},
     "output_type": "execute_result"
    }
   ],
   "source": [
    "# 포트폴리오 일간 수익률\n",
    "portDayReturn2 = (assetRatio * dayReturn.shift(-1)).sum(axis=1).shift(1).fillna(1)\n",
    "portDayReturn2"
   ]
  },
  {
   "cell_type": "code",
   "execution_count": 37,
   "id": "56c4ce54",
   "metadata": {},
   "outputs": [
    {
     "data": {
      "text/plain": [
       "2020-01-02    1.000000\n",
       "2020-01-03    0.996179\n",
       "2020-01-06    0.997281\n",
       "2020-01-07    1.011223\n",
       "2020-01-08    1.011058\n",
       "                ...   \n",
       "2022-06-02    1.650146\n",
       "2022-06-03    1.659989\n",
       "2022-06-07    1.607771\n",
       "2022-06-08    1.607809\n",
       "2022-06-09    1.595465\n",
       "Length: 602, dtype: float64"
      ]
     },
     "execution_count": 37,
     "metadata": {},
     "output_type": "execute_result"
    }
   ],
   "source": [
    "# 포트폴리오 누적 수익률\n",
    "portCumReturn2 = portDayReturn.cumprod()\n",
    "portCumReturn2"
   ]
  },
  {
   "cell_type": "markdown",
   "id": "846841d4",
   "metadata": {},
   "source": [
    "  "
   ]
  },
  {
   "cell_type": "markdown",
   "id": "03f82de6",
   "metadata": {},
   "source": [
    "  "
   ]
  },
  {
   "cell_type": "markdown",
   "id": "50725ed0",
   "metadata": {},
   "source": [
    "  "
   ]
  },
  {
   "cell_type": "markdown",
   "id": "151cff4a",
   "metadata": {},
   "source": [
    "**포트폴리오와 개별 종목 비교**"
   ]
  },
  {
   "cell_type": "code",
   "execution_count": 38,
   "id": "542853e1",
   "metadata": {
    "scrolled": true
   },
   "outputs": [
    {
     "data": {
      "text/html": [
       "<div>\n",
       "<style scoped>\n",
       "    .dataframe tbody tr th:only-of-type {\n",
       "        vertical-align: middle;\n",
       "    }\n",
       "\n",
       "    .dataframe tbody tr th {\n",
       "        vertical-align: top;\n",
       "    }\n",
       "\n",
       "    .dataframe thead th {\n",
       "        text-align: right;\n",
       "    }\n",
       "</style>\n",
       "<table border=\"1\" class=\"dataframe\">\n",
       "  <thead>\n",
       "    <tr style=\"text-align: right;\">\n",
       "      <th></th>\n",
       "      <th>samsung</th>\n",
       "      <th>kakao</th>\n",
       "      <th>sk</th>\n",
       "      <th>naver</th>\n",
       "      <th>hyundai</th>\n",
       "    </tr>\n",
       "  </thead>\n",
       "  <tbody>\n",
       "    <tr>\n",
       "      <th>2020-01-02</th>\n",
       "      <td>1.000000</td>\n",
       "      <td>1.000000</td>\n",
       "      <td>1.000000</td>\n",
       "      <td>1.000000</td>\n",
       "      <td>1.000000</td>\n",
       "    </tr>\n",
       "    <tr>\n",
       "      <th>2020-01-03</th>\n",
       "      <td>1.005435</td>\n",
       "      <td>1.000000</td>\n",
       "      <td>0.997888</td>\n",
       "      <td>0.994521</td>\n",
       "      <td>0.983051</td>\n",
       "    </tr>\n",
       "    <tr>\n",
       "      <th>2020-01-06</th>\n",
       "      <td>1.005435</td>\n",
       "      <td>1.013101</td>\n",
       "      <td>0.995776</td>\n",
       "      <td>0.989041</td>\n",
       "      <td>0.983051</td>\n",
       "    </tr>\n",
       "    <tr>\n",
       "      <th>2020-01-07</th>\n",
       "      <td>1.010870</td>\n",
       "      <td>1.049169</td>\n",
       "      <td>0.992608</td>\n",
       "      <td>1.024658</td>\n",
       "      <td>0.978814</td>\n",
       "    </tr>\n",
       "    <tr>\n",
       "      <th>2020-01-08</th>\n",
       "      <td>1.028986</td>\n",
       "      <td>1.045902</td>\n",
       "      <td>1.028511</td>\n",
       "      <td>1.002740</td>\n",
       "      <td>0.949153</td>\n",
       "    </tr>\n",
       "    <tr>\n",
       "      <th>...</th>\n",
       "      <td>...</td>\n",
       "      <td>...</td>\n",
       "      <td>...</td>\n",
       "      <td>...</td>\n",
       "      <td>...</td>\n",
       "    </tr>\n",
       "    <tr>\n",
       "      <th>2022-06-02</th>\n",
       "      <td>1.208333</td>\n",
       "      <td>2.734490</td>\n",
       "      <td>1.129884</td>\n",
       "      <td>1.589041</td>\n",
       "      <td>1.588983</td>\n",
       "    </tr>\n",
       "    <tr>\n",
       "      <th>2022-06-03</th>\n",
       "      <td>1.210145</td>\n",
       "      <td>2.799830</td>\n",
       "      <td>1.129884</td>\n",
       "      <td>1.575342</td>\n",
       "      <td>1.584746</td>\n",
       "    </tr>\n",
       "    <tr>\n",
       "      <th>2022-06-07</th>\n",
       "      <td>1.186594</td>\n",
       "      <td>2.675684</td>\n",
       "      <td>1.098205</td>\n",
       "      <td>1.523288</td>\n",
       "      <td>1.555085</td>\n",
       "    </tr>\n",
       "    <tr>\n",
       "      <th>2022-06-08</th>\n",
       "      <td>1.182971</td>\n",
       "      <td>2.662616</td>\n",
       "      <td>1.119324</td>\n",
       "      <td>1.523288</td>\n",
       "      <td>1.550847</td>\n",
       "    </tr>\n",
       "    <tr>\n",
       "      <th>2022-06-09</th>\n",
       "      <td>1.173913</td>\n",
       "      <td>2.646281</td>\n",
       "      <td>1.124604</td>\n",
       "      <td>1.498630</td>\n",
       "      <td>1.533898</td>\n",
       "    </tr>\n",
       "  </tbody>\n",
       "</table>\n",
       "<p>602 rows × 5 columns</p>\n",
       "</div>"
      ],
      "text/plain": [
       "             samsung     kakao        sk     naver   hyundai\n",
       "2020-01-02  1.000000  1.000000  1.000000  1.000000  1.000000\n",
       "2020-01-03  1.005435  1.000000  0.997888  0.994521  0.983051\n",
       "2020-01-06  1.005435  1.013101  0.995776  0.989041  0.983051\n",
       "2020-01-07  1.010870  1.049169  0.992608  1.024658  0.978814\n",
       "2020-01-08  1.028986  1.045902  1.028511  1.002740  0.949153\n",
       "...              ...       ...       ...       ...       ...\n",
       "2022-06-02  1.208333  2.734490  1.129884  1.589041  1.588983\n",
       "2022-06-03  1.210145  2.799830  1.129884  1.575342  1.584746\n",
       "2022-06-07  1.186594  2.675684  1.098205  1.523288  1.555085\n",
       "2022-06-08  1.182971  2.662616  1.119324  1.523288  1.550847\n",
       "2022-06-09  1.173913  2.646281  1.124604  1.498630  1.533898\n",
       "\n",
       "[602 rows x 5 columns]"
      ]
     },
     "execution_count": 38,
     "metadata": {},
     "output_type": "execute_result"
    }
   ],
   "source": [
    "# 개별 자산 누적수익률\n",
    "cumReturn"
   ]
  },
  {
   "cell_type": "code",
   "execution_count": 43,
   "id": "6fff0ca7",
   "metadata": {},
   "outputs": [
    {
     "name": "stdout",
     "output_type": "stream",
     "text": [
      "samsung\n",
      "cagr: 1.0694239928663605\n",
      "mdd: 31.89102564102564\n",
      "=======\n",
      "kakao\n",
      "cagr: 1.5028559118662475\n",
      "mdd: 52.56637168141592\n",
      "=======\n",
      "sk\n",
      "cagr: 1.05038541265802\n",
      "mdd: 38.38383838383838\n",
      "=======\n",
      "naver\n",
      "cagr: 1.1845312398252503\n",
      "mdd: 41.409691629955944\n",
      "=======\n",
      "hyundai\n",
      "cagr: 1.196121529082819\n",
      "mdd: 51.54411764705882\n",
      "=======\n",
      "portfolio\n",
      "cagr: 1.215988821598151\n",
      "mdd: 37.18523671561525\n",
      "=======\n"
     ]
    },
    {
     "data": {
      "image/png": "[encoded data removed]",
      "text/plain": [
       "<Figure size 1440x576 with 1 Axes>"
      ]
     },
     "metadata": {
      "needs_background": "light"
     },
     "output_type": "display_data"
    }
   ],
   "source": [
    "plt.figure(figsize=(20, 8))\n",
    "\n",
    "for stock in assetFlow.columns:\n",
    "    # 그래프\n",
    "    cumReturn[stock].plot(label=stock)\n",
    "    # cagr\n",
    "    cagr = cumReturn[stock].iloc[-1] ** (252/len(cumReturn[stock]))\n",
    "    # mdd\n",
    "    dd = (cumReturn[stock].cummax() - cumReturn[stock]) / cumReturn[stock].cummax() * 100\n",
    "    mdd= dd.max()\n",
    "    \n",
    "    print(stock)\n",
    "    print(f\"cagr: {cagr}\\nmdd: {mdd}\")\n",
    "    print(\"=======\")\n",
    "    \n",
    "    \n",
    "\n",
    "# cagr\n",
    "cagr = portCumReturn.iloc[-1] ** (252/len(portCumReturn))\n",
    "# mdd\n",
    "dd = (portCumReturn.cummax() - portCumReturn) / portCumReturn.cummax() * 100\n",
    "mdd= dd.max()\n",
    "\n",
    "print(\"portfolio\")\n",
    "print(f\"cagr: {cagr}\\nmdd: {mdd}\")\n",
    "print(\"=======\")\n",
    "\n",
    "cumulativeReturn.plot(label = \"porfolio\", linestyle=\"dotted\", linewidth=3)\n",
    "plt.legend()\n",
    "plt.show()"
   ]
  },
  {
   "cell_type": "markdown",
   "id": "e593e222",
   "metadata": {},
   "source": [
    "  "
   ]
  },
  {
   "cell_type": "markdown",
   "id": "d0c3d9e2",
   "metadata": {},
   "source": [
    "  "
   ]
  },
  {
   "cell_type": "markdown",
   "id": "87a19822",
   "metadata": {},
   "source": [
    "  "
   ]
  },
  {
   "cell_type": "markdown",
   "id": "6ae3423c",
   "metadata": {},
   "source": [
    "  "
   ]
  },
  {
   "cell_type": "markdown",
   "id": "5977f0b2",
   "metadata": {},
   "source": [
    "### 다중종목 수익률 계산법 함수화"
   ]
  },
  {
   "cell_type": "code",
   "execution_count": null,
   "id": "ef0610ec",
   "metadata": {},
   "outputs": [],
   "source": [
    "def getCloseData(ticker, start, end=None):\n",
    "    \"\"\"\n",
    "    종가 데이터\n",
    "    ticker: 종목 번호\n",
    "    start: 시작일\n",
    "    end: 마지막 날짜\n",
    "    return: 종목의 종가 데이터\n",
    "    \"\"\"\n",
    "    return fdr.DataReader(ticker, start, end)['Close']\n",
    "\n",
    "a=getCloseData(\"069500\", \"2015\")\n",
    "b=getCloseData(\"152380\", \"2015\")\n",
    "\n",
    "c = pd.concat([a,b], axis=1)\n",
    "c"
   ]
  },
  {
   "cell_type": "code",
   "execution_count": null,
   "id": "a0cd3bf9",
   "metadata": {},
   "outputs": [],
   "source": [
    "def getDayReturn(closeDataSet):\n",
    "    \"\"\"\n",
    "    개별종목 일별 수익률\n",
    "    closeDataSet: 종가 데이터\n",
    "    return: 종가 데이터의 일별 수익률\n",
    "    \"\"\"\n",
    "    return (closeDataSet / closeDataSet.shift(1)).fillna(1)\n",
    "\n",
    "getDayReturn(c)"
   ]
  },
  {
   "cell_type": "code",
   "execution_count": null,
   "id": "a38e6d3d",
   "metadata": {},
   "outputs": [],
   "source": [
    "def getCumulativeReturn(closeDataSet=None):\n",
    "    \"\"\"\n",
    "    개별종목 누적수익률 == 자산흐름\n",
    "    closeDataSet: 종가 데이터\n",
    "    return:종가데이터 누적수익률\n",
    "    \"\"\"\n",
    "    return closeDataSet / closeDataSet.iloc[0]\n",
    "    \n",
    "getCumulativeReturn(c)"
   ]
  },
  {
   "cell_type": "code",
   "execution_count": null,
   "id": "486365ca",
   "metadata": {},
   "outputs": [],
   "source": [
    "def getPortfolioResult(closeDataSet, weight=None):\n",
    "    \"\"\"\n",
    "    포트폴리오 결과\n",
    "    closeDataSet: 종가 데이터\n",
    "    weight: 포트폴리오 개별자산 비중\n",
    "    return: 포트폴리오 일간수익률, 누적수익률\n",
    "    \"\"\"\n",
    "    # 개별종목 일별 수익률\n",
    "    dayReturn = getDayReturn(closeDataSet)\n",
    "    # 개별종목 누적 수익률\n",
    "    cumulativeReturn = getCumulativeReturn(closeDataSet)\n",
    "    # 자산별 비중. 기본값: 동일비중\n",
    "    if not weight:\n",
    "        weight = [1/len(closeDataSet.columns)] * len(closeDataSet.columns)\n",
    "        \n",
    "    # 포트폴리오 누적 수익률\n",
    "    portfolioCumulativeReturn = (weight * cumulativeReturn).sum(axis=1)\n",
    "    # 포트폴리오 일별 수익률\n",
    "    portfolioDayReturn = (portfolioCumulativeReturn / portfolioCumulativeReturn.shift(1)).fillna(1)\n",
    "        \n",
    "#     # 자산별 비중이 반영된 개별자산 누적 수익률\n",
    "#     weightedCumulativeReturn = weight * cumulativeReturn\n",
    "#     # 자산흐름 정규화: 시기별 각 자산 보유 비율\n",
    "#     normalizedAssetFlow = weightedCumulativeReturn.divide(weightedCumulativeReturn.sum(axis=1), axis=0) # 각 행의 합으로 각 행을 나누기\n",
    "#     # 자산별 비중이 반영된 개별자산 일별 수익률\n",
    "#     weightedDayReturn = normalizedAssetFlow * dayReturn.shift(-1).fillna(0)\n",
    "#     # 포트폴리오 일별 수익률 = 자산별 비중이 반영된 개별자산 일별 수익률의 합\n",
    "#     portfolioDayReturn = weightedDayReturn.sum(axis=1).shift(1).fillna(1)\n",
    "#     # 포트폴리오 누적 수익률\n",
    "#     portfolioCumulativeReturn = portfolioDayReturn.cumprod()\n",
    "# #     portfolioCumulativeReturn = weightedCumulativeReturn.sum(axis=1)\n",
    "    \n",
    "    return portfolioDayReturn, portfolioCumulativeReturn\n",
    "\n",
    "portfolioDayReturn, portfolioCumulativeReturn =getPortfolioResult(c)\n",
    "print(portfolioDayReturn, portfolioCumulativeReturn)"
   ]
  },
  {
   "cell_type": "code",
   "execution_count": null,
   "id": "fb96c515",
   "metadata": {},
   "outputs": [],
   "source": [
    "def getEvaluation(cumulativeReturn):\n",
    "    \"\"\"\n",
    "    cagr, dd, mdd\n",
    "    투자 성과 지표\n",
    "    \"\"\"\n",
    "    # cagr\n",
    "    cagr = cumulativeReturn.iloc[-1] ** (252/len(cumulativeReturn))\n",
    "    # mdd\n",
    "    dd = (cumulativeReturn.cummax() - cumulativeReturn) / cumulativeReturn.cummax() * 100\n",
    "    mdd= dd.max()\n",
    "    \n",
    "    print(f\"cagr: {cagr}\\nmdd: {mdd}\")\n",
    "    print(\"=======\")\n",
    "\n",
    "    return cagr, dd, mdd\n",
    "\n",
    "portfolioEval = getEvaluation(portfolioCumulativeReturn)\n",
    "portfolioEval"
   ]
  },
  {
   "cell_type": "code",
   "execution_count": null,
   "id": "87d1ba96",
   "metadata": {},
   "outputs": [],
   "source": []
  }
 ],
 "metadata": {
  "kernelspec": {
   "display_name": "AITrading",
   "language": "python",
   "name": "aitradingproject"
  },
  "language_info": {
   "codemirror_mode": {
    "name": "ipython",
    "version": 3
   },
   "file_extension": ".py",
   "mimetype": "text/x-python",
   "name": "python",
   "nbconvert_exporter": "python",
   "pygments_lexer": "ipython3",
   "version": "3.9.7"
  }
 },
 "nbformat": 4,
 "nbformat_minor": 5
}
