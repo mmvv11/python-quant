{
 "cells": [
  {
   "cell_type": "code",
   "execution_count": 3,
   "id": "01cc478b",
   "metadata": {},
   "outputs": [],
   "source": [
    "import FinanceDataReader as fdr\n",
    "import pandas as pd\n",
    "import matplotlib.pyplot as plt\n",
    "import numpy as np"
   ]
  },
  {
   "cell_type": "code",
   "execution_count": 4,
   "id": "1322042a",
   "metadata": {},
   "outputs": [],
   "source": [
    "def getCloseData(ticker, start, end=None):\n",
    "    \"\"\"\n",
    "    종가 데이터\n",
    "    ticker: 종목 번호\n",
    "    start: 시작일\n",
    "    end: 마지막 날짜\n",
    "    return: 종목의 종가 데이터\n",
    "    \"\"\"\n",
    "    return fdr.DataReader(ticker, start, end)['Close']"
   ]
  },
  {
   "cell_type": "code",
   "execution_count": 7,
   "id": "e7f748d7",
   "metadata": {},
   "outputs": [],
   "source": [
    "kodex200 = getCloseData(\"069500\", \"2022\")"
   ]
  },
  {
   "cell_type": "code",
   "execution_count": 6,
   "id": "343a578b",
   "metadata": {},
   "outputs": [],
   "source": [
    "def getDayReturn(closeDataSet):\n",
    "    \"\"\"\n",
    "    개별종목 일별 수익률\n",
    "    closeDataSet: 종가 데이터\n",
    "    return: 종가 데이터의 일별 수익률\n",
    "    \"\"\"\n",
    "    return (closeDataSet / closeDataSet.shift(1)).fillna(1)"
   ]
  },
  {
   "cell_type": "code",
   "execution_count": 8,
   "id": "6945cc9d",
   "metadata": {},
   "outputs": [
    {
     "data": {
      "text/plain": [
       "Date\n",
       "2022-01-03    1.000000\n",
       "2022-01-04    0.999390\n",
       "2022-01-05    0.985728\n",
       "2022-01-06    0.989960\n",
       "2022-01-07    1.012566\n",
       "                ...   \n",
       "2022-07-13    1.005219\n",
       "2022-07-14    0.996431\n",
       "2022-07-15    1.006024\n",
       "2022-07-18    1.022172\n",
       "2022-07-19    0.996358\n",
       "Name: Close, Length: 134, dtype: float64"
      ]
     },
     "execution_count": 8,
     "metadata": {},
     "output_type": "execute_result"
    }
   ],
   "source": [
    "getDayReturn(kodex200)"
   ]
  },
  {
   "cell_type": "code",
   "execution_count": 9,
   "id": "057ba09c",
   "metadata": {},
   "outputs": [],
   "source": [
    "def getCumulativeReturn(closeDataSet):\n",
    "    \"\"\"\n",
    "    개별종목 누적수익률 == 자산흐름\n",
    "    closeDataSet: 종가 데이터\n",
    "    return:종가데이터 누적수익률\n",
    "    \"\"\"\n",
    "    return closeDataSet / closeDataSet.iloc[0]"
   ]
  },
  {
   "cell_type": "code",
   "execution_count": 10,
   "id": "29acb19b",
   "metadata": {},
   "outputs": [
    {
     "data": {
      "text/plain": [
       "Date\n",
       "2022-01-03    1.000000\n",
       "2022-01-04    0.999390\n",
       "2022-01-05    0.985126\n",
       "2022-01-06    0.975236\n",
       "2022-01-07    0.987491\n",
       "                ...   \n",
       "2022-07-13    0.783606\n",
       "2022-07-14    0.780809\n",
       "2022-07-15    0.785513\n",
       "2022-07-18    0.802929\n",
       "2022-07-19    0.800005\n",
       "Name: Close, Length: 134, dtype: float64"
      ]
     },
     "execution_count": 10,
     "metadata": {},
     "output_type": "execute_result"
    }
   ],
   "source": [
    "getCumulativeReturn(kodex200)"
   ]
  },
  {
   "cell_type": "code",
   "execution_count": 17,
   "id": "7d84ab3a",
   "metadata": {},
   "outputs": [],
   "source": [
    "def getPortfolioResult(closeDataSet, weight=None):\n",
    "    \"\"\"\n",
    "    포트폴리오 결과\n",
    "    closeDataSet: 종가 데이터\n",
    "    weight: 포트폴리오 개별자산 비중\n",
    "    return: 포트폴리오 일간수익률, 누적수익률\n",
    "    \"\"\"\n",
    "    # 개별종목 일별 수익률\n",
    "    dayReturn = getDayReturn(closeDataSet)\n",
    "    # 개별종목 누적 수익률\n",
    "    cumulativeReturn = getCumulativeReturn(closeDataSet)\n",
    "    # 자산별 비중. 기본값: 동일비중\n",
    "    if not weight:\n",
    "        weight = [1/len(closeDataSet.columns)] * len(closeDataSet.columns)\n",
    "        \n",
    "    # 포트폴리오 누적 수익률\n",
    "    portfolioCumulativeReturn = (weight * cumulativeReturn).sum(axis=1)\n",
    "    # 포트폴리오 일별 수익률\n",
    "    portfolioDayReturn = (portfolioCumulativeReturn / portfolioCumulativeReturn.shift(1)).fillna(1)\n",
    "    \n",
    "    return portfolioDayReturn, portfolioCumulativeReturn"
   ]
  },
  {
   "cell_type": "code",
   "execution_count": 12,
   "id": "6916804e",
   "metadata": {},
   "outputs": [],
   "source": [
    "kodex10Bond = getCloseData(\"152380\", \"2022\")"
   ]
  },
  {
   "cell_type": "code",
   "execution_count": 16,
   "id": "16ee69cb",
   "metadata": {},
   "outputs": [
    {
     "data": {
      "text/html": [
       "<div>\n",
       "<style scoped>\n",
       "    .dataframe tbody tr th:only-of-type {\n",
       "        vertical-align: middle;\n",
       "    }\n",
       "\n",
       "    .dataframe tbody tr th {\n",
       "        vertical-align: top;\n",
       "    }\n",
       "\n",
       "    .dataframe thead th {\n",
       "        text-align: right;\n",
       "    }\n",
       "</style>\n",
       "<table border=\"1\" class=\"dataframe\">\n",
       "  <thead>\n",
       "    <tr style=\"text-align: right;\">\n",
       "      <th></th>\n",
       "      <th>kodex200</th>\n",
       "      <th>kodex10Bond</th>\n",
       "    </tr>\n",
       "    <tr>\n",
       "      <th>Date</th>\n",
       "      <th></th>\n",
       "      <th></th>\n",
       "    </tr>\n",
       "  </thead>\n",
       "  <tbody>\n",
       "    <tr>\n",
       "      <th>2022-01-03</th>\n",
       "      <td>39331</td>\n",
       "      <td>68415</td>\n",
       "    </tr>\n",
       "    <tr>\n",
       "      <th>2022-01-04</th>\n",
       "      <td>39307</td>\n",
       "      <td>68450</td>\n",
       "    </tr>\n",
       "    <tr>\n",
       "      <th>2022-01-05</th>\n",
       "      <td>38746</td>\n",
       "      <td>68030</td>\n",
       "    </tr>\n",
       "    <tr>\n",
       "      <th>2022-01-06</th>\n",
       "      <td>38357</td>\n",
       "      <td>67480</td>\n",
       "    </tr>\n",
       "    <tr>\n",
       "      <th>2022-01-07</th>\n",
       "      <td>38839</td>\n",
       "      <td>67460</td>\n",
       "    </tr>\n",
       "    <tr>\n",
       "      <th>...</th>\n",
       "      <td>...</td>\n",
       "      <td>...</td>\n",
       "    </tr>\n",
       "    <tr>\n",
       "      <th>2022-07-13</th>\n",
       "      <td>30820</td>\n",
       "      <td>63960</td>\n",
       "    </tr>\n",
       "    <tr>\n",
       "      <th>2022-07-14</th>\n",
       "      <td>30710</td>\n",
       "      <td>63965</td>\n",
       "    </tr>\n",
       "    <tr>\n",
       "      <th>2022-07-15</th>\n",
       "      <td>30895</td>\n",
       "      <td>64190</td>\n",
       "    </tr>\n",
       "    <tr>\n",
       "      <th>2022-07-18</th>\n",
       "      <td>31580</td>\n",
       "      <td>64160</td>\n",
       "    </tr>\n",
       "    <tr>\n",
       "      <th>2022-07-19</th>\n",
       "      <td>31465</td>\n",
       "      <td>64080</td>\n",
       "    </tr>\n",
       "  </tbody>\n",
       "</table>\n",
       "<p>134 rows × 2 columns</p>\n",
       "</div>"
      ],
      "text/plain": [
       "            kodex200  kodex10Bond\n",
       "Date                             \n",
       "2022-01-03     39331        68415\n",
       "2022-01-04     39307        68450\n",
       "2022-01-05     38746        68030\n",
       "2022-01-06     38357        67480\n",
       "2022-01-07     38839        67460\n",
       "...              ...          ...\n",
       "2022-07-13     30820        63960\n",
       "2022-07-14     30710        63965\n",
       "2022-07-15     30895        64190\n",
       "2022-07-18     31580        64160\n",
       "2022-07-19     31465        64080\n",
       "\n",
       "[134 rows x 2 columns]"
      ]
     },
     "execution_count": 16,
     "metadata": {},
     "output_type": "execute_result"
    }
   ],
   "source": [
    "dataSet = pd.concat([kodex200, kodex10Bond], axis=1)\n",
    "dataSet.columns = ['kodex200', 'kodex10Bond']\n",
    "dataSet"
   ]
  },
  {
   "cell_type": "code",
   "execution_count": 20,
   "id": "07d047ef",
   "metadata": {},
   "outputs": [],
   "source": [
    "_, portCumReturn =getPortfolioResult(dataSet)"
   ]
  },
  {
   "cell_type": "code",
   "execution_count": 19,
   "id": "00c75b3b",
   "metadata": {},
   "outputs": [],
   "source": [
    "def getEvaluation(cumulativeReturn):\n",
    "    \"\"\"\n",
    "    cagr, dd, mdd\n",
    "    투자 성과 지표\n",
    "    \"\"\"\n",
    "    # cagr\n",
    "    cagr = cumulativeReturn.iloc[-1] ** (252/len(cumulativeReturn))\n",
    "    # mdd\n",
    "    dd = (cumulativeReturn.cummax() - cumulativeReturn) / cumulativeReturn.cummax() * 100\n",
    "    mdd= dd.max()\n",
    "    \n",
    "    print(f\"cagr: {cagr}\\nmdd: {mdd}\")\n",
    "\n",
    "    return cagr, dd, mdd"
   ]
  },
  {
   "cell_type": "code",
   "execution_count": 21,
   "id": "e47aefa8",
   "metadata": {},
   "outputs": [
    {
     "name": "stdout",
     "output_type": "stream",
     "text": [
      "cagr: 0.7668002813481316\n",
      "mdd: 15.883002903455045\n"
     ]
    },
    {
     "data": {
      "text/plain": [
       "(0.7668002813481316,\n",
       " Date\n",
       " 2022-01-03     0.000000\n",
       " 2022-01-04     0.004931\n",
       " 2022-01-05     1.025059\n",
       " 2022-01-06     1.921539\n",
       " 2022-01-07     1.323407\n",
       "                 ...    \n",
       " 2022-07-13    14.075575\n",
       " 2022-07-14    14.211759\n",
       " 2022-07-15    13.812138\n",
       " 2022-07-18    12.963249\n",
       " 2022-07-19    13.167911\n",
       " Length: 134, dtype: float64,\n",
       " 15.883002903455045)"
      ]
     },
     "execution_count": 21,
     "metadata": {},
     "output_type": "execute_result"
    }
   ],
   "source": [
    "getEvaluation(portCumReturn)"
   ]
  },
  {
   "cell_type": "code",
   "execution_count": null,
   "id": "2983d43b",
   "metadata": {},
   "outputs": [],
   "source": [
    "def getCloseData(ticker, start, end=None):\n",
    "    \"\"\"\n",
    "    종가 데이터\n",
    "    ticker: 종목 번호\n",
    "    start: 시작일\n",
    "    end: 마지막 날짜\n",
    "    return: 종목의 종가 데이터\n",
    "    \"\"\"\n",
    "    return fdr.DataReader(ticker, start, end)['Close']\n",
    "\n",
    "def getDayReturn(closeDataSet):\n",
    "    \"\"\"\n",
    "    개별종목 일별 수익률\n",
    "    closeDataSet: 종가 데이터\n",
    "    return: 종가 데이터의 일별 수익률\n",
    "    \"\"\"\n",
    "    return (closeDataSet / closeDataSet.shift(1)).fillna(1)\n",
    "\n",
    "def getCumulativeReturn(closeDataSet):\n",
    "    \"\"\"\n",
    "    개별종목 누적수익률 == 자산흐름\n",
    "    closeDataSet: 종가 데이터\n",
    "    return:종가데이터 누적수익률\n",
    "    \"\"\"\n",
    "    return closeDataSet / closeDataSet.iloc[0]\n",
    "\n",
    "def getPortfolioResult(closeDataSet, weight=None):\n",
    "    \"\"\"\n",
    "    포트폴리오 결과\n",
    "    closeDataSet: 종가 데이터\n",
    "    weight: 포트폴리오 개별자산 비중\n",
    "    return: 포트폴리오 일간수익률, 누적수익률\n",
    "    \"\"\"\n",
    "    # 개별종목 일별 수익률\n",
    "    dayReturn = getDayReturn(closeDataSet)\n",
    "    # 개별종목 누적 수익률\n",
    "    cumulativeReturn = getCumulativeReturn(closeDataSet)\n",
    "    # 자산별 비중. 기본값: 동일비중\n",
    "    if not weight:\n",
    "        weight = [1/len(closeDataSet.columns)] * len(closeDataSet.columns)\n",
    "        \n",
    "    # 포트폴리오 누적 수익률\n",
    "    portfolioCumulativeReturn = (weight * cumulativeReturn).sum(axis=1)\n",
    "    # 포트폴리오 일별 수익률\n",
    "    portfolioDayReturn = (portfolioCumulativeReturn / portfolioCumulativeReturn.shift(1)).fillna(1)\n",
    "        \n",
    "#     # 자산별 비중이 반영된 개별자산 누적 수익률\n",
    "#     weightedCumulativeReturn = weight * cumulativeReturn\n",
    "#     # 자산흐름 정규화: 시기별 각 자산 보유 비율\n",
    "#     normalizedAssetFlow = weightedCumulativeReturn.divide(weightedCumulativeReturn.sum(axis=1), axis=0) # 각 행의 합으로 각 행을 나누기\n",
    "#     # 자산별 비중이 반영된 개별자산 일별 수익률\n",
    "#     weightedDayReturn = normalizedAssetFlow * dayReturn.shift(-1).fillna(0)\n",
    "#     # 포트폴리오 일별 수익률 = 자산별 비중이 반영된 개별자산 일별 수익률의 합\n",
    "#     portfolioDayReturn = weightedDayReturn.sum(axis=1).shift(1).fillna(1)\n",
    "#     # 포트폴리오 누적 수익률\n",
    "#     portfolioCumulativeReturn = portfolioDayReturn.cumprod()\n",
    "# #     portfolioCumulativeReturn = weightedCumulativeReturn.sum(axis=1)\n",
    "    \n",
    "    return portfolioDayReturn, portfolioCumulativeReturn\n",
    "\n",
    "def getEvaluation(cumulativeReturn):\n",
    "    \"\"\"\n",
    "    cagr, dd, mdd\n",
    "    투자 성과 지표\n",
    "    \"\"\"\n",
    "    # cagr\n",
    "    cagr = cumulativeReturn.iloc[-1] ** (252/len(cumulativeReturn))\n",
    "    # mdd\n",
    "    dd = (cumulativeReturn.cummax() - cumulativeReturn) / cumulativeReturn.cummax() * 100\n",
    "    mdd= dd.max()\n",
    "    \n",
    "    print(f\"cagr: {cagr}\\nmdd: {mdd}\")\n",
    "\n",
    "    return cagr, dd, mdd"
   ]
  }
 ],
 "metadata": {
  "kernelspec": {
   "display_name": "AITrading",
   "language": "python",
   "name": "aitradingproject"
  },
  "language_info": {
   "codemirror_mode": {
    "name": "ipython",
    "version": 3
   },
   "file_extension": ".py",
   "mimetype": "text/x-python",
   "name": "python",
   "nbconvert_exporter": "python",
   "pygments_lexer": "ipython3",
   "version": "3.9.12"
  }
 },
 "nbformat": 4,
 "nbformat_minor": 5
}
