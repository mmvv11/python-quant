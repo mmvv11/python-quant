{
 "cells": [
  {
   "cell_type": "code",
   "execution_count": 1,
   "id": "f9c3adf1",
   "metadata": {},
   "outputs": [],
   "source": [
    "import FinanceDataReader as fdr\n",
    "import pandas as pd\n",
    "import matplotlib.pyplot as plt\n",
    "import numpy as np\n",
    "\n",
    "def getCloseData(ticker, start, end=None):\n",
    "    \"\"\"\n",
    "    종가 데이터\n",
    "    ticker: 종목 번호\n",
    "    start: 시작일\n",
    "    end: 마지막 날짜\n",
    "    return: 종목의 종가 데이터\n",
    "    \"\"\"\n",
    "    return fdr.DataReader(ticker, start, end)['Close']\n",
    "\n",
    "def getDayReturn(closeDataSet):\n",
    "    \"\"\"\n",
    "    개별종목 일별 수익률\n",
    "    closeDataSet: 종가 데이터\n",
    "    return: 종가 데이터의 일별 수익률\n",
    "    \"\"\"\n",
    "    return (closeDataSet / closeDataSet.shift(1)).fillna(1)\n",
    "\n",
    "def getCumulativeReturn(closeDataSet):\n",
    "    \"\"\"\n",
    "    개별종목 누적수익률 == 자산흐름\n",
    "    closeDataSet: 종가 데이터\n",
    "    return:종가데이터 누적수익률\n",
    "    \"\"\"\n",
    "    return closeDataSet / closeDataSet.iloc[0]\n",
    "\n",
    "def getPortfolioResult(closeDataSet, weight=None):\n",
    "    \"\"\"\n",
    "    포트폴리오 결과\n",
    "    closeDataSet: 종가 데이터\n",
    "    weight: 포트폴리오 개별자산 비중\n",
    "    return: 포트폴리오 일간수익률, 누적수익률\n",
    "    \"\"\"\n",
    "    # 개별종목 일별 수익률\n",
    "    dayReturn = getDayReturn(closeDataSet)\n",
    "    # 개별종목 누적 수익률\n",
    "    cumulativeReturn = getCumulativeReturn(closeDataSet)\n",
    "    # 자산별 비중. 기본값: 동일비중\n",
    "    if not weight:\n",
    "        weight = [1/len(closeDataSet.columns)] * len(closeDataSet.columns)\n",
    "        \n",
    "    # 포트폴리오 누적 수익률\n",
    "    portfolioCumulativeReturn = (weight * cumulativeReturn).sum(axis=1)\n",
    "    # 포트폴리오 일별 수익률\n",
    "    portfolioDayReturn = (portfolioCumulativeReturn / portfolioCumulativeReturn.shift(1)).fillna(1)    \n",
    "    return portfolioDayReturn, portfolioCumulativeReturn\n",
    "\n",
    "def getEvaluation(cumulativeReturn):\n",
    "    \"\"\"\n",
    "    cagr, dd, mdd\n",
    "    투자 성과 지표\n",
    "    \"\"\"\n",
    "    # cagr\n",
    "    cagr = cumulativeReturn.iloc[-1] ** (252/len(cumulativeReturn))\n",
    "    # mdd\n",
    "    dd = (cumulativeReturn.cummax() - cumulativeReturn) / cumulativeReturn.cummax() * 100\n",
    "    mdd= dd.max()\n",
    "    \n",
    "    print(f\"최종 수익률: {cumulativeReturn.iloc[-1]}\\ncagr: {cagr}\\nmdd: {mdd}\")\n",
    "\n",
    "    return cagr, dd, mdd\n",
    "\n",
    "def getRebalancingDate(closeDataSet, period=\"month\"):\n",
    "    \"\"\"\n",
    "    리밸런싱 일자 추출\n",
    "    월별, 분기별, 연별\n",
    "    \"\"\"\n",
    "    data = closeDataSet.copy()\n",
    "    data = pd.DataFrame(data)\n",
    "    data.index = pd.to_datetime(data.index)\n",
    "    data['year'] = data.index.year\n",
    "    data['month'] = data.index.month\n",
    "    \n",
    "    if period == \"month\":\n",
    "        rebalancingDate = data.drop_duplicates(['year', 'month'], keep=\"last\").index\n",
    "        \n",
    "    if period == \"quarter\":\n",
    "        # 3 6 9 12월 말에 리밸런싱\n",
    "        # np where 같은걸로 3, 6, 9, 12월 데이터만 가져오고\n",
    "        # drop_duplicates keep last 하면 됌\n",
    "        quarter = [3,6,9,12]\n",
    "        data = data.loc[data['month'].isin(quarter)]\n",
    "        rebalancingDate = data.drop_duplicates(['year', 'month'], keep=\"last\").index\n",
    "    \n",
    "    if period == \"year\":\n",
    "        rebalancingDate = data.drop_duplicates(['year'], keep=\"last\").index\n",
    "        \n",
    "    return rebalancingDate\n",
    "\n",
    "def getRebalancingPortfolioResult(closeDataSet, period = \"month\", weightDf=None):\n",
    "    \"\"\"\n",
    "    리밸런싱 포트폴리오 결과\n",
    "    closeDataSet: 종가 데이터\n",
    "    weight: 포트폴리오 개별자산 비중\n",
    "    return: 포트폴리오 일간수익률, 누적수익률\n",
    "    \"\"\"\n",
    "    \n",
    "    rebalancingDate = getRebalancingDate(closeDataSet, period) # 리밸런싱 날짜\n",
    "    \n",
    "    # 자산별 비중. 기본값: 동일비중\n",
    "    if weightDf is None:\n",
    "        weightDf = pd.DataFrame([[1/len(closeDataSet.columns)] * len(closeDataSet.columns)] * len(rebalancingDate),\n",
    "                              index=rebalancingDate,\n",
    "                              columns=closeDataSet.columns)\n",
    "      \n",
    "    portfolio = pd.DataFrame() # 빈 데이터 프레임 생성\n",
    "\n",
    "    totalAsset = 1 # 총 자산, 초기값 1\n",
    "    start = rebalancingDate[0] # 리밸런싱 날짜, 초기값 첫 투자일\n",
    "\n",
    "    for end in rebalancingDate[1:]:\n",
    "        weight = weightDf.loc[start] # 당월 리밸런싱 비율\n",
    "        priceData = closeDataSet.loc[start:end] # 당월 가격 데이터\n",
    "        cumReturn = getCumulativeReturn(priceData) # 당월 누적 수익률\n",
    "        weightedCumReturn = weight * cumReturn # 당월 리밸런싱 비율이 반영된 누적 수익률\n",
    "        netCumReturn = totalAsset * weightedCumReturn # 전월 투자 결과 반영\n",
    "\n",
    "        start = end # start 갱신\n",
    "        totalAsset = netCumReturn.iloc[-1].sum() # 총 자산 갱신\n",
    "        portfolio = pd.concat([portfolio, netCumReturn]) # 매월 데이터 추가\n",
    "    \n",
    "    portfolio = portfolio.loc[~portfolio.index.duplicated(keep='last')] # 중복 데이터 제거\n",
    "    portfolioCumulativeReturn = portfolio.sum(axis=1) # 포트폴리오 누적 수익률\n",
    "    portfolioDayReturn = (portfolioCumulativeReturn / portfolioCumulativeReturn.shift(1)).fillna(1) # 포트폴리오 일간 수익률\n",
    "    \n",
    "    return portfolioDayReturn, portfolioCumulativeReturn\n",
    "\n",
    "def getWeightByAvgMomentumScore(closeDataSet, n = 12):\n",
    "    \"\"\"\n",
    "    평균 모멘텀 스코어를 기반으로 한 투자 비중 구하기\n",
    "    closeDataSet: 종가 데이터\n",
    "    n: 모멘텀 기간 1~n\n",
    "    return: 투자비중 weight df, 평균모멘텀 스코어 df\n",
    "    \"\"\"\n",
    "    avgMomentumScore = 0 # 평모스 초기값\n",
    "    priceOnRebalDate = closeDataSet.loc[getRebalancingDate(closeDataSet)] # 리밸런싱 일자의 가격 데이터\n",
    "    \n",
    "    # 1 ~ n개월 모멘텀 스코어 합\n",
    "    for i in range(1, n+1):\n",
    "        avgMomentumScore = np.where(priceOnRebalDate / priceOnRebalDate.shift(i) > 1, 1, 0) + avgMomentumScore\n",
    "        \n",
    "    # 평모스 계산\n",
    "    avgMomentumScore = pd.DataFrame(avgMomentumScore, index=priceOnRebalDate.index, columns=priceOnRebalDate.columns) # dataframe 형변환\n",
    "    avgMomentumScore = avgMomentumScore / n\n",
    "    \n",
    "    # 모멘텀 스코어에 따른 weight 계산\n",
    "    weight = avgMomentumScore.divide(avgMomentumScore.sum(axis=1), axis=0).fillna(0)\n",
    "    # 투자 비중이 모두 0인 구간에서는 현금 보유\n",
    "    weight['cash'] = np.where(weight.sum(axis=1) == 0, 1, 0)\n",
    "    \n",
    "    # 투자비중, 평모스 리턴\n",
    "    return weight, avgMomentumScore"
   ]
  },
  {
   "cell_type": "markdown",
   "id": "362296b1",
   "metadata": {},
   "source": [
    "  "
   ]
  },
  {
   "cell_type": "markdown",
   "id": "5ae2219b",
   "metadata": {},
   "source": [
    "  "
   ]
  },
  {
   "cell_type": "markdown",
   "id": "71027d51",
   "metadata": {},
   "source": [
    "  "
   ]
  },
  {
   "cell_type": "markdown",
   "id": "3634b4ab",
   "metadata": {},
   "source": [
    "## 리밸런싱\n"
   ]
  },
  {
   "cell_type": "markdown",
   "id": "c969ef2b",
   "metadata": {},
   "source": [
    "  "
   ]
  },
  {
   "cell_type": "markdown",
   "id": "7cd2e20e",
   "metadata": {},
   "source": [
    "#### 리밸런싱 개념  "
   ]
  },
  {
   "cell_type": "markdown",
   "id": "60bf48b6",
   "metadata": {},
   "source": [
    "우리가 지금까지 배운 방법은 Buy & Hold 전략입니다.  \n",
    "결국 장기적인 관점에서 자산 가치는 우상향하게 되어있기 때문에 가격의 흔들림에 굴하지 않고 기다리는 전략이었습니다.  \n",
    "아주 오랜시간 기다려야하고. 중간중간 큰 낙폭이 오면 그대로 맞아야 하는 단점이 있습니다.  \n",
    "이번에 배워볼 기법은 리밸런싱 입니다.  \n",
    "리밸런싱이란 주기적으로 자산간 비중을 조절하는 것입니다.  \n",
    "리밸런싱을 하는 이유는, 중간중간 적당한 차익을 실현하기 위함입니다.  \n",
    "조금 더 고급진 표현으로는 고평가 된 자산을 일부 매도해서 저평가 된 자산을 매수하기 위해서 입니다.  \n",
    "이렇게 리밸런싱 통해 일종에 고점 매도와 저점 매수효과를 어느정도 누릴 수 있게 되는 것입니다."
   ]
  },
  {
   "cell_type": "code",
   "execution_count": 2,
   "id": "ad25cb2f",
   "metadata": {},
   "outputs": [
    {
     "data": {
      "text/html": [
       "<div>\n",
       "<style scoped>\n",
       "    .dataframe tbody tr th:only-of-type {\n",
       "        vertical-align: middle;\n",
       "    }\n",
       "\n",
       "    .dataframe tbody tr th {\n",
       "        vertical-align: top;\n",
       "    }\n",
       "\n",
       "    .dataframe thead th {\n",
       "        text-align: right;\n",
       "    }\n",
       "</style>\n",
       "<table border=\"1\" class=\"dataframe\">\n",
       "  <thead>\n",
       "    <tr style=\"text-align: right;\">\n",
       "      <th></th>\n",
       "      <th>stock</th>\n",
       "      <th>bond</th>\n",
       "    </tr>\n",
       "  </thead>\n",
       "  <tbody>\n",
       "    <tr>\n",
       "      <th>0</th>\n",
       "      <td>10</td>\n",
       "      <td>5</td>\n",
       "    </tr>\n",
       "    <tr>\n",
       "      <th>1</th>\n",
       "      <td>5</td>\n",
       "      <td>10</td>\n",
       "    </tr>\n",
       "    <tr>\n",
       "      <th>2</th>\n",
       "      <td>10</td>\n",
       "      <td>5</td>\n",
       "    </tr>\n",
       "    <tr>\n",
       "      <th>3</th>\n",
       "      <td>5</td>\n",
       "      <td>10</td>\n",
       "    </tr>\n",
       "    <tr>\n",
       "      <th>4</th>\n",
       "      <td>10</td>\n",
       "      <td>5</td>\n",
       "    </tr>\n",
       "    <tr>\n",
       "      <th>5</th>\n",
       "      <td>5</td>\n",
       "      <td>10</td>\n",
       "    </tr>\n",
       "    <tr>\n",
       "      <th>6</th>\n",
       "      <td>10</td>\n",
       "      <td>5</td>\n",
       "    </tr>\n",
       "    <tr>\n",
       "      <th>7</th>\n",
       "      <td>5</td>\n",
       "      <td>10</td>\n",
       "    </tr>\n",
       "    <tr>\n",
       "      <th>8</th>\n",
       "      <td>10</td>\n",
       "      <td>5</td>\n",
       "    </tr>\n",
       "    <tr>\n",
       "      <th>9</th>\n",
       "      <td>5</td>\n",
       "      <td>10</td>\n",
       "    </tr>\n",
       "  </tbody>\n",
       "</table>\n",
       "</div>"
      ],
      "text/plain": [
       "   stock  bond\n",
       "0     10     5\n",
       "1      5    10\n",
       "2     10     5\n",
       "3      5    10\n",
       "4     10     5\n",
       "5      5    10\n",
       "6     10     5\n",
       "7      5    10\n",
       "8     10     5\n",
       "9      5    10"
      ]
     },
     "execution_count": 2,
     "metadata": {},
     "output_type": "execute_result"
    }
   ],
   "source": [
    "dummyData =pd.DataFrame(\n",
    "    {\n",
    "        \"stock\": [10, 5] * 5,\n",
    "        \"bond\": [5, 10] * 5,\n",
    "    },\n",
    ")\n",
    "dummyData"
   ]
  },
  {
   "cell_type": "code",
   "execution_count": 3,
   "id": "225c4eb1",
   "metadata": {},
   "outputs": [
    {
     "data": {
      "image/png": "[encoded data removed]",
      "text/plain": [
       "<Figure size 1440x360 with 1 Axes>"
      ]
     },
     "metadata": {
      "needs_background": "light"
     },
     "output_type": "display_data"
    }
   ],
   "source": [
    "dummyData.plot(figsize=(20,5))\n",
    "plt.xticks(dummyData.index)\n",
    "plt.show()"
   ]
  },
  {
   "cell_type": "markdown",
   "id": "538043d5",
   "metadata": {},
   "source": [
    "0기에 20원이 있었고, 1:1로 채권과 주식을 매수했습니다. 그럼 평가액은 20~25을 반복하다가 결국 20이 됩니다.  \n",
    "하지만 매번 1:1로 밸런스를 맞춘다 가정하고 다시 계산 해보도록 하겠습니다.  \n",
    "그러면 매번 1.25배 늘어납니다. 이게 바로 리밸런싱 효과입니다.  \n",
    "물론 이건 리밸런싱 효과를 잘 설명하기 위한 예시입니다.  \n",
    "실제로는 가격 움직임이 저렇지 않아서 한쪽만 계속 오르고, 떨어진다면 리밸런싱 효과는 없겠죠.  \n",
    "하지만 일반적으로 시장은 횡보와 추세를 계속 반복하기 때문에 리밸런싱 효과를 어느정도 누리는게 일반적으로 검증된 사실입니다."
   ]
  },
  {
   "cell_type": "markdown",
   "id": "c4038b14",
   "metadata": {},
   "source": [
    "지금까지는 사고 그대로 존버하는 포지션이었지만,  \n",
    "이번엔 **매월 말 주식:현금 = 1:1 비율로 조절해주는 리밸런싱 기법**을 도입해보겠습니다.  "
   ]
  },
  {
   "cell_type": "markdown",
   "id": "ef90c77a",
   "metadata": {},
   "source": [
    "  "
   ]
  },
  {
   "cell_type": "markdown",
   "id": "f9a6c9fc",
   "metadata": {},
   "source": [
    "#### 리밸런싱 기법을 코드로 구현하기"
   ]
  },
  {
   "cell_type": "code",
   "execution_count": 4,
   "id": "a3013acc",
   "metadata": {},
   "outputs": [
    {
     "data": {
      "text/html": [
       "<div>\n",
       "<style scoped>\n",
       "    .dataframe tbody tr th:only-of-type {\n",
       "        vertical-align: middle;\n",
       "    }\n",
       "\n",
       "    .dataframe tbody tr th {\n",
       "        vertical-align: top;\n",
       "    }\n",
       "\n",
       "    .dataframe thead th {\n",
       "        text-align: right;\n",
       "    }\n",
       "</style>\n",
       "<table border=\"1\" class=\"dataframe\">\n",
       "  <thead>\n",
       "    <tr style=\"text-align: right;\">\n",
       "      <th></th>\n",
       "      <th>kodex200</th>\n",
       "      <th>kodex10Bond</th>\n",
       "    </tr>\n",
       "  </thead>\n",
       "  <tbody>\n",
       "    <tr>\n",
       "      <th>2022-01-31</th>\n",
       "      <td>100</td>\n",
       "      <td>100</td>\n",
       "    </tr>\n",
       "    <tr>\n",
       "      <th>2022-02-10</th>\n",
       "      <td>140</td>\n",
       "      <td>90</td>\n",
       "    </tr>\n",
       "    <tr>\n",
       "      <th>2022-02-21</th>\n",
       "      <td>120</td>\n",
       "      <td>105</td>\n",
       "    </tr>\n",
       "    <tr>\n",
       "      <th>2022-02-28</th>\n",
       "      <td>110</td>\n",
       "      <td>115</td>\n",
       "    </tr>\n",
       "    <tr>\n",
       "      <th>2022-03-10</th>\n",
       "      <td>100</td>\n",
       "      <td>125</td>\n",
       "    </tr>\n",
       "    <tr>\n",
       "      <th>2022-03-19</th>\n",
       "      <td>120</td>\n",
       "      <td>130</td>\n",
       "    </tr>\n",
       "    <tr>\n",
       "      <th>2022-03-31</th>\n",
       "      <td>110</td>\n",
       "      <td>120</td>\n",
       "    </tr>\n",
       "    <tr>\n",
       "      <th>2022-04-20</th>\n",
       "      <td>115</td>\n",
       "      <td>125</td>\n",
       "    </tr>\n",
       "    <tr>\n",
       "      <th>2022-04-30</th>\n",
       "      <td>120</td>\n",
       "      <td>130</td>\n",
       "    </tr>\n",
       "  </tbody>\n",
       "</table>\n",
       "</div>"
      ],
      "text/plain": [
       "            kodex200  kodex10Bond\n",
       "2022-01-31       100          100\n",
       "2022-02-10       140           90\n",
       "2022-02-21       120          105\n",
       "2022-02-28       110          115\n",
       "2022-03-10       100          125\n",
       "2022-03-19       120          130\n",
       "2022-03-31       110          120\n",
       "2022-04-20       115          125\n",
       "2022-04-30       120          130"
      ]
     },
     "execution_count": 4,
     "metadata": {},
     "output_type": "execute_result"
    }
   ],
   "source": [
    "# 더미데이터\n",
    "closeDataSet = pd.DataFrame(\n",
    "    {\n",
    "        \"kodex200\": [100, 140, 120, 110, 100, 120, 110, 115, 120],\n",
    "        \"kodex10Bond\": [100, 90, 105, 115, 125, 130, 120, 125, 130],\n",
    "    },\n",
    "    index=pd.to_datetime([\"2022-01-31\", \"2022-02-10\", \"2022-02-21\", \"2022-02-28\", \"2022-03-10\", \"2022-03-19\", \"2022-03-31\", \"2022-04-20\", \"2022-04-30\",])\n",
    ")\n",
    "closeDataSet"
   ]
  },
  {
   "cell_type": "markdown",
   "id": "937f80a2",
   "metadata": {},
   "source": [
    "리밸런싱 날짜 계산"
   ]
  },
  {
   "cell_type": "code",
   "execution_count": 5,
   "id": "695f2112",
   "metadata": {},
   "outputs": [
    {
     "data": {
      "text/html": [
       "<div>\n",
       "<style scoped>\n",
       "    .dataframe tbody tr th:only-of-type {\n",
       "        vertical-align: middle;\n",
       "    }\n",
       "\n",
       "    .dataframe tbody tr th {\n",
       "        vertical-align: top;\n",
       "    }\n",
       "\n",
       "    .dataframe thead th {\n",
       "        text-align: right;\n",
       "    }\n",
       "</style>\n",
       "<table border=\"1\" class=\"dataframe\">\n",
       "  <thead>\n",
       "    <tr style=\"text-align: right;\">\n",
       "      <th></th>\n",
       "      <th>kodex200</th>\n",
       "      <th>kodex10Bond</th>\n",
       "      <th>year</th>\n",
       "      <th>month</th>\n",
       "    </tr>\n",
       "  </thead>\n",
       "  <tbody>\n",
       "    <tr>\n",
       "      <th>2022-01-31</th>\n",
       "      <td>100</td>\n",
       "      <td>100</td>\n",
       "      <td>2022</td>\n",
       "      <td>1</td>\n",
       "    </tr>\n",
       "    <tr>\n",
       "      <th>2022-02-10</th>\n",
       "      <td>140</td>\n",
       "      <td>90</td>\n",
       "      <td>2022</td>\n",
       "      <td>2</td>\n",
       "    </tr>\n",
       "    <tr>\n",
       "      <th>2022-02-21</th>\n",
       "      <td>120</td>\n",
       "      <td>105</td>\n",
       "      <td>2022</td>\n",
       "      <td>2</td>\n",
       "    </tr>\n",
       "    <tr>\n",
       "      <th>2022-02-28</th>\n",
       "      <td>110</td>\n",
       "      <td>115</td>\n",
       "      <td>2022</td>\n",
       "      <td>2</td>\n",
       "    </tr>\n",
       "    <tr>\n",
       "      <th>2022-03-10</th>\n",
       "      <td>100</td>\n",
       "      <td>125</td>\n",
       "      <td>2022</td>\n",
       "      <td>3</td>\n",
       "    </tr>\n",
       "    <tr>\n",
       "      <th>2022-03-19</th>\n",
       "      <td>120</td>\n",
       "      <td>130</td>\n",
       "      <td>2022</td>\n",
       "      <td>3</td>\n",
       "    </tr>\n",
       "    <tr>\n",
       "      <th>2022-03-31</th>\n",
       "      <td>110</td>\n",
       "      <td>120</td>\n",
       "      <td>2022</td>\n",
       "      <td>3</td>\n",
       "    </tr>\n",
       "    <tr>\n",
       "      <th>2022-04-20</th>\n",
       "      <td>115</td>\n",
       "      <td>125</td>\n",
       "      <td>2022</td>\n",
       "      <td>4</td>\n",
       "    </tr>\n",
       "    <tr>\n",
       "      <th>2022-04-30</th>\n",
       "      <td>120</td>\n",
       "      <td>130</td>\n",
       "      <td>2022</td>\n",
       "      <td>4</td>\n",
       "    </tr>\n",
       "  </tbody>\n",
       "</table>\n",
       "</div>"
      ],
      "text/plain": [
       "            kodex200  kodex10Bond  year  month\n",
       "2022-01-31       100          100  2022      1\n",
       "2022-02-10       140           90  2022      2\n",
       "2022-02-21       120          105  2022      2\n",
       "2022-02-28       110          115  2022      2\n",
       "2022-03-10       100          125  2022      3\n",
       "2022-03-19       120          130  2022      3\n",
       "2022-03-31       110          120  2022      3\n",
       "2022-04-20       115          125  2022      4\n",
       "2022-04-30       120          130  2022      4"
      ]
     },
     "execution_count": 5,
     "metadata": {},
     "output_type": "execute_result"
    }
   ],
   "source": [
    "# 매달 마지막 영업일\n",
    "\n",
    "copyCloseDataSet = closeDataSet.copy()\n",
    "\n",
    "copyCloseDataSet['year'] = copyCloseDataSet.index.year\n",
    "copyCloseDataSet['month'] = copyCloseDataSet.index.month\n",
    "\n",
    "copyCloseDataSet"
   ]
  },
  {
   "cell_type": "code",
   "execution_count": 6,
   "id": "30144ffa",
   "metadata": {},
   "outputs": [
    {
     "data": {
      "text/plain": [
       "DatetimeIndex(['2022-01-31', '2022-02-28', '2022-03-31', '2022-04-30'], dtype='datetime64[ns]', freq=None)"
      ]
     },
     "execution_count": 6,
     "metadata": {},
     "output_type": "execute_result"
    }
   ],
   "source": [
    "rebalancingDate = copyCloseDataSet.drop_duplicates(['year','month'], keep=\"last\").index\n",
    "rebalancingDate"
   ]
  },
  {
   "cell_type": "markdown",
   "id": "890d961c",
   "metadata": {},
   "source": [
    "리밸런싱 비중 계산"
   ]
  },
  {
   "cell_type": "code",
   "execution_count": 7,
   "id": "eaaa563c",
   "metadata": {},
   "outputs": [
    {
     "data": {
      "text/plain": [
       "[0.5, 0.5]"
      ]
     },
     "execution_count": 7,
     "metadata": {},
     "output_type": "execute_result"
    }
   ],
   "source": [
    "# 원하는 비중으로 넣어도 되지만, 우선 동일비중으로 가정\n",
    "defaultWeight = [1/len(closeDataSet.columns)] * len(closeDataSet.columns) # [1/n, 1/n ~~~]\n",
    "defaultWeight"
   ]
  },
  {
   "cell_type": "code",
   "execution_count": 8,
   "id": "3e857fb4",
   "metadata": {},
   "outputs": [
    {
     "data": {
      "text/html": [
       "<div>\n",
       "<style scoped>\n",
       "    .dataframe tbody tr th:only-of-type {\n",
       "        vertical-align: middle;\n",
       "    }\n",
       "\n",
       "    .dataframe tbody tr th {\n",
       "        vertical-align: top;\n",
       "    }\n",
       "\n",
       "    .dataframe thead th {\n",
       "        text-align: right;\n",
       "    }\n",
       "</style>\n",
       "<table border=\"1\" class=\"dataframe\">\n",
       "  <thead>\n",
       "    <tr style=\"text-align: right;\">\n",
       "      <th></th>\n",
       "      <th>kodex200</th>\n",
       "      <th>kodex10Bond</th>\n",
       "    </tr>\n",
       "  </thead>\n",
       "  <tbody>\n",
       "    <tr>\n",
       "      <th>2022-01-31</th>\n",
       "      <td>0.5</td>\n",
       "      <td>0.5</td>\n",
       "    </tr>\n",
       "    <tr>\n",
       "      <th>2022-02-28</th>\n",
       "      <td>0.5</td>\n",
       "      <td>0.5</td>\n",
       "    </tr>\n",
       "    <tr>\n",
       "      <th>2022-03-31</th>\n",
       "      <td>0.5</td>\n",
       "      <td>0.5</td>\n",
       "    </tr>\n",
       "    <tr>\n",
       "      <th>2022-04-30</th>\n",
       "      <td>0.5</td>\n",
       "      <td>0.5</td>\n",
       "    </tr>\n",
       "  </tbody>\n",
       "</table>\n",
       "</div>"
      ],
      "text/plain": [
       "            kodex200  kodex10Bond\n",
       "2022-01-31       0.5          0.5\n",
       "2022-02-28       0.5          0.5\n",
       "2022-03-31       0.5          0.5\n",
       "2022-04-30       0.5          0.5"
      ]
     },
     "execution_count": 8,
     "metadata": {},
     "output_type": "execute_result"
    }
   ],
   "source": [
    "monthlyWeight = pd.DataFrame([defaultWeight] * len(rebalancingDate), index=rebalancingDate, columns=closeDataSet.columns)  # df 변환\n",
    "monthlyWeight"
   ]
  },
  {
   "cell_type": "markdown",
   "id": "d768c0a1",
   "metadata": {},
   "source": [
    "   "
   ]
  },
  {
   "cell_type": "markdown",
   "id": "6dccc94f",
   "metadata": {},
   "source": [
    "   "
   ]
  },
  {
   "cell_type": "markdown",
   "id": "8a4cee91",
   "metadata": {},
   "source": [
    "**(월별 리밸런싱 비중 * 누적 수익률) 구하기**"
   ]
  },
  {
   "cell_type": "code",
   "execution_count": 9,
   "id": "88ef0195",
   "metadata": {
    "scrolled": true
   },
   "outputs": [
    {
     "name": "stdout",
     "output_type": "stream",
     "text": [
      "            kodex200  kodex10Bond\n",
      "2022-01-31      0.50        0.500\n",
      "2022-02-10      0.70        0.450\n",
      "2022-02-21      0.60        0.525\n",
      "2022-02-28      0.55        0.575\n",
      "            kodex200  kodex10Bond\n",
      "2022-02-28  0.500000     0.500000\n",
      "2022-03-10  0.454545     0.543478\n",
      "2022-03-19  0.545455     0.565217\n",
      "2022-03-31  0.500000     0.521739\n",
      "            kodex200  kodex10Bond\n",
      "2022-03-31  0.500000     0.500000\n",
      "2022-04-20  0.522727     0.520833\n",
      "2022-04-30  0.545455     0.541667\n"
     ]
    }
   ],
   "source": [
    "start = rebalancingDate[0] # 리밸런싱 날짜, 초기값 첫 투자일\n",
    "\n",
    "for end in rebalancingDate[1:]:\n",
    "    weight = monthlyWeight.loc[start] # 당월 리밸런싱 비율\n",
    "    priceData = closeDataSet.loc[start:end] # 당월 가격 데이터\n",
    "    cumReturn = getCumulativeReturn(priceData) # 당월 누적 수익률\n",
    "    weightedCumReturn = weight * cumReturn # 당월 리밸런싱 비율이 반영된 누적 수익률\n",
    "    \n",
    "    start = end # start 갱신\n",
    "    print(weightedCumReturn)"
   ]
  },
  {
   "cell_type": "markdown",
   "id": "9c3014ff",
   "metadata": {},
   "source": [
    "   "
   ]
  },
  {
   "cell_type": "markdown",
   "id": "dfcc7728",
   "metadata": {},
   "source": [
    "**월별 투자 결과가 그 다음달에도 연속적으로 반영되어야 합니다.**"
   ]
  },
  {
   "cell_type": "markdown",
   "id": "00a986dc",
   "metadata": {},
   "source": [
    "   "
   ]
  },
  {
   "cell_type": "code",
   "execution_count": 10,
   "id": "c6d75647",
   "metadata": {
    "scrolled": true
   },
   "outputs": [
    {
     "name": "stdout",
     "output_type": "stream",
     "text": [
      "갱신 전 총 자산:  1\n",
      "            kodex200  kodex10Bond\n",
      "2022-01-31      0.50        0.500\n",
      "2022-02-10      0.70        0.450\n",
      "2022-02-21      0.60        0.525\n",
      "2022-02-28      0.55        0.575\n",
      "갱신 후 총 자산:  1.125\n",
      "갱신 전 총 자산:  1.125\n",
      "            kodex200  kodex10Bond\n",
      "2022-02-28  0.562500     0.562500\n",
      "2022-03-10  0.511364     0.611413\n",
      "2022-03-19  0.613636     0.635870\n",
      "2022-03-31  0.562500     0.586957\n",
      "갱신 후 총 자산:  1.1494565217391304\n",
      "갱신 전 총 자산:  1.1494565217391304\n",
      "            kodex200  kodex10Bond\n",
      "2022-03-31  0.574728     0.574728\n",
      "2022-04-20  0.600852     0.598675\n",
      "2022-04-30  0.626976     0.622622\n",
      "갱신 후 총 자산:  1.2495985671936758\n"
     ]
    }
   ],
   "source": [
    "# 투자 결과 연속 반영\n",
    "\n",
    "totalAsset = 1 # 총 자산, 초기값 1\n",
    "start = rebalancingDate[0] # 리밸런싱 날짜, 초기값 첫 투자일\n",
    "\n",
    "for end in rebalancingDate[1:]:\n",
    "    weight = monthlyWeight.loc[start] # 당월 리밸런싱 비율\n",
    "    priceData = closeDataSet.loc[start:end] # 당월 가격 데이터\n",
    "    cumReturn = getCumulativeReturn(priceData) # 당월 누적 수익률\n",
    "    weightedCumReturn = weight * cumReturn # 당월 리밸런싱 비율이 반영된 누적 수익률\n",
    "    \n",
    "    \n",
    "    netCumReturn = totalAsset * weightedCumReturn # 전월 투자 결과 반영\n",
    "    \n",
    "    \n",
    "    start = end # start 갱신\n",
    "    \n",
    "    print(\"갱신 전 총 자산: \",totalAsset)\n",
    "    totalAsset = netCumReturn.iloc[-1].sum() # 총 자산 갱신\n",
    "    print(netCumReturn)\n",
    "    print(\"갱신 후 총 자산: \",totalAsset)"
   ]
  },
  {
   "cell_type": "markdown",
   "id": "fd24182f",
   "metadata": {},
   "source": [
    "   "
   ]
  },
  {
   "cell_type": "markdown",
   "id": "138bcb25",
   "metadata": {},
   "source": [
    "**위 결과를 하나의 데이터 프레임으로 합쳐서 전체 포트폴리오의 누적 수익률을 계산 할 수 있습니다.**"
   ]
  },
  {
   "cell_type": "markdown",
   "id": "fface605",
   "metadata": {},
   "source": [
    "   "
   ]
  },
  {
   "cell_type": "code",
   "execution_count": 11,
   "id": "7572c00f",
   "metadata": {
    "scrolled": true
   },
   "outputs": [
    {
     "data": {
      "text/html": [
       "<div>\n",
       "<style scoped>\n",
       "    .dataframe tbody tr th:only-of-type {\n",
       "        vertical-align: middle;\n",
       "    }\n",
       "\n",
       "    .dataframe tbody tr th {\n",
       "        vertical-align: top;\n",
       "    }\n",
       "\n",
       "    .dataframe thead th {\n",
       "        text-align: right;\n",
       "    }\n",
       "</style>\n",
       "<table border=\"1\" class=\"dataframe\">\n",
       "  <thead>\n",
       "    <tr style=\"text-align: right;\">\n",
       "      <th></th>\n",
       "      <th>kodex200</th>\n",
       "      <th>kodex10Bond</th>\n",
       "    </tr>\n",
       "  </thead>\n",
       "  <tbody>\n",
       "    <tr>\n",
       "      <th>2022-01-31</th>\n",
       "      <td>0.500000</td>\n",
       "      <td>0.500000</td>\n",
       "    </tr>\n",
       "    <tr>\n",
       "      <th>2022-02-10</th>\n",
       "      <td>0.700000</td>\n",
       "      <td>0.450000</td>\n",
       "    </tr>\n",
       "    <tr>\n",
       "      <th>2022-02-21</th>\n",
       "      <td>0.600000</td>\n",
       "      <td>0.525000</td>\n",
       "    </tr>\n",
       "    <tr>\n",
       "      <th>2022-02-28</th>\n",
       "      <td>0.550000</td>\n",
       "      <td>0.575000</td>\n",
       "    </tr>\n",
       "    <tr>\n",
       "      <th>2022-02-28</th>\n",
       "      <td>0.562500</td>\n",
       "      <td>0.562500</td>\n",
       "    </tr>\n",
       "    <tr>\n",
       "      <th>2022-03-10</th>\n",
       "      <td>0.511364</td>\n",
       "      <td>0.611413</td>\n",
       "    </tr>\n",
       "    <tr>\n",
       "      <th>2022-03-19</th>\n",
       "      <td>0.613636</td>\n",
       "      <td>0.635870</td>\n",
       "    </tr>\n",
       "    <tr>\n",
       "      <th>2022-03-31</th>\n",
       "      <td>0.562500</td>\n",
       "      <td>0.586957</td>\n",
       "    </tr>\n",
       "    <tr>\n",
       "      <th>2022-03-31</th>\n",
       "      <td>0.574728</td>\n",
       "      <td>0.574728</td>\n",
       "    </tr>\n",
       "    <tr>\n",
       "      <th>2022-04-20</th>\n",
       "      <td>0.600852</td>\n",
       "      <td>0.598675</td>\n",
       "    </tr>\n",
       "    <tr>\n",
       "      <th>2022-04-30</th>\n",
       "      <td>0.626976</td>\n",
       "      <td>0.622622</td>\n",
       "    </tr>\n",
       "  </tbody>\n",
       "</table>\n",
       "</div>"
      ],
      "text/plain": [
       "            kodex200  kodex10Bond\n",
       "2022-01-31  0.500000     0.500000\n",
       "2022-02-10  0.700000     0.450000\n",
       "2022-02-21  0.600000     0.525000\n",
       "2022-02-28  0.550000     0.575000\n",
       "2022-02-28  0.562500     0.562500\n",
       "2022-03-10  0.511364     0.611413\n",
       "2022-03-19  0.613636     0.635870\n",
       "2022-03-31  0.562500     0.586957\n",
       "2022-03-31  0.574728     0.574728\n",
       "2022-04-20  0.600852     0.598675\n",
       "2022-04-30  0.626976     0.622622"
      ]
     },
     "execution_count": 11,
     "metadata": {},
     "output_type": "execute_result"
    }
   ],
   "source": [
    "# 하나의 데이터 프레임으로 합치기\n",
    "\n",
    "portfolio = pd.DataFrame() # 빈 데이터 프레임 생성\n",
    "\n",
    "totalAsset = 1 # 총 자산, 초기값 1\n",
    "start = rebalancingDate[0] # 리밸런싱 날짜, 초기값 첫 투자일\n",
    "\n",
    "for end in rebalancingDate[1:]:\n",
    "    weight = monthlyWeight.loc[start] # 당월 리밸런싱 비율\n",
    "    priceData = closeDataSet.loc[start:end] # 당월 가격 데이터\n",
    "    cumReturn = getCumulativeReturn(priceData) # 당월 누적 수익률\n",
    "    weightedCumReturn = weight * cumReturn # 당월 리밸런싱 비율이 반영된 누적 수익률\n",
    "    netCumReturn = totalAsset * weightedCumReturn # 전월 투자 결과 반영\n",
    "    \n",
    "    \n",
    "    start = end # start 갱신\n",
    "    totalAsset = netCumReturn.iloc[-1].sum() # 총 자산 갱신\n",
    "    portfolio = pd.concat([portfolio, netCumReturn]) # 매월 데이터 추가\n",
    "\n",
    "portfolio    "
   ]
  },
  {
   "cell_type": "markdown",
   "id": "35d5a7ce",
   "metadata": {},
   "source": [
    "   "
   ]
  },
  {
   "cell_type": "markdown",
   "id": "dcd75f46",
   "metadata": {},
   "source": [
    "**매달 중복되는 데이터를 제거하고, 최종 포트폴리오 누적 수익률을 계산합니다.**"
   ]
  },
  {
   "cell_type": "markdown",
   "id": "1aab569a",
   "metadata": {},
   "source": [
    "   "
   ]
  },
  {
   "cell_type": "code",
   "execution_count": 12,
   "id": "82fd9945",
   "metadata": {},
   "outputs": [
    {
     "data": {
      "text/plain": [
       "array([False, False, False,  True, False, False, False,  True, False,\n",
       "       False, False])"
      ]
     },
     "execution_count": 12,
     "metadata": {},
     "output_type": "execute_result"
    }
   ],
   "source": [
    "portfolio.index.duplicated(keep='last')"
   ]
  },
  {
   "cell_type": "code",
   "execution_count": 13,
   "id": "5af658dd",
   "metadata": {},
   "outputs": [
    {
     "data": {
      "text/html": [
       "<div>\n",
       "<style scoped>\n",
       "    .dataframe tbody tr th:only-of-type {\n",
       "        vertical-align: middle;\n",
       "    }\n",
       "\n",
       "    .dataframe tbody tr th {\n",
       "        vertical-align: top;\n",
       "    }\n",
       "\n",
       "    .dataframe thead th {\n",
       "        text-align: right;\n",
       "    }\n",
       "</style>\n",
       "<table border=\"1\" class=\"dataframe\">\n",
       "  <thead>\n",
       "    <tr style=\"text-align: right;\">\n",
       "      <th></th>\n",
       "      <th>kodex200</th>\n",
       "      <th>kodex10Bond</th>\n",
       "    </tr>\n",
       "  </thead>\n",
       "  <tbody>\n",
       "    <tr>\n",
       "      <th>2022-01-31</th>\n",
       "      <td>0.500000</td>\n",
       "      <td>0.500000</td>\n",
       "    </tr>\n",
       "    <tr>\n",
       "      <th>2022-02-10</th>\n",
       "      <td>0.700000</td>\n",
       "      <td>0.450000</td>\n",
       "    </tr>\n",
       "    <tr>\n",
       "      <th>2022-02-21</th>\n",
       "      <td>0.600000</td>\n",
       "      <td>0.525000</td>\n",
       "    </tr>\n",
       "    <tr>\n",
       "      <th>2022-02-28</th>\n",
       "      <td>0.562500</td>\n",
       "      <td>0.562500</td>\n",
       "    </tr>\n",
       "    <tr>\n",
       "      <th>2022-03-10</th>\n",
       "      <td>0.511364</td>\n",
       "      <td>0.611413</td>\n",
       "    </tr>\n",
       "    <tr>\n",
       "      <th>2022-03-19</th>\n",
       "      <td>0.613636</td>\n",
       "      <td>0.635870</td>\n",
       "    </tr>\n",
       "    <tr>\n",
       "      <th>2022-03-31</th>\n",
       "      <td>0.574728</td>\n",
       "      <td>0.574728</td>\n",
       "    </tr>\n",
       "    <tr>\n",
       "      <th>2022-04-20</th>\n",
       "      <td>0.600852</td>\n",
       "      <td>0.598675</td>\n",
       "    </tr>\n",
       "    <tr>\n",
       "      <th>2022-04-30</th>\n",
       "      <td>0.626976</td>\n",
       "      <td>0.622622</td>\n",
       "    </tr>\n",
       "  </tbody>\n",
       "</table>\n",
       "</div>"
      ],
      "text/plain": [
       "            kodex200  kodex10Bond\n",
       "2022-01-31  0.500000     0.500000\n",
       "2022-02-10  0.700000     0.450000\n",
       "2022-02-21  0.600000     0.525000\n",
       "2022-02-28  0.562500     0.562500\n",
       "2022-03-10  0.511364     0.611413\n",
       "2022-03-19  0.613636     0.635870\n",
       "2022-03-31  0.574728     0.574728\n",
       "2022-04-20  0.600852     0.598675\n",
       "2022-04-30  0.626976     0.622622"
      ]
     },
     "execution_count": 13,
     "metadata": {},
     "output_type": "execute_result"
    }
   ],
   "source": [
    "portfolio.loc[~portfolio.index.duplicated(keep='last')]"
   ]
  },
  {
   "cell_type": "code",
   "execution_count": 14,
   "id": "68d837ea",
   "metadata": {},
   "outputs": [],
   "source": [
    "portfolio = portfolio.loc[~portfolio.index.duplicated(keep='last')]"
   ]
  },
  {
   "cell_type": "code",
   "execution_count": 15,
   "id": "d7b98377",
   "metadata": {
    "scrolled": true
   },
   "outputs": [
    {
     "data": {
      "text/plain": [
       "2022-01-31    1.000000\n",
       "2022-02-10    1.150000\n",
       "2022-02-21    1.125000\n",
       "2022-02-28    1.125000\n",
       "2022-03-10    1.122777\n",
       "2022-03-19    1.249506\n",
       "2022-03-31    1.149457\n",
       "2022-04-20    1.199528\n",
       "2022-04-30    1.249599\n",
       "dtype: float64"
      ]
     },
     "execution_count": 15,
     "metadata": {},
     "output_type": "execute_result"
    }
   ],
   "source": [
    "portCumReturn = portfolio.sum(axis=1)\n",
    "portCumReturn"
   ]
  },
  {
   "cell_type": "markdown",
   "id": "ca9d06d0",
   "metadata": {},
   "source": [
    "   "
   ]
  },
  {
   "cell_type": "markdown",
   "id": "82da39e9",
   "metadata": {},
   "source": [
    "   "
   ]
  },
  {
   "cell_type": "markdown",
   "id": "80485484",
   "metadata": {},
   "source": [
    "#### 리밸런싱 일자 조회, 리밸런싱 포트폴리오 결과 계산 함수화"
   ]
  },
  {
   "cell_type": "code",
   "execution_count": 16,
   "id": "5a757259",
   "metadata": {},
   "outputs": [],
   "source": [
    "def getRebalancingDate(closeDataSet, period=\"month\"):\n",
    "    \"\"\"\n",
    "    리밸런싱 일자 추출\n",
    "    월별, 분기별, 연별\n",
    "    \"\"\"\n",
    "    data = closeDataSet.copy()\n",
    "    data = pd.DataFrame(data) # 시리즈형 데이터가 들어오더라도 리밸런싱 날짜를 계산하기 위해서는 dataframe으로 변환 해야 함\n",
    "    data.index = pd.to_datetime(data.index)\n",
    "    data['year'] = data.index.year\n",
    "    data['month'] = data.index.month\n",
    "    \n",
    "    # 월말 리밸런싱\n",
    "    if period == \"month\":\n",
    "        rebalancingDate = data.drop_duplicates(['year', 'month'], keep=\"last\").index\n",
    "        \n",
    "    # 분기말 리밸런싱\n",
    "    if period == \"quarter\":\n",
    "        # 3 6 9 12월 말에 리밸런싱\n",
    "        # np where 같은걸로 3, 6, 9, 12월 데이터만 가져오고\n",
    "        # drop_duplicates keep last\n",
    "        quarter = [3,6,9,12]\n",
    "        data = data.loc[data['month'].isin(quarter)]\n",
    "        rebalancingDate = data.drop_duplicates(['year', 'month'], keep=\"last\").index\n",
    "    \n",
    "    # 연말 리밸런싱\n",
    "    if period == \"year\":\n",
    "        rebalancingDate = data.drop_duplicates(['year'], keep=\"last\").index\n",
    "        \n",
    "    return rebalancingDate"
   ]
  },
  {
   "cell_type": "code",
   "execution_count": null,
   "id": "2f9cdba8",
   "metadata": {},
   "outputs": [],
   "source": [
    "def getRebalancingPortfolioResult(closeDataSet, period = \"month\", weightDf=None):\n",
    "    \"\"\"\n",
    "    리밸런싱 포트폴리오 결과\n",
    "    closeDataSet: 종가 데이터\n",
    "    weight: 포트폴리오 개별자산 비중\n",
    "    return: 포트폴리오 일간수익률, 누적수익률\n",
    "    \"\"\"\n",
    "    \n",
    "    # 자산별 비중. 기본값: 동일비중\n",
    "    if weightDf is None:\n",
    "        rebalancingDate = getRebalancingDate(closeDataSet, period) # 리밸런싱 날짜\n",
    "        weightDf = pd.DataFrame([[1/len(closeDataSet.columns)] * len(closeDataSet.columns)] * len(rebalancingDate),\n",
    "                              index=rebalancingDate,\n",
    "                              columns=closeDataSet.columns)\n",
    "    else:\n",
    "        rebalancingDate = weightDf.index # 리밸런싱 날짜\n",
    "      \n",
    "    portfolio = pd.DataFrame() # 빈 데이터 프레임 생성\n",
    "\n",
    "    totalAsset = 1 # 총 자산, 초기값 1\n",
    "    start = rebalancingDate[0] # 리밸런싱 날짜, 초기값 첫 투자일\n",
    "\n",
    "    for end in rebalancingDate[1:]:\n",
    "        weight = weightDf.loc[start] # 당월 리밸런싱 비율\n",
    "        priceData = closeDataSet.loc[start:end] # 당월 가격 데이터\n",
    "        cumReturn = getCumulativeReturn(priceData) # 당월 누적 수익률\n",
    "        weightedCumReturn = weight * cumReturn # 당월 리밸런싱 비율이 반영된 누적 수익률\n",
    "        netCumReturn = totalAsset * weightedCumReturn # 전월 투자 결과 반영\n",
    "\n",
    "        start = end # start 갱신\n",
    "        totalAsset = netCumReturn.iloc[-1].sum() # 총 자산 갱신\n",
    "        portfolio = pd.concat([portfolio, netCumReturn]) # 매월 데이터 추가\n",
    "    \n",
    "    portfolio = portfolio.loc[~portfolio.index.duplicated(keep='last')] # 중복 데이터 제거\n",
    "    portfolioCumulativeReturn = portfolio.sum(axis=1) # 포트폴리오 누적 수익률\n",
    "    portfolioDayReturn = (portfolioCumulativeReturn / portfolioCumulativeReturn.shift(1)).fillna(1) # 포트폴리오 일간 수익률\n",
    "    \n",
    "    return portfolioDayReturn, portfolioCumulativeReturn"
   ]
  },
  {
   "cell_type": "markdown",
   "id": "8653e211",
   "metadata": {},
   "source": [
    "  \n",
    " "
   ]
  },
  {
   "cell_type": "markdown",
   "id": "78798cf1",
   "metadata": {},
   "source": [
    "  \n",
    " "
   ]
  },
  {
   "cell_type": "markdown",
   "id": "8c3ab5d0",
   "metadata": {},
   "source": [
    "#### 실전 데이터 적용"
   ]
  },
  {
   "cell_type": "code",
   "execution_count": 17,
   "id": "c3f0b894",
   "metadata": {
    "scrolled": false
   },
   "outputs": [
    {
     "data": {
      "text/html": [
       "<div>\n",
       "<style scoped>\n",
       "    .dataframe tbody tr th:only-of-type {\n",
       "        vertical-align: middle;\n",
       "    }\n",
       "\n",
       "    .dataframe tbody tr th {\n",
       "        vertical-align: top;\n",
       "    }\n",
       "\n",
       "    .dataframe thead th {\n",
       "        text-align: right;\n",
       "    }\n",
       "</style>\n",
       "<table border=\"1\" class=\"dataframe\">\n",
       "  <thead>\n",
       "    <tr style=\"text-align: right;\">\n",
       "      <th></th>\n",
       "      <th>stockETF</th>\n",
       "      <th>bondETF</th>\n",
       "    </tr>\n",
       "    <tr>\n",
       "      <th>Date</th>\n",
       "      <th></th>\n",
       "      <th></th>\n",
       "    </tr>\n",
       "  </thead>\n",
       "  <tbody>\n",
       "    <tr>\n",
       "      <th>2015-07-07</th>\n",
       "      <td>208.02</td>\n",
       "      <td>105.69</td>\n",
       "    </tr>\n",
       "    <tr>\n",
       "      <th>2015-07-08</th>\n",
       "      <td>204.53</td>\n",
       "      <td>106.11</td>\n",
       "    </tr>\n",
       "    <tr>\n",
       "      <th>2015-07-09</th>\n",
       "      <td>204.90</td>\n",
       "      <td>105.37</td>\n",
       "    </tr>\n",
       "    <tr>\n",
       "      <th>2015-07-10</th>\n",
       "      <td>207.48</td>\n",
       "      <td>104.64</td>\n",
       "    </tr>\n",
       "    <tr>\n",
       "      <th>2015-07-13</th>\n",
       "      <td>209.77</td>\n",
       "      <td>104.36</td>\n",
       "    </tr>\n",
       "    <tr>\n",
       "      <th>...</th>\n",
       "      <td>...</td>\n",
       "      <td>...</td>\n",
       "    </tr>\n",
       "    <tr>\n",
       "      <th>2022-06-13</th>\n",
       "      <td>375.00</td>\n",
       "      <td>98.94</td>\n",
       "    </tr>\n",
       "    <tr>\n",
       "      <th>2022-06-14</th>\n",
       "      <td>373.87</td>\n",
       "      <td>98.15</td>\n",
       "    </tr>\n",
       "    <tr>\n",
       "      <th>2022-06-15</th>\n",
       "      <td>379.20</td>\n",
       "      <td>99.52</td>\n",
       "    </tr>\n",
       "    <tr>\n",
       "      <th>2022-06-16</th>\n",
       "      <td>366.65</td>\n",
       "      <td>100.17</td>\n",
       "    </tr>\n",
       "    <tr>\n",
       "      <th>2022-06-17</th>\n",
       "      <td>365.86</td>\n",
       "      <td>100.20</td>\n",
       "    </tr>\n",
       "  </tbody>\n",
       "</table>\n",
       "<p>1752 rows × 2 columns</p>\n",
       "</div>"
      ],
      "text/plain": [
       "            stockETF  bondETF\n",
       "Date                         \n",
       "2015-07-07    208.02   105.69\n",
       "2015-07-08    204.53   106.11\n",
       "2015-07-09    204.90   105.37\n",
       "2015-07-10    207.48   104.64\n",
       "2015-07-13    209.77   104.36\n",
       "...              ...      ...\n",
       "2022-06-13    375.00    98.94\n",
       "2022-06-14    373.87    98.15\n",
       "2022-06-15    379.20    99.52\n",
       "2022-06-16    366.65   100.17\n",
       "2022-06-17    365.86   100.20\n",
       "\n",
       "[1752 rows x 2 columns]"
      ]
     },
     "execution_count": 17,
     "metadata": {},
     "output_type": "execute_result"
    }
   ],
   "source": [
    "# 데이터 로드\n",
    "stockETF = getCloseData(\"SPY\", \"2002\", \"2022-6-17\") # 주식 ETF\n",
    "bondETF = getCloseData(\"IEF\", \"2002\", \"2022-6-17\") # 채권 ETF\n",
    "\n",
    "# kodex200 = 069500\n",
    "# kodex10Bond = 152380\n",
    "# S&P500 = SPY\n",
    "# 미국 7-10 국채 = IEF\n",
    "\n",
    "closeDataSet = pd.concat([stockETF, bondETF], axis=1)\n",
    "closeDataSet.columns = ['stockETF', 'bondETF']\n",
    "closeDataSet.dropna(inplace=True)\n",
    "closeDataSet"
   ]
  },
  {
   "cell_type": "code",
   "execution_count": 18,
   "id": "b55eeacb",
   "metadata": {},
   "outputs": [
    {
     "data": {
      "text/plain": [
       "DatetimeIndex(['2015-07-31', '2015-08-31', '2015-09-30', '2015-10-30',\n",
       "               '2015-11-30', '2015-12-31', '2016-01-29', '2016-02-29',\n",
       "               '2016-03-31', '2016-04-29', '2016-05-31', '2016-06-30',\n",
       "               '2016-07-29', '2016-08-31', '2016-09-30', '2016-10-31',\n",
       "               '2016-11-30', '2016-12-30', '2017-01-31', '2017-02-28',\n",
       "               '2017-03-31', '2017-04-28', '2017-05-31', '2017-06-30',\n",
       "               '2017-07-31', '2017-08-31', '2017-09-29', '2017-10-31',\n",
       "               '2017-11-30', '2017-12-29', '2018-01-31', '2018-02-28',\n",
       "               '2018-03-29', '2018-04-30', '2018-05-31', '2018-06-29',\n",
       "               '2018-07-31', '2018-08-31', '2018-09-28', '2018-10-31',\n",
       "               '2018-11-30', '2018-12-31', '2019-01-31', '2019-02-28',\n",
       "               '2019-03-29', '2019-04-30', '2019-05-31', '2019-06-28',\n",
       "               '2019-07-31', '2019-08-30', '2019-09-30', '2019-10-31',\n",
       "               '2019-11-29', '2019-12-31', '2020-01-31', '2020-02-28',\n",
       "               '2020-03-31', '2020-04-30', '2020-05-29', '2020-06-30',\n",
       "               '2020-07-31', '2020-08-31', '2020-09-30', '2020-10-30',\n",
       "               '2020-11-30', '2020-12-31', '2021-01-29', '2021-02-26',\n",
       "               '2021-03-31', '2021-04-30', '2021-05-28', '2021-06-30',\n",
       "               '2021-07-30', '2021-08-31', '2021-09-30', '2021-10-29',\n",
       "               '2021-11-30', '2021-12-31', '2022-01-31', '2022-02-28',\n",
       "               '2022-03-31', '2022-04-29', '2022-05-31', '2022-06-17'],\n",
       "              dtype='datetime64[ns]', name='Date', freq=None)"
      ]
     },
     "execution_count": 18,
     "metadata": {},
     "output_type": "execute_result"
    }
   ],
   "source": [
    "rebalancingDate = getRebalancingDate(closeDataSet)\n",
    "rebalancingDate"
   ]
  },
  {
   "cell_type": "markdown",
   "id": "69020efd",
   "metadata": {},
   "source": [
    "리밸런싱 포트폴리오 결과 계산"
   ]
  },
  {
   "cell_type": "code",
   "execution_count": 19,
   "id": "00b9f1fa",
   "metadata": {
    "scrolled": false
   },
   "outputs": [],
   "source": [
    "rebalPortfolioDayReturn, rebalPortfolioCumulativeReturn = getRebalancingPortfolioResult(closeDataSet)"
   ]
  },
  {
   "cell_type": "markdown",
   "id": "3f5c529e",
   "metadata": {},
   "source": [
    "주식 채권 1:1 B&H 전략 결과 계산"
   ]
  },
  {
   "cell_type": "code",
   "execution_count": 20,
   "id": "dc76bfb9",
   "metadata": {},
   "outputs": [],
   "source": [
    "portfolioDayReturn, portfolioCumulativeReturn = getPortfolioResult(closeDataSet.loc[rebalancingDate[0]:])"
   ]
  },
  {
   "cell_type": "markdown",
   "id": "0366863b",
   "metadata": {},
   "source": [
    "주식 100% B&H 전략 결과 계산"
   ]
  },
  {
   "cell_type": "code",
   "execution_count": 21,
   "id": "1d69fa5c",
   "metadata": {},
   "outputs": [],
   "source": [
    "stockDayReturn = getDayReturn(stockETF.loc[rebalancingDate[0]:])\n",
    "stockCumReturn = getCumulativeReturn(stockETF.loc[rebalancingDate[0]:])"
   ]
  },
  {
   "cell_type": "markdown",
   "id": "a8f22c7e",
   "metadata": {},
   "source": [
    "#### 전략 성과 비교"
   ]
  },
  {
   "cell_type": "code",
   "execution_count": 22,
   "id": "e64159c5",
   "metadata": {},
   "outputs": [
    {
     "name": "stdout",
     "output_type": "stream",
     "text": [
      "리밸런싱 포트폴리오 누적 수익률\n",
      "1.3144336813922362\n",
      "최종 수익률: 1.3144336813922362\n",
      "cagr: 1.040533675653413\n",
      "mdd: 18.23841592487511\n"
     ]
    }
   ],
   "source": [
    "print(\"리밸런싱 포트폴리오 누적 수익률\")\n",
    "print(rebalPortfolioCumulativeReturn.iloc[-1])\n",
    "rebalCagr, rebalDD, rebalMDD = getEvaluation(rebalPortfolioCumulativeReturn)"
   ]
  },
  {
   "cell_type": "code",
   "execution_count": 23,
   "id": "f32071a0",
   "metadata": {
    "scrolled": true
   },
   "outputs": [
    {
     "name": "stdout",
     "output_type": "stream",
     "text": [
      "Buy & Hold 포트폴리오 누적 수익률\n",
      "1.3397138396527302\n",
      "최종 수익률: 1.3397138396527302\n",
      "cagr: 1.0434184162429645\n",
      "mdd: 20.042658378917032\n"
     ]
    }
   ],
   "source": [
    "print(\"Buy & Hold 포트폴리오 누적 수익률\")\n",
    "print(portfolioCumulativeReturn.iloc[-1])\n",
    "cagr, dd, mdd = getEvaluation(portfolioCumulativeReturn)"
   ]
  },
  {
   "cell_type": "code",
   "execution_count": 24,
   "id": "a52abdab",
   "metadata": {
    "scrolled": true
   },
   "outputs": [
    {
     "name": "stdout",
     "output_type": "stream",
     "text": [
      "주식 100% 포트폴리오 누적 수익률\n",
      "1.7380522565320666\n",
      "최종 수익률: 1.7380522565320666\n",
      "cagr: 1.083647475840882\n",
      "mdd: 34.10474670449843\n"
     ]
    }
   ],
   "source": [
    "print(\"주식 100% 포트폴리오 누적 수익률\")\n",
    "print(stockCumReturn.iloc[-1])\n",
    "stockCagr, stockDd, stockMdd = getEvaluation(stockCumReturn)"
   ]
  },
  {
   "cell_type": "code",
   "execution_count": 25,
   "id": "8d552e43",
   "metadata": {
    "scrolled": false
   },
   "outputs": [
    {
     "data": {
      "image/png": "[encoded data removed]",
      "text/plain": [
       "<Figure size 1440x576 with 2 Axes>"
      ]
     },
     "metadata": {
      "needs_background": "light"
     },
     "output_type": "display_data"
    }
   ],
   "source": [
    "plt.rc('font', family='malgun gothic')\n",
    "plt.rcParams['axes.unicode_minus'] = False\n",
    "plt.figure(figsize=(20,8))\n",
    "\n",
    "# 수익곡선\n",
    "plt.subplot(2,1,1)\n",
    "rebalPortfolioCumulativeReturn.plot(label=\"리밸런싱\")\n",
    "portfolioCumulativeReturn.plot(label=\"buy&hold\")\n",
    "stockCumReturn.plot(label=\"stock only\")\n",
    "plt.legend()\n",
    "\n",
    "# dd 곡선\n",
    "plt.subplot(2,1,2)\n",
    "plt.plot(-rebalDD, label=\"리밸런싱 DD\")\n",
    "plt.plot(-dd, label=\"buy&hold DD\")\n",
    "plt.plot(-stockDd, label=\"주식 100% DD\")\n",
    "plt.legend()\n",
    "\n",
    "plt.show()"
   ]
  },
  {
   "cell_type": "raw",
   "id": "f738a4d9",
   "metadata": {},
   "source": [
    "  \n",
    "  "
   ]
  },
  {
   "cell_type": "code",
   "execution_count": null,
   "id": "1ac19d1c",
   "metadata": {},
   "outputs": [],
   "source": []
  }
 ],
 "metadata": {
  "kernelspec": {
   "display_name": "AITrading",
   "language": "python",
   "name": "aitradingproject"
  },
  "language_info": {
   "codemirror_mode": {
    "name": "ipython",
    "version": 3
   },
   "file_extension": ".py",
   "mimetype": "text/x-python",
   "name": "python",
   "nbconvert_exporter": "python",
   "pygments_lexer": "ipython3",
   "version": "3.9.12"
  }
 },
 "nbformat": 4,
 "nbformat_minor": 5
}
