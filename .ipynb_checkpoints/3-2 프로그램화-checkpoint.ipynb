{
 "cells": [
  {
   "cell_type": "code",
   "execution_count": 1,
   "id": "8b8c8d5f",
   "metadata": {},
   "outputs": [],
   "source": [
    "import FinanceDataReader as fdr\n",
    "import pandas as pd\n",
    "import matplotlib.pyplot as plt\n",
    "import numpy as np"
   ]
  },
  {
   "cell_type": "code",
   "execution_count": 2,
   "id": "94a9f54c",
   "metadata": {},
   "outputs": [],
   "source": [
    "def getCloseData(ticker, start, end=None):\n",
    "    \"\"\"\n",
    "    종가 데이터\n",
    "    ticker: 종목 번호\n",
    "    start: 시작일\n",
    "    end: 마지막 날짜\n",
    "    return: 종목의 종가 데이터\n",
    "    \"\"\"\n",
    "    return fdr.DataReader(ticker, start, end)['Close']\n",
    "\n",
    "def getDayReturn(closeDataSet):\n",
    "    \"\"\"\n",
    "    개별종목 일별 수익률\n",
    "    closeDataSet: 종가 데이터\n",
    "    return: 종가 데이터의 일별 수익률\n",
    "    \"\"\"\n",
    "    return (closeDataSet / closeDataSet.shift(1)).fillna(1)\n",
    "\n",
    "def getCumulativeReturn(closeDataSet=None):\n",
    "    \"\"\"\n",
    "    개별종목 누적수익률 == 자산흐름\n",
    "    closeDataSet: 종가 데이터\n",
    "    return:종가데이터 누적수익률\n",
    "    \"\"\"\n",
    "    return closeDataSet / closeDataSet.iloc[0]\n",
    "\n",
    "def getPortfolioResult(closeDataSet, weight=None):\n",
    "    \"\"\"\n",
    "    포트폴리오 결과\n",
    "    closeDataSet: 종가 데이터\n",
    "    weight: 포트폴리오 개별자산 비중\n",
    "    return: 포트폴리오 일간수익률, 누적수익률\n",
    "    \"\"\"\n",
    "    # 개별종목 일별 수익률\n",
    "    dayReturn = getDayReturn(closeDataSet)\n",
    "    # 개별종목 누적 수익률\n",
    "    cumulativeReturn = getCumulativeReturn(closeDataSet)\n",
    "    # 자산별 비중. 기본값: 동일비중\n",
    "    if not weight:\n",
    "        weight = [1/len(closeDataSet.columns)] * len(closeDataSet.columns)\n",
    "        \n",
    "    # 포트폴리오 누적 수익률\n",
    "    portfolioCumulativeReturn = (weight * cumulativeReturn).sum(axis=1)\n",
    "    # 포트폴리오 일별 수익률\n",
    "    portfolioDayReturn = (portfolioCumulativeReturn / portfolioCumulativeReturn.shift(1)).fillna(1)\n",
    "        \n",
    "#     # 자산별 비중이 반영된 개별자산 누적 수익률\n",
    "#     weightedCumulativeReturn = weight * cumulativeReturn\n",
    "#     # 자산흐름 정규화: 시기별 각 자산 보유 비율\n",
    "#     normalizedAssetFlow = weightedCumulativeReturn.divide(weightedCumulativeReturn.sum(axis=1), axis=0) # 각 행의 합으로 각 행을 나누기\n",
    "#     # 자산별 비중이 반영된 개별자산 일별 수익률\n",
    "#     weightedDayReturn = normalizedAssetFlow * dayReturn.shift(-1).fillna(0)\n",
    "#     # 포트폴리오 일별 수익률 = 자산별 비중이 반영된 개별자산 일별 수익률의 합\n",
    "#     portfolioDayReturn = weightedDayReturn.sum(axis=1).shift(1).fillna(1)\n",
    "#     # 포트폴리오 누적 수익률\n",
    "#     portfolioCumulativeReturn = portfolioDayReturn.cumprod()\n",
    "# #     portfolioCumulativeReturn = weightedCumulativeReturn.sum(axis=1)\n",
    "    \n",
    "    return portfolioDayReturn, portfolioCumulativeReturn\n",
    "\n",
    "def getEvaluation(cumulativeReturn):\n",
    "    \"\"\"\n",
    "    cagr, dd, mdd\n",
    "    투자 성과 지표\n",
    "    \"\"\"\n",
    "    # cagr\n",
    "    cagr = cumulativeReturn.iloc[-1] ** (252/len(cumulativeReturn))\n",
    "    # mdd\n",
    "    dd = (cumulativeReturn.cummax() - cumulativeReturn) / cumulativeReturn.cummax() * 100\n",
    "    mdd= dd.max()\n",
    "    \n",
    "    print(f\"cagr: {cagr}\\nmdd: {mdd}\")\n",
    "\n",
    "    return cagr, dd, mdd\n",
    "\n",
    "def getRebalancingDate(closeDataSet, period=\"month\"):\n",
    "    \"\"\"\n",
    "    리밸런싱 일자 추출\n",
    "    월별, 분기별, 연별\n",
    "    \"\"\"\n",
    "    data = closeDataSet.copy()\n",
    "    data = pd.DataFrame(data)\n",
    "    data.index = pd.to_datetime(data.index)\n",
    "    data['year'] = data.index.year\n",
    "    data['month'] = data.index.month\n",
    "    \n",
    "    if period == \"month\":\n",
    "        rebalancingDate = data.drop_duplicates(['year', 'month'], keep=\"last\").index\n",
    "        \n",
    "    if period == \"quarter\":\n",
    "        # 3 6 9 12월 말에 리밸런싱\n",
    "        # np where 같은걸로 3, 6, 9, 12월 데이터만 가져오고\n",
    "        # drop_duplicates keep last 하면 됌\n",
    "        quarter = [3,6,9,12]\n",
    "        data = data.loc[data['month'].isin(quarter)]\n",
    "        rebalancingDate = data.drop_duplicates(['year', 'month'], keep=\"last\").index\n",
    "    \n",
    "    if period == \"year\":\n",
    "        rebalancingDate = data.drop_duplicates(['year'], keep=\"last\").index\n",
    "        \n",
    "    return rebalancingDate\n",
    "\n",
    "def getRebalancingPortfolioResult(closeDataSet, period = \"month\", weightDf=None):\n",
    "    \"\"\"\n",
    "    리밸런싱 포트폴리오 결과\n",
    "    closeDataSet: 종가 데이터\n",
    "    weight: 포트폴리오 개별자산 비중\n",
    "    return: 포트폴리오 일간수익률, 누적수익률\n",
    "    \"\"\"\n",
    "    \n",
    "    rebalancingDate = getRebalancingDate(closeDataSet, period) # 리밸런싱 날짜\n",
    "    \n",
    "    # 자산별 비중. 기본값: 동일비중\n",
    "    if weightDf is None:\n",
    "        weightDf = pd.DataFrame([[1/len(closeDataSet.columns)] * len(closeDataSet.columns)] * len(rebalancingDate),\n",
    "                              index=rebalancingDate,\n",
    "                              columns=closeDataSet.columns)\n",
    "    \n",
    "    # 만약, weightDf에 모든 종목이 0으로 잡히는 구간이 있다면\n",
    "    noWeight = weightDf.sum(axis=1) == 0\n",
    "    if not weightDf.loc[noWeight].empty :\n",
    "        # weightDf에 모든 종목이 0인 구간에서는 cash 컬럼을 추가하여 1로 설정한다.\n",
    "        weightDf['cash'] = np.where(noWeight, 1, 0)\n",
    "        # 첫 투자 비중은 현금을 제외한 동일비중\n",
    "        firstWeight = [1/(len(weightDf.columns)-1)] * len(weightDf.columns)\n",
    "        firstWeight[-1] = 0\n",
    "        weightDf.iloc[0] =  firstWeight\n",
    "        # closeDataSet에 cash컬럼을 추가하여 1로 설정한다.\n",
    "        closeDataSet['cash'] = 1\n",
    "      \n",
    "    portfolio = pd.DataFrame() # 빈 데이터 프레임 생성\n",
    "\n",
    "    totalAsset = 1 # 총 자산, 초기값 1\n",
    "    start = rebalancingDate[0] # 리밸런싱 날짜, 초기값 첫 투자일\n",
    "\n",
    "    for end in rebalancingDate[1:]:\n",
    "        weight = weightDf.loc[start] # 당월 리밸런싱 비율\n",
    "        priceData = closeDataSet.loc[start:end] # 당월 가격 데이터\n",
    "        cumReturn = getCumulativeReturn(priceData) # 당월 누적 수익률\n",
    "        weightedCumReturn = weight * cumReturn # 당월 리밸런싱 비율이 반영된 누적 수익률\n",
    "        netCumReturn = totalAsset * weightedCumReturn # 전월 투자 결과 반영\n",
    "\n",
    "        start = end # start 갱신\n",
    "        totalAsset = netCumReturn.iloc[-1].sum() # 총 자산 갱신\n",
    "        portfolio = pd.concat([portfolio, netCumReturn]) # 매월 데이터 추가\n",
    "    \n",
    "    portfolio = portfolio.loc[~portfolio.index.duplicated(keep='last')] # 중복 데이터 제거\n",
    "    portfolioCumulativeReturn = portfolio.sum(axis=1) # 포트폴리오 누적 수익률\n",
    "    portfolioDayReturn = (portfolioCumulativeReturn / portfolioCumulativeReturn.shift(1)).fillna(1) # 포트폴리오 일간 수익률\n",
    "    \n",
    "    return portfolioDayReturn, portfolioCumulativeReturn\n",
    "\n",
    "def getAvgMomentum(closeDataSet, n=12):\n",
    "    \"\"\"\n",
    "    평균 모멘텀 구하기\n",
    "    closeDataSet: 종가 데이터\n",
    "    n: 모멘텀 기간 1~n\n",
    "    return: 평균 모멘텀 df\n",
    "    \"\"\"\n",
    "    n = 12\n",
    "    avgMomentum = 0 # 초기값\n",
    "    dataSetOnRebalancingDate = closeDataSet.loc[getRebalancingDate(closeDataSet)] \n",
    "    \n",
    "    # 1~n개월 모멘텀 합 계산\n",
    "    for i in range(1, n+1): \n",
    "        avgMomentum = dataSetOnRebalancingDate / dataSetOnRebalancingDate.shift(i) + avgMomentum\n",
    "        \n",
    "    avgMomentum = pd.DataFrame(avgMomentum) # dataframe으로 변환\n",
    "    avgMomentum = (avgMomentum / 12).fillna(0) # 평균화\n",
    "    return avgMomentum\n",
    "\n",
    "def getWeightByAvgMomentumScore(closeDataSet, n = 12):\n",
    "    \"\"\"\n",
    "    평균 모멘텀 스코어를 기반으로 한 투자 비중 구하기\n",
    "    closeDataSet: 종가 데이터\n",
    "    n: 모멘텀 기간 1~n\n",
    "    return: 투자비중 weight df, 평균모멘텀 스코어 df\n",
    "    \"\"\"\n",
    "    avgMomentumScore = 0 # 초기값\n",
    "    dataSetOnRebalancingDate = closeDataSet.loc[getRebalancingDate(closeDataSet)] \n",
    "    \n",
    "    # 1 ~ n개월 모멘텀 스코어 합\n",
    "    for i in range(1, n+1):\n",
    "        avgMomentumScore = np.where(dataSetOnRebalancingDate / dataSetOnRebalancingDate.shift(i) > 1, 1, 0) + avgMomentumScore\n",
    "        \n",
    "    avgMomentumScore = pd.DataFrame(avgMomentumScore, index=dataSetOnRebalancingDate.index, columns=dataSetOnRebalancingDate.columns) # dataframe 형변환\n",
    "    avgMomentumScore = avgMomentumScore / 12 # 평균화\n",
    "    weight = avgMomentumScore.divide(avgMomentumScore.sum(axis=1), axis=0).fillna(0) # 모멘텀 스코어에 따른 weight 계산\n",
    "    return weight, avgMomentumScore"
   ]
  },
  {
   "cell_type": "markdown",
   "id": "86e2e147",
   "metadata": {},
   "source": [
    "  "
   ]
  },
  {
   "cell_type": "markdown",
   "id": "97d93b9d",
   "metadata": {},
   "source": [
    "  "
   ]
  },
  {
   "cell_type": "markdown",
   "id": "bd4c34e5",
   "metadata": {},
   "source": [
    "  "
   ]
  },
  {
   "cell_type": "markdown",
   "id": "23e42453",
   "metadata": {},
   "source": [
    "# 프로그램화 포인트\n",
    "1. 연도, 월별 수익률 시각화\n",
    "2. 한국투자증권 종가 매매자동화"
   ]
  },
  {
   "cell_type": "markdown",
   "id": "19ca74c4",
   "metadata": {},
   "source": [
    "# 1. 연도, 월별 수익률 시각화"
   ]
  },
  {
   "cell_type": "code",
   "execution_count": 93,
   "id": "c97aed3c",
   "metadata": {
    "scrolled": true
   },
   "outputs": [],
   "source": [
    "kodex200 = getCloseData(\"069500\", \"2000\") # 코스피200 ETF\n",
    "kodex10Bond = getCloseData(\"152380\", \"2000\") # kodex 국고채 10년물 etf\n",
    "\n",
    "# kodex200 = 069500\n",
    "# kodex10Bond = 152380\n",
    "# S&P500 = SPY\n",
    "# 미국 7-10 국채 = IEF\n",
    "\n",
    "closeDataSet = pd.concat([kodex200, kodex10Bond], axis=1)\n",
    "closeDataSet.columns = ['kodex200', 'kodex10Bond']\n",
    "closeDataSet.dropna(inplace=True)"
   ]
  },
  {
   "cell_type": "code",
   "execution_count": 94,
   "id": "c2dd9397",
   "metadata": {},
   "outputs": [],
   "source": [
    "# 비중\n",
    "weight, avgMomentumScore = getWeightByAvgMomentumScore(closeDataSet, n=6)"
   ]
  },
  {
   "cell_type": "code",
   "execution_count": 95,
   "id": "9c738313",
   "metadata": {},
   "outputs": [
    {
     "name": "stdout",
     "output_type": "stream",
     "text": [
      "포트폴리오 누적 수익률\n",
      "1.8264164557463511\n",
      "cagr: 1.061112167346816\n",
      "mdd: 15.900279678440885\n"
     ]
    }
   ],
   "source": [
    "momentumPortfolioDayReturn, momentumPortfolioCumReturn = getRebalancingPortfolioResult(closeDataSet=closeDataSet, weightDf=weight)\n",
    "print(\"포트폴리오 누적 수익률\")\n",
    "print(momentumPortfolioCumReturn.iloc[-1])\n",
    "\n",
    "cagr, dd, mdd = getEvaluation(momentumPortfolioCumReturn)"
   ]
  },
  {
   "cell_type": "code",
   "execution_count": 96,
   "id": "c59ee3fd",
   "metadata": {
    "scrolled": true
   },
   "outputs": [
    {
     "data": {
      "text/plain": [
       "<AxesSubplot:xlabel='Date'>"
      ]
     },
     "execution_count": 96,
     "metadata": {},
     "output_type": "execute_result"
    },
    {
     "data": {
      "image/png": "[encoded data removed]",
      "text/plain": [
       "<Figure size 432x288 with 1 Axes>"
      ]
     },
     "metadata": {},
     "output_type": "display_data"
    }
   ],
   "source": [
    "momentumPortfolioCumReturn.plot()"
   ]
  },
  {
   "cell_type": "code",
   "execution_count": 97,
   "id": "b3b71898",
   "metadata": {},
   "outputs": [],
   "source": [
    "momentumPortfolioCumReturn = pd.DataFrame(momentumPortfolioCumReturn)\n",
    "momentumPortfolioCumReturn.columns = ['cumReturn']\n",
    "\n",
    "momentumPortfolioCumReturn['year'] = momentumPortfolioCumReturn.index.year\n",
    "momentumPortfolioCumReturn['month'] = momentumPortfolioCumReturn.index.month\n",
    "\n",
    "monthData = momentumPortfolioCumReturn.drop_duplicates(['year', 'month'], keep=\"last\")\n",
    "yearData = momentumPortfolioCumReturn.drop_duplicates('year', keep=\"last\")"
   ]
  },
  {
   "cell_type": "code",
   "execution_count": 98,
   "id": "1dc0a9bf",
   "metadata": {},
   "outputs": [
    {
     "data": {
      "text/html": [
       "<div>\n",
       "<style scoped>\n",
       "    .dataframe tbody tr th:only-of-type {\n",
       "        vertical-align: middle;\n",
       "    }\n",
       "\n",
       "    .dataframe tbody tr th {\n",
       "        vertical-align: top;\n",
       "    }\n",
       "\n",
       "    .dataframe thead th {\n",
       "        text-align: right;\n",
       "    }\n",
       "</style>\n",
       "<table border=\"1\" class=\"dataframe\">\n",
       "  <thead>\n",
       "    <tr style=\"text-align: right;\">\n",
       "      <th></th>\n",
       "      <th>cumReturn</th>\n",
       "      <th>year</th>\n",
       "      <th>month</th>\n",
       "    </tr>\n",
       "    <tr>\n",
       "      <th>Date</th>\n",
       "      <th></th>\n",
       "      <th></th>\n",
       "      <th></th>\n",
       "    </tr>\n",
       "  </thead>\n",
       "  <tbody>\n",
       "    <tr>\n",
       "      <th>2012-12-28</th>\n",
       "      <td>1.082323</td>\n",
       "      <td>2012</td>\n",
       "      <td>12</td>\n",
       "    </tr>\n",
       "    <tr>\n",
       "      <th>2013-12-30</th>\n",
       "      <td>1.076474</td>\n",
       "      <td>2013</td>\n",
       "      <td>12</td>\n",
       "    </tr>\n",
       "    <tr>\n",
       "      <th>2014-12-30</th>\n",
       "      <td>1.130316</td>\n",
       "      <td>2014</td>\n",
       "      <td>12</td>\n",
       "    </tr>\n",
       "    <tr>\n",
       "      <th>2015-12-30</th>\n",
       "      <td>1.172391</td>\n",
       "      <td>2015</td>\n",
       "      <td>12</td>\n",
       "    </tr>\n",
       "    <tr>\n",
       "      <th>2016-12-29</th>\n",
       "      <td>1.262662</td>\n",
       "      <td>2016</td>\n",
       "      <td>12</td>\n",
       "    </tr>\n",
       "    <tr>\n",
       "      <th>2017-12-28</th>\n",
       "      <td>1.504515</td>\n",
       "      <td>2017</td>\n",
       "      <td>12</td>\n",
       "    </tr>\n",
       "    <tr>\n",
       "      <th>2018-12-28</th>\n",
       "      <td>1.448298</td>\n",
       "      <td>2018</td>\n",
       "      <td>12</td>\n",
       "    </tr>\n",
       "    <tr>\n",
       "      <th>2019-12-30</th>\n",
       "      <td>1.503190</td>\n",
       "      <td>2019</td>\n",
       "      <td>12</td>\n",
       "    </tr>\n",
       "    <tr>\n",
       "      <th>2020-12-30</th>\n",
       "      <td>1.872175</td>\n",
       "      <td>2020</td>\n",
       "      <td>12</td>\n",
       "    </tr>\n",
       "    <tr>\n",
       "      <th>2021-12-30</th>\n",
       "      <td>1.992644</td>\n",
       "      <td>2021</td>\n",
       "      <td>12</td>\n",
       "    </tr>\n",
       "    <tr>\n",
       "      <th>2022-06-22</th>\n",
       "      <td>1.826416</td>\n",
       "      <td>2022</td>\n",
       "      <td>6</td>\n",
       "    </tr>\n",
       "  </tbody>\n",
       "</table>\n",
       "</div>"
      ],
      "text/plain": [
       "            cumReturn  year  month\n",
       "Date                              \n",
       "2012-12-28   1.082323  2012     12\n",
       "2013-12-30   1.076474  2013     12\n",
       "2014-12-30   1.130316  2014     12\n",
       "2015-12-30   1.172391  2015     12\n",
       "2016-12-29   1.262662  2016     12\n",
       "2017-12-28   1.504515  2017     12\n",
       "2018-12-28   1.448298  2018     12\n",
       "2019-12-30   1.503190  2019     12\n",
       "2020-12-30   1.872175  2020     12\n",
       "2021-12-30   1.992644  2021     12\n",
       "2022-06-22   1.826416  2022      6"
      ]
     },
     "execution_count": 98,
     "metadata": {},
     "output_type": "execute_result"
    }
   ],
   "source": [
    "yearData"
   ]
  },
  {
   "cell_type": "code",
   "execution_count": 100,
   "id": "2fd6e673",
   "metadata": {
    "scrolled": true
   },
   "outputs": [
    {
     "name": "stderr",
     "output_type": "stream",
     "text": [
      "C:\\Users\\정지운\\AppData\\Local\\Temp\\ipykernel_2236\\3169995511.py:1: SettingWithCopyWarning: \n",
      "A value is trying to be set on a copy of a slice from a DataFrame.\n",
      "Try using .loc[row_indexer,col_indexer] = value instead\n",
      "\n",
      "See the caveats in the documentation: https://pandas.pydata.org/pandas-docs/stable/user_guide/indexing.html#returning-a-view-versus-a-copy\n",
      "  monthData['monthReturn'] = ((monthData['cumReturn'] / monthData['cumReturn'].shift(1).fillna(1))-1)*100\n"
     ]
    },
    {
     "data": {
      "text/html": [
       "<div>\n",
       "<style scoped>\n",
       "    .dataframe tbody tr th:only-of-type {\n",
       "        vertical-align: middle;\n",
       "    }\n",
       "\n",
       "    .dataframe tbody tr th {\n",
       "        vertical-align: top;\n",
       "    }\n",
       "\n",
       "    .dataframe thead th {\n",
       "        text-align: right;\n",
       "    }\n",
       "</style>\n",
       "<table border=\"1\" class=\"dataframe\">\n",
       "  <thead>\n",
       "    <tr style=\"text-align: right;\">\n",
       "      <th></th>\n",
       "      <th>cumReturn</th>\n",
       "      <th>year</th>\n",
       "      <th>month</th>\n",
       "      <th>monthReturn</th>\n",
       "    </tr>\n",
       "    <tr>\n",
       "      <th>Date</th>\n",
       "      <th></th>\n",
       "      <th></th>\n",
       "      <th></th>\n",
       "      <th></th>\n",
       "    </tr>\n",
       "  </thead>\n",
       "  <tbody>\n",
       "    <tr>\n",
       "      <th>2012-01-31</th>\n",
       "      <td>1.000000</td>\n",
       "      <td>2012</td>\n",
       "      <td>1</td>\n",
       "      <td>0.000000</td>\n",
       "    </tr>\n",
       "    <tr>\n",
       "      <th>2012-02-29</th>\n",
       "      <td>1.018382</td>\n",
       "      <td>2012</td>\n",
       "      <td>2</td>\n",
       "      <td>1.838159</td>\n",
       "    </tr>\n",
       "    <tr>\n",
       "      <th>2012-03-30</th>\n",
       "      <td>1.016625</td>\n",
       "      <td>2012</td>\n",
       "      <td>3</td>\n",
       "      <td>-0.172536</td>\n",
       "    </tr>\n",
       "    <tr>\n",
       "      <th>2012-04-30</th>\n",
       "      <td>1.011128</td>\n",
       "      <td>2012</td>\n",
       "      <td>4</td>\n",
       "      <td>-0.540660</td>\n",
       "    </tr>\n",
       "    <tr>\n",
       "      <th>2012-05-31</th>\n",
       "      <td>1.001608</td>\n",
       "      <td>2012</td>\n",
       "      <td>5</td>\n",
       "      <td>-0.941526</td>\n",
       "    </tr>\n",
       "    <tr>\n",
       "      <th>...</th>\n",
       "      <td>...</td>\n",
       "      <td>...</td>\n",
       "      <td>...</td>\n",
       "      <td>...</td>\n",
       "    </tr>\n",
       "    <tr>\n",
       "      <th>2022-02-28</th>\n",
       "      <td>1.855939</td>\n",
       "      <td>2022</td>\n",
       "      <td>2</td>\n",
       "      <td>0.000000</td>\n",
       "    </tr>\n",
       "    <tr>\n",
       "      <th>2022-03-31</th>\n",
       "      <td>1.880011</td>\n",
       "      <td>2022</td>\n",
       "      <td>3</td>\n",
       "      <td>1.296974</td>\n",
       "    </tr>\n",
       "    <tr>\n",
       "      <th>2022-04-29</th>\n",
       "      <td>1.826416</td>\n",
       "      <td>2022</td>\n",
       "      <td>4</td>\n",
       "      <td>-2.850733</td>\n",
       "    </tr>\n",
       "    <tr>\n",
       "      <th>2022-05-31</th>\n",
       "      <td>1.826416</td>\n",
       "      <td>2022</td>\n",
       "      <td>5</td>\n",
       "      <td>0.000000</td>\n",
       "    </tr>\n",
       "    <tr>\n",
       "      <th>2022-06-22</th>\n",
       "      <td>1.826416</td>\n",
       "      <td>2022</td>\n",
       "      <td>6</td>\n",
       "      <td>0.000000</td>\n",
       "    </tr>\n",
       "  </tbody>\n",
       "</table>\n",
       "<p>126 rows × 4 columns</p>\n",
       "</div>"
      ],
      "text/plain": [
       "            cumReturn  year  month  monthReturn\n",
       "Date                                           \n",
       "2012-01-31   1.000000  2012      1     0.000000\n",
       "2012-02-29   1.018382  2012      2     1.838159\n",
       "2012-03-30   1.016625  2012      3    -0.172536\n",
       "2012-04-30   1.011128  2012      4    -0.540660\n",
       "2012-05-31   1.001608  2012      5    -0.941526\n",
       "...               ...   ...    ...          ...\n",
       "2022-02-28   1.855939  2022      2     0.000000\n",
       "2022-03-31   1.880011  2022      3     1.296974\n",
       "2022-04-29   1.826416  2022      4    -2.850733\n",
       "2022-05-31   1.826416  2022      5     0.000000\n",
       "2022-06-22   1.826416  2022      6     0.000000\n",
       "\n",
       "[126 rows x 4 columns]"
      ]
     },
     "execution_count": 100,
     "metadata": {},
     "output_type": "execute_result"
    }
   ],
   "source": [
    "monthData['monthReturn'] = ((monthData['cumReturn'] / monthData['cumReturn'].shift(1).fillna(1))-1)*100\n",
    "monthData"
   ]
  },
  {
   "cell_type": "code",
   "execution_count": 109,
   "id": "2d2abdff",
   "metadata": {},
   "outputs": [
    {
     "name": "stderr",
     "output_type": "stream",
     "text": [
      "C:\\Users\\정지운\\AppData\\Local\\Temp\\ipykernel_2236\\2898473759.py:1: SettingWithCopyWarning: \n",
      "A value is trying to be set on a copy of a slice from a DataFrame.\n",
      "Try using .loc[row_indexer,col_indexer] = value instead\n",
      "\n",
      "See the caveats in the documentation: https://pandas.pydata.org/pandas-docs/stable/user_guide/indexing.html#returning-a-view-versus-a-copy\n",
      "  yearData['yearReturn'] = (yearData['cumReturn'] / yearData['cumReturn'].shift(1) -1)*100\n",
      "C:\\anaconda\\lib\\site-packages\\pandas\\core\\indexing.py:1817: SettingWithCopyWarning: \n",
      "A value is trying to be set on a copy of a slice from a DataFrame.\n",
      "Try using .loc[row_indexer,col_indexer] = value instead\n",
      "\n",
      "See the caveats in the documentation: https://pandas.pydata.org/pandas-docs/stable/user_guide/indexing.html#returning-a-view-versus-a-copy\n",
      "  self._setitem_single_column(loc, value, pi)\n"
     ]
    },
    {
     "data": {
      "text/html": [
       "<div>\n",
       "<style scoped>\n",
       "    .dataframe tbody tr th:only-of-type {\n",
       "        vertical-align: middle;\n",
       "    }\n",
       "\n",
       "    .dataframe tbody tr th {\n",
       "        vertical-align: top;\n",
       "    }\n",
       "\n",
       "    .dataframe thead th {\n",
       "        text-align: right;\n",
       "    }\n",
       "</style>\n",
       "<table border=\"1\" class=\"dataframe\">\n",
       "  <thead>\n",
       "    <tr style=\"text-align: right;\">\n",
       "      <th></th>\n",
       "      <th>cumReturn</th>\n",
       "      <th>year</th>\n",
       "      <th>month</th>\n",
       "      <th>yearReturn</th>\n",
       "    </tr>\n",
       "    <tr>\n",
       "      <th>Date</th>\n",
       "      <th></th>\n",
       "      <th></th>\n",
       "      <th></th>\n",
       "      <th></th>\n",
       "    </tr>\n",
       "  </thead>\n",
       "  <tbody>\n",
       "    <tr>\n",
       "      <th>2012-12-28</th>\n",
       "      <td>1.082323</td>\n",
       "      <td>2012</td>\n",
       "      <td>12</td>\n",
       "      <td>8.232256</td>\n",
       "    </tr>\n",
       "    <tr>\n",
       "      <th>2013-12-30</th>\n",
       "      <td>1.076474</td>\n",
       "      <td>2013</td>\n",
       "      <td>12</td>\n",
       "      <td>-0.540368</td>\n",
       "    </tr>\n",
       "    <tr>\n",
       "      <th>2014-12-30</th>\n",
       "      <td>1.130316</td>\n",
       "      <td>2014</td>\n",
       "      <td>12</td>\n",
       "      <td>5.001714</td>\n",
       "    </tr>\n",
       "    <tr>\n",
       "      <th>2015-12-30</th>\n",
       "      <td>1.172391</td>\n",
       "      <td>2015</td>\n",
       "      <td>12</td>\n",
       "      <td>3.722362</td>\n",
       "    </tr>\n",
       "    <tr>\n",
       "      <th>2016-12-29</th>\n",
       "      <td>1.262662</td>\n",
       "      <td>2016</td>\n",
       "      <td>12</td>\n",
       "      <td>7.699790</td>\n",
       "    </tr>\n",
       "    <tr>\n",
       "      <th>2017-12-28</th>\n",
       "      <td>1.504515</td>\n",
       "      <td>2017</td>\n",
       "      <td>12</td>\n",
       "      <td>19.154222</td>\n",
       "    </tr>\n",
       "    <tr>\n",
       "      <th>2018-12-28</th>\n",
       "      <td>1.448298</td>\n",
       "      <td>2018</td>\n",
       "      <td>12</td>\n",
       "      <td>-3.736607</td>\n",
       "    </tr>\n",
       "    <tr>\n",
       "      <th>2019-12-30</th>\n",
       "      <td>1.503190</td>\n",
       "      <td>2019</td>\n",
       "      <td>12</td>\n",
       "      <td>3.790119</td>\n",
       "    </tr>\n",
       "    <tr>\n",
       "      <th>2020-12-30</th>\n",
       "      <td>1.872175</td>\n",
       "      <td>2020</td>\n",
       "      <td>12</td>\n",
       "      <td>24.546849</td>\n",
       "    </tr>\n",
       "    <tr>\n",
       "      <th>2021-12-30</th>\n",
       "      <td>1.992644</td>\n",
       "      <td>2021</td>\n",
       "      <td>12</td>\n",
       "      <td>6.434662</td>\n",
       "    </tr>\n",
       "    <tr>\n",
       "      <th>2022-06-22</th>\n",
       "      <td>1.826416</td>\n",
       "      <td>2022</td>\n",
       "      <td>6</td>\n",
       "      <td>-8.342043</td>\n",
       "    </tr>\n",
       "  </tbody>\n",
       "</table>\n",
       "</div>"
      ],
      "text/plain": [
       "            cumReturn  year  month  yearReturn\n",
       "Date                                          \n",
       "2012-12-28   1.082323  2012     12    8.232256\n",
       "2013-12-30   1.076474  2013     12   -0.540368\n",
       "2014-12-30   1.130316  2014     12    5.001714\n",
       "2015-12-30   1.172391  2015     12    3.722362\n",
       "2016-12-29   1.262662  2016     12    7.699790\n",
       "2017-12-28   1.504515  2017     12   19.154222\n",
       "2018-12-28   1.448298  2018     12   -3.736607\n",
       "2019-12-30   1.503190  2019     12    3.790119\n",
       "2020-12-30   1.872175  2020     12   24.546849\n",
       "2021-12-30   1.992644  2021     12    6.434662\n",
       "2022-06-22   1.826416  2022      6   -8.342043"
      ]
     },
     "execution_count": 109,
     "metadata": {},
     "output_type": "execute_result"
    }
   ],
   "source": [
    "yearData['yearReturn'] = (yearData['cumReturn'] / yearData['cumReturn'].shift(1) -1)*100\n",
    "yearData.iloc[0, -1] = (yearData.iloc[0, 0] - 1) * 100\n",
    "yearData"
   ]
  },
  {
   "cell_type": "markdown",
   "id": "885863cb",
   "metadata": {},
   "source": [
    "sns 히트맵  \n",
    "https://dsbook.tistory.com/51"
   ]
  },
  {
   "cell_type": "code",
   "execution_count": 3,
   "id": "0a4659f6",
   "metadata": {},
   "outputs": [],
   "source": [
    "import seaborn as sns"
   ]
  },
  {
   "cell_type": "code",
   "execution_count": 120,
   "id": "f8dd592e",
   "metadata": {},
   "outputs": [
    {
     "data": {
      "text/plain": [
       "<AxesSubplot:xlabel='month', ylabel='year'>"
      ]
     },
     "execution_count": 120,
     "metadata": {},
     "output_type": "execute_result"
    },
    {
     "data": {
      "image/png": "[encoded data removed]",
      "text/plain": [
       "<Figure size 360x720 with 2 Axes>"
      ]
     },
     "metadata": {},
     "output_type": "display_data"
    },
    {
     "data": {
      "image/png": "[encoded data removed]",
      "text/plain": [
       "<Figure size 1440x720 with 2 Axes>"
      ]
     },
     "metadata": {},
     "output_type": "display_data"
    }
   ],
   "source": [
    "sns.set_theme()\n",
    "pivot = monthData.pivot('year', 'month', 'monthReturn')\n",
    "\n",
    "pivot2 = yearData.pivot('year', 'month', 'yearReturn')\n",
    "f2, ax2 = plt.subplots(figsize=(5, 10))\n",
    "sns.heatmap(pivot2, annot=True, fmt='.2f',linewidths=.8, ax=ax2, cmap=\"RdYlGn\", center=0)\n",
    "\n",
    "\n",
    "f, ax = plt.subplots(figsize=(20, 10))\n",
    "sns.heatmap(pivot, annot=True, fmt='.2f',linewidths=.8, ax=ax, cmap=\"RdYlGn\", center=0)"
   ]
  },
  {
   "cell_type": "markdown",
   "id": "c27e0eba",
   "metadata": {},
   "source": [
    "# ㅇㅋ 위 내용 이쁘게 함수화 시키면 될 것 같고"
   ]
  },
  {
   "cell_type": "markdown",
   "id": "8559752a",
   "metadata": {},
   "source": [
    "  "
   ]
  },
  {
   "cell_type": "markdown",
   "id": "ab9288e8",
   "metadata": {},
   "source": [
    "  "
   ]
  },
  {
   "cell_type": "markdown",
   "id": "5ad0706a",
   "metadata": {},
   "source": [
    "  "
   ]
  },
  {
   "cell_type": "markdown",
   "id": "1fbbbb2c",
   "metadata": {},
   "source": [
    "# 2. 한국투자증권 종가 매매자동화"
   ]
  },
  {
   "cell_type": "markdown",
   "id": "57d768d7",
   "metadata": {},
   "source": [
    "### 기술요건\n",
    "\n",
    "1. 매달 말 종가에 리밸런싱 비율에 맞게 자산을 구매해야 한다."
   ]
  },
  {
   "cell_type": "code",
   "execution_count": null,
   "id": "dedb0592",
   "metadata": {},
   "outputs": [],
   "source": []
  },
  {
   "cell_type": "code",
   "execution_count": null,
   "id": "7e01f1f4",
   "metadata": {},
   "outputs": [],
   "source": []
  }
 ],
 "metadata": {
  "kernelspec": {
   "display_name": "AITrading",
   "language": "python",
   "name": "aitradingproject"
  },
  "language_info": {
   "codemirror_mode": {
    "name": "ipython",
    "version": 3
   },
   "file_extension": ".py",
   "mimetype": "text/x-python",
   "name": "python",
   "nbconvert_exporter": "python",
   "pygments_lexer": "ipython3",
   "version": "3.9.12"
  }
 },
 "nbformat": 4,
 "nbformat_minor": 5
}
