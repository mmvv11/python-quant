{
 "cells": [
  {
   "cell_type": "code",
   "execution_count": null,
   "id": "f9c3adf1",
   "metadata": {},
   "outputs": [],
   "source": [
    "import FinanceDataReader as fdr\n",
    "import pandas as pd\n",
    "import matplotlib.pyplot as plt\n",
    "import numpy as np\n",
    "\n",
    "def getCloseData(ticker, start, end=None):\n",
    "    \"\"\"\n",
    "    종가 데이터\n",
    "    ticker: 종목 번호\n",
    "    start: 시작일\n",
    "    end: 마지막 날짜\n",
    "    return: 종목의 종가 데이터\n",
    "    \"\"\"\n",
    "    return fdr.DataReader(ticker, start, end)['Close']\n",
    "\n",
    "def getDayReturn(closeDataSet):\n",
    "    \"\"\"\n",
    "    개별종목 일별 수익률\n",
    "    closeDataSet: 종가 데이터\n",
    "    return: 종가 데이터의 일별 수익률\n",
    "    \"\"\"\n",
    "    return (closeDataSet / closeDataSet.shift(1)).fillna(1)\n",
    "\n",
    "def getCumulativeReturn(closeDataSet):\n",
    "    \"\"\"\n",
    "    개별종목 누적수익률 == 자산흐름\n",
    "    closeDataSet: 종가 데이터\n",
    "    return:종가데이터 누적수익률\n",
    "    \"\"\"\n",
    "    return closeDataSet / closeDataSet.iloc[0]\n",
    "\n",
    "def getPortfolioResult(closeDataSet, weight=None):\n",
    "    \"\"\"\n",
    "    포트폴리오 결과\n",
    "    closeDataSet: 종가 데이터\n",
    "    weight: 포트폴리오 개별자산 비중\n",
    "    return: 포트폴리오 일간수익률, 누적수익률\n",
    "    \"\"\"\n",
    "    # 개별종목 일별 수익률\n",
    "    dayReturn = getDayReturn(closeDataSet)\n",
    "    # 개별종목 누적 수익률\n",
    "    cumulativeReturn = getCumulativeReturn(closeDataSet)\n",
    "    # 자산별 비중. 기본값: 동일비중\n",
    "    if not weight:\n",
    "        weight = [1/len(closeDataSet.columns)] * len(closeDataSet.columns)\n",
    "        \n",
    "    # 포트폴리오 누적 수익률\n",
    "    portfolioCumulativeReturn = (weight * cumulativeReturn).sum(axis=1)\n",
    "    # 포트폴리오 일별 수익률\n",
    "    portfolioDayReturn = (portfolioCumulativeReturn / portfolioCumulativeReturn.shift(1)).fillna(1)    \n",
    "    return portfolioDayReturn, portfolioCumulativeReturn\n",
    "\n",
    "def getEvaluation(cumulativeReturn):\n",
    "    \"\"\"\n",
    "    cagr, dd, mdd\n",
    "    투자 성과 지표\n",
    "    \"\"\"\n",
    "    # cagr\n",
    "    cagr = cumulativeReturn.iloc[-1] ** (252/len(cumulativeReturn))\n",
    "    # mdd\n",
    "    dd = (cumulativeReturn.cummax() - cumulativeReturn) / cumulativeReturn.cummax() * 100\n",
    "    mdd= dd.max()\n",
    "    \n",
    "    print(f\"최종 수익률: {cumulativeReturn.iloc[-1]}\\ncagr: {cagr}\\nmdd: {mdd}\")\n",
    "\n",
    "    return cagr, dd, mdd\n",
    "\n",
    "def getRebalancingDate(closeDataSet, period=\"month\"):\n",
    "    \"\"\"\n",
    "    리밸런싱 일자 추출\n",
    "    월별, 분기별, 연별\n",
    "    \"\"\"\n",
    "    data = closeDataSet.copy()\n",
    "    data = pd.DataFrame(data)\n",
    "    data.index = pd.to_datetime(data.index)\n",
    "    data['year'] = data.index.year\n",
    "    data['month'] = data.index.month\n",
    "    \n",
    "    if period == \"month\":\n",
    "        rebalancingDate = data.drop_duplicates(['year', 'month'], keep=\"last\").index\n",
    "        \n",
    "    if period == \"quarter\":\n",
    "        # 3 6 9 12월 말에 리밸런싱\n",
    "        # np where 같은걸로 3, 6, 9, 12월 데이터만 가져오고\n",
    "        # drop_duplicates keep last 하면 됌\n",
    "        quarter = [3,6,9,12]\n",
    "        data = data.loc[data['month'].isin(quarter)]\n",
    "        rebalancingDate = data.drop_duplicates(['year', 'month'], keep=\"last\").index\n",
    "    \n",
    "    if period == \"year\":\n",
    "        rebalancingDate = data.drop_duplicates(['year'], keep=\"last\").index\n",
    "        \n",
    "    return rebalancingDate\n",
    "\n",
    "def getRebalancingPortfolioResult(closeDataSet, period = \"month\", weightDf=None):\n",
    "    \"\"\"\n",
    "    리밸런싱 포트폴리오 결과\n",
    "    closeDataSet: 종가 데이터\n",
    "    weight: 포트폴리오 개별자산 비중\n",
    "    return: 포트폴리오 일간수익률, 누적수익률\n",
    "    \"\"\"\n",
    "    \n",
    "    # 자산별 비중. 기본값: 동일비중\n",
    "    if weightDf is None:\n",
    "        weightDf = pd.DataFrame([[1/len(closeDataSet.columns)] * len(closeDataSet.columns)] * len(rebalancingDate),\n",
    "                              index=rebalancingDate,\n",
    "                              columns=closeDataSet.columns)\n",
    "        \n",
    "    closeDataSet = closeDataSet.loc[weightDf.iloc[0].name:] # 데이터셋 일자를 weightDf에 맞춘다.\n",
    "    rebalancingDate = getRebalancingDate(closeDataSet, period) # 리밸런싱 날짜\n",
    "      \n",
    "    portfolio = pd.DataFrame() # 빈 데이터 프레임 생성\n",
    "\n",
    "    totalAsset = 1 # 총 자산, 초기값 1\n",
    "    start = rebalancingDate[0] # 리밸런싱 날짜, 초기값 첫 투자일\n",
    "\n",
    "    for end in rebalancingDate[1:]:\n",
    "        weight = weightDf.loc[start] # 당월 리밸런싱 비율\n",
    "        priceData = closeDataSet.loc[start:end] # 당월 가격 데이터\n",
    "        cumReturn = getCumulativeReturn(priceData) # 당월 누적 수익률\n",
    "        weightedCumReturn = weight * cumReturn # 당월 리밸런싱 비율이 반영된 누적 수익률\n",
    "        netCumReturn = totalAsset * weightedCumReturn # 전월 투자 결과 반영\n",
    "\n",
    "        start = end # start 갱신\n",
    "        totalAsset = netCumReturn.iloc[-1].sum() # 총 자산 갱신\n",
    "        portfolio = pd.concat([portfolio, netCumReturn]) # 매월 데이터 추가\n",
    "    \n",
    "    portfolio = portfolio.loc[~portfolio.index.duplicated(keep='last')] # 중복 데이터 제거\n",
    "    portfolioCumulativeReturn = portfolio.sum(axis=1) # 포트폴리오 누적 수익률\n",
    "    portfolioDayReturn = (portfolioCumulativeReturn / portfolioCumulativeReturn.shift(1)).fillna(1) # 포트폴리오 일간 수익률\n",
    "    \n",
    "    return portfolioDayReturn, portfolioCumulativeReturn\n",
    "\n",
    "def getWeightByAvgMomentumScore(closeDataSet, n = 12):\n",
    "    \"\"\"\n",
    "    평균 모멘텀 스코어를 기반으로 한 투자 비중 구하기\n",
    "    closeDataSet: 종가 데이터\n",
    "    n: 모멘텀 기간 1~n\n",
    "    return: 투자비중 weight df, 평균모멘텀 스코어 df\n",
    "    \"\"\"\n",
    "    avgMomentumScore = 0 # 평모스 초기값\n",
    "    priceOnRebalDate = closeDataSet.loc[getRebalancingDate(closeDataSet)] # 리밸런싱 일자의 가격 데이터\n",
    "    \n",
    "    # 1 ~ n개월 모멘텀 스코어 합\n",
    "    for i in range(1, n+1):\n",
    "        avgMomentumScore = np.where(priceOnRebalDate / priceOnRebalDate.shift(i) > 1, 1, 0) + avgMomentumScore\n",
    "        \n",
    "    # 평모스 계산\n",
    "    avgMomentumScore = pd.DataFrame(avgMomentumScore, index=priceOnRebalDate.index, columns=priceOnRebalDate.columns) # dataframe 형변환\n",
    "    avgMomentumScore = avgMomentumScore / n\n",
    "    \n",
    "    # 모멘텀 스코어에 따른 weight 계산\n",
    "    weight = avgMomentumScore.divide(avgMomentumScore.sum(axis=1), axis=0).fillna(0)\n",
    "    # 투자 비중이 모두 0인 구간에서는 현금 보유\n",
    "    weight['cash'] = np.where(weight.sum(axis=1) == 0, 1, 0)\n",
    "    \n",
    "    # 투자비중, 평모스 리턴\n",
    "    return weight, avgMomentumScore"
   ]
  },
  {
   "cell_type": "code",
   "execution_count": null,
   "id": "d9ffc30d",
   "metadata": {
    "scrolled": false
   },
   "outputs": [],
   "source": [
    "# 데이터 로드\n",
    "kodex200 = getCloseData(\"069500\", \"2002\") # 코스피200 ETF\n",
    "kodex10Bond = getCloseData(\"152380\", \"2002\") # kodex 국고채 10년물 etf\n",
    "\n",
    "# kodex200 = 069500\n",
    "# kodex10Bond = 152380\n",
    "# S&P500 = SPY\n",
    "# 미국 7-10 국채 = IEF\n",
    "\n",
    "closeDataSet = pd.concat([kodex200, kodex10Bond], axis=1)\n",
    "closeDataSet.columns = ['kodex200', 'kodex10Bond']\n",
    "closeDataSet.dropna(inplace=True)\n",
    "\n",
    "closeDataSet"
   ]
  },
  {
   "cell_type": "markdown",
   "id": "f8a0ead1",
   "metadata": {},
   "source": [
    "  "
   ]
  },
  {
   "cell_type": "markdown",
   "id": "35b16af0",
   "metadata": {},
   "source": [
    "  "
   ]
  },
  {
   "cell_type": "markdown",
   "id": "bae10832",
   "metadata": {},
   "source": [
    "  "
   ]
  },
  {
   "cell_type": "markdown",
   "id": "2070fcb2",
   "metadata": {},
   "source": [
    "## 1. 실제 주식 매매 단위 고려"
   ]
  },
  {
   "cell_type": "code",
   "execution_count": null,
   "id": "441597ab",
   "metadata": {},
   "outputs": [],
   "source": [
    "# 일별 수익률\n",
    "dayReturn = (closeDataSet / closeDataSet.shift(1)).fillna(1)\n",
    "\n",
    "# 누적 수익률\n",
    "cumReturn = closeDataSet / closeDataSet.iloc[0]\n",
    "\n",
    "# 리밸런싱 날짜\n",
    "rebalancingDate = getRebalancingDate(closeDataSet)\n",
    "\n",
    "# 리밸런싱 비율, 동일비중으로 가정\n",
    "portfolioWeight = [0.5, 0.5]\n",
    "targetWeight = pd.DataFrame([portfolioWeight] * len(rebalancingDate), index=rebalancingDate, columns=closeDataSet.columns) \n",
    "targetWeight"
   ]
  },
  {
   "cell_type": "code",
   "execution_count": null,
   "id": "0dd35de8",
   "metadata": {
    "scrolled": true
   },
   "outputs": [],
   "source": [
    "cash = 10000000 # 초기 자본금, 1000만원 가정\n",
    "prevQuantity = 0 # 초기 자산 보유량\n",
    "\n",
    "totalAssetFlow = []\n",
    "start = rebalancingDate[0] # 리밸런싱 날짜, 초기값 첫 투자일\n",
    "\n",
    "\n",
    "for end in rebalancingDate[1:]:\n",
    "    weight = targetWeight.loc[start] # 당기 리밸런싱 비율\n",
    "    \n",
    "    capacity = cash * weight # 리밸런싱 비율에 따른 자산별 사용 가능 현금\n",
    "    \n",
    "    priceData = closeDataSet.loc[start: end] # 당기 가격 데이터\n",
    "    \n",
    "    quantity = capacity // priceData.iloc[0] # capacity에 따라 실제 매수할 수 있는 주식수\n",
    "    diffQuantity = quantity - prevQuantity # 실제 매매해야하는 수량, 양수-> 매수, 음수 -> 매도\n",
    "    fee = abs(diffQuantity) *  priceData.iloc[0] * 0.0015 # 수수료, 0.15% => 0.0015\n",
    "    \n",
    "    left = (capacity - quantity * priceData.iloc[0]).sum() # 잔여 현금\n",
    "#     print(left)\n",
    "    \n",
    "    assetFlow = quantity * priceData # 자산 흐름\n",
    "    totalAssetFlow.append(assetFlow)\n",
    "    \n",
    "    cash = (assetFlow.iloc[-1].sum() + left) - fee # cash 업데이트,,\n",
    "    prevQuantity = quantity # 이전 자산 보유량 업데이트\n",
    "    start = end # 리밸런싱 날짜 업데이트\n",
    "    \n",
    "# totalAssetFlow"
   ]
  },
  {
   "cell_type": "code",
   "execution_count": null,
   "id": "3c42a4bf",
   "metadata": {},
   "outputs": [],
   "source": [
    "totalAssetFlow = pd.concat(totalAssetFlow)\n",
    "# 매달 마지막 영업일엔 리밸런싱이 들어간 row만 남긴다.\n",
    "totalAssetFlow = totalAssetFlow.loc[~totalAssetFlow.index.duplicated(keep='last')]\n",
    "totalAssetFlow['portfolio'] = totalAssetFlow.sum(axis=1)\n",
    "totalAssetFlow"
   ]
  },
  {
   "cell_type": "code",
   "execution_count": null,
   "id": "25831ae9",
   "metadata": {
    "scrolled": true
   },
   "outputs": [],
   "source": [
    "totalAssetFlow['portfolio'] / totalAssetFlow['portfolio'].iloc[0]"
   ]
  },
  {
   "cell_type": "code",
   "execution_count": null,
   "id": "48f7f377",
   "metadata": {},
   "outputs": [],
   "source": [
    "getEvaluation(totalAssetFlow['portfolio'] / totalAssetFlow['portfolio'].iloc[0])"
   ]
  },
  {
   "cell_type": "markdown",
   "id": "a7810225",
   "metadata": {},
   "source": [
    "  "
   ]
  },
  {
   "cell_type": "markdown",
   "id": "40449827",
   "metadata": {},
   "source": [
    "  "
   ]
  },
  {
   "cell_type": "markdown",
   "id": "161d459b",
   "metadata": {},
   "source": [
    "  "
   ]
  },
  {
   "cell_type": "markdown",
   "id": "18538304",
   "metadata": {},
   "source": [
    "## 2. 리밸런싱 기준 일자와 실제 투자 시작 일자\n",
    "\n",
    "지금까지 리밸런싱 기준일은 매달 말일이었습니다.  \n",
    "실제 전략대로 투자하고 싶다면 어떤 날이던 리밸런싱 비율에 맞춰서 들어가면 될까요?  \n",
    "**아닙니다.**  \n",
    "매달 말일을 기준으로 했기 때문에, 말일을 기준으로 한 자산 흐름에 맞춰서 들어가야합니다."
   ]
  },
  {
   "cell_type": "code",
   "execution_count": null,
   "id": "a1c1d56a",
   "metadata": {},
   "outputs": [],
   "source": [
    "# 데이터 로드\n",
    "kodex200 = getCloseData(\"069500\", \"2002\") # 코스피200 ETF\n",
    "kodex10Bond = getCloseData(\"152380\", \"2002\") # kodex 국고채 10년물 etf\n",
    "\n",
    "# kodex200 = 069500\n",
    "# kodex10Bond = 152380\n",
    "# S&P500 = SPY\n",
    "# 미국 7-10 국채 = IEF\n",
    "\n",
    "closeDataSet = pd.concat([kodex200, kodex10Bond], axis=1)\n",
    "# closeDataSet = pd.merge(kodex200, kodex10Bond, left_index= True , right_index= True)\n",
    "closeDataSet.columns = ['kodex200', 'kodex10Bond']\n",
    "# closeDataSet['kodex10Bond'] = 1\n",
    "closeDataSet.dropna(inplace=True)\n",
    "rebalancingDate = getRebalancingDate(closeDataSet)\n",
    "closeDataSet = closeDataSet.loc[rebalancingDate[0]:]\n",
    "closeDataSet"
   ]
  },
  {
   "cell_type": "code",
   "execution_count": null,
   "id": "6fd39371",
   "metadata": {},
   "outputs": [],
   "source": [
    "weight= pd.DataFrame([[0.6, 0.4]] * len(closeDataSet), index=closeDataSet.index, columns=closeDataSet.columns) \n",
    "rebalPortfolioDayReturn, rebalPortfolioCumulativeReturn = getRebalancingPortfolioResult(closeDataSet)"
   ]
  },
  {
   "cell_type": "code",
   "execution_count": null,
   "id": "4be45aea",
   "metadata": {},
   "outputs": [],
   "source": [
    "plt.rc('font', family='malgun gothic')\n",
    "plt.figure(figsize=(20,8))\n",
    "rebalPortfolioCumulativeReturn.plot(label=\"리밸런싱\")\n",
    "plt.legend()\n",
    "plt.show()"
   ]
  },
  {
   "cell_type": "code",
   "execution_count": null,
   "id": "6252fb1f",
   "metadata": {},
   "outputs": [],
   "source": []
  },
  {
   "cell_type": "code",
   "execution_count": null,
   "id": "3910e74e",
   "metadata": {},
   "outputs": [],
   "source": []
  }
 ],
 "metadata": {
  "kernelspec": {
   "display_name": "AITrading",
   "language": "python",
   "name": "aitradingproject"
  },
  "language_info": {
   "codemirror_mode": {
    "name": "ipython",
    "version": 3
   },
   "file_extension": ".py",
   "mimetype": "text/x-python",
   "name": "python",
   "nbconvert_exporter": "python",
   "pygments_lexer": "ipython3",
   "version": "3.9.12"
  }
 },
 "nbformat": 4,
 "nbformat_minor": 5
}
