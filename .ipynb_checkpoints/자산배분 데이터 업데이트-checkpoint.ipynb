{
 "cells": [
  {
   "cell_type": "code",
   "execution_count": 1,
   "id": "f7628a24",
   "metadata": {},
   "outputs": [],
   "source": [
    "import FinanceDataReader as fdr\n",
    "import pandas as pd\n",
    "import matplotlib.pyplot as plt\n",
    "import numpy as np\n",
    "from datetime import timedelta\n",
    "from time import sleep\n",
    "\n",
    "def getCloseData(ticker, start, end=None):\n",
    "    \"\"\"\n",
    "    종가 데이터\n",
    "    ticker: 종목 번호\n",
    "    start: 시작일\n",
    "    end: 마지막 날짜\n",
    "    return: 종목의 종가 데이터\n",
    "    \"\"\"\n",
    "    return fdr.DataReader(ticker, start, end)['Close']"
   ]
  },
  {
   "cell_type": "code",
   "execution_count": 2,
   "id": "9e793f9c",
   "metadata": {},
   "outputs": [],
   "source": [
    "def updateDynamicDataSet():\n",
    "    \"\"\"\n",
    "    자산배분데이터 최신화\n",
    "    from datetime import timedelta\n",
    "    from time import sleep\n",
    "    \"\"\"\n",
    "    data = pd.read_csv(\"동적자산배분데이터.csv\", index_col=0, parse_dates=True)\n",
    "    tickers = data.columns\n",
    "\n",
    "    start = data.index[-1]+timedelta(days=1)\n",
    "\n",
    "    newDf = pd.DataFrame()\n",
    "\n",
    "    for ticker in tickers:\n",
    "        newData = getCloseData(ticker, start)\n",
    "        newDf = pd.concat([newDf, newData], axis=1)\n",
    "        sleep(3)\n",
    "\n",
    "    newDf.columns = tickers\n",
    "    newDf.index = pd.to_datetime(newDf.index)\n",
    "    updatedData = pd.concat([data, newDf])\n",
    "    updatedData.to_csv(\"동적자산배분데이터.csv\")\n",
    "    return updatedData"
   ]
  },
  {
   "cell_type": "code",
   "execution_count": 3,
   "id": "29a2da6b",
   "metadata": {},
   "outputs": [],
   "source": [
    "def updateStaticDataSet():\n",
    "    \"\"\"\n",
    "    자산배분데이터 최신화\n",
    "    from datetime import timedelta\n",
    "    from time import sleep\n",
    "    \"\"\"\n",
    "    data = pd.read_csv(\"정적자산배분데이터.csv\", index_col=0, parse_dates=True)\n",
    "    tickers = data.columns\n",
    "\n",
    "    start = data.index[-1]+timedelta(days=1)\n",
    "\n",
    "    newDf = pd.DataFrame()\n",
    "\n",
    "    for ticker in tickers:\n",
    "        newData = getCloseData(ticker, start)\n",
    "        newDf = pd.concat([newDf, newData], axis=1)\n",
    "        sleep(3)\n",
    "\n",
    "    newDf.columns = tickers\n",
    "    newDf.index = pd.to_datetime(newDf.index)\n",
    "    updatedData = pd.concat([data, newDf])\n",
    "    updatedData.to_csv(\"정적자산배분데이터.csv\")\n",
    "    return updatedData"
   ]
  },
  {
   "cell_type": "code",
   "execution_count": null,
   "id": "dbaf2ec2",
   "metadata": {},
   "outputs": [],
   "source": [
    "updateDynamicDataSet()\n",
    "updateStaticDataSet()"
   ]
  },
  {
   "cell_type": "code",
   "execution_count": null,
   "id": "7a00df31",
   "metadata": {},
   "outputs": [],
   "source": []
  },
  {
   "cell_type": "code",
   "execution_count": null,
   "id": "6f5d16e6",
   "metadata": {},
   "outputs": [],
   "source": []
  },
  {
   "cell_type": "code",
   "execution_count": 4,
   "id": "1f99fcea",
   "metadata": {},
   "outputs": [
    {
     "data": {
      "text/plain": [
       "Index(['AGG', 'BND', 'EEM', 'EWJ', 'GLD', 'GSG', 'HYG', 'IEF', 'IEI', 'IJS',\n",
       "       'IWM', 'LQD', 'QQQ', 'SHV', 'SHY', 'SPY', 'TLT', 'UST', 'VEA', 'VGK',\n",
       "       'VNQ', 'VTI', 'VWO'],\n",
       "      dtype='object')"
      ]
     },
     "execution_count": 4,
     "metadata": {},
     "output_type": "execute_result"
    }
   ],
   "source": [
    "data1 = pd.read_csv(\"us_etf_2.csv\", index_col=0, parse_dates=True)\n",
    "data1.columns"
   ]
  },
  {
   "cell_type": "code",
   "execution_count": 5,
   "id": "0ccc9868",
   "metadata": {},
   "outputs": [
    {
     "data": {
      "text/plain": [
       "Index(['SHY', 'GSG', 'TLT', 'SPY', 'VTI', 'BND', 'VNQ', 'VWO', 'VEA', 'EWJ',\n",
       "       'EFA', 'GLD', 'QQQ', 'HYG', 'VGK', 'SHV', 'UST', 'IWM', 'EEM', 'LQD',\n",
       "       'IEF', 'AGG', 'DBC'],\n",
       "      dtype='object')"
      ]
     },
     "execution_count": 5,
     "metadata": {},
     "output_type": "execute_result"
    }
   ],
   "source": [
    "data2 = pd.read_csv(\"동적자산배분데이터.csv\", index_col=0, parse_dates=True)\n",
    "data2.columns"
   ]
  },
  {
   "cell_type": "code",
   "execution_count": null,
   "id": "8728da74",
   "metadata": {},
   "outputs": [],
   "source": []
  }
 ],
 "metadata": {
  "kernelspec": {
   "display_name": "AITrading",
   "language": "python",
   "name": "aitradingproject"
  },
  "language_info": {
   "codemirror_mode": {
    "name": "ipython",
    "version": 3
   },
   "file_extension": ".py",
   "mimetype": "text/x-python",
   "name": "python",
   "nbconvert_exporter": "python",
   "pygments_lexer": "ipython3",
   "version": "3.9.12"
  }
 },
 "nbformat": 4,
 "nbformat_minor": 5
}
