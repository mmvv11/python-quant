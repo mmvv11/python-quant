{
 "cells": [
  {
   "cell_type": "markdown",
   "id": "248ae07f",
   "metadata": {},
   "source": [
    "앞으로 다양한 투자 전략을 살펴보기에 앞서,  \n",
    "전략 성과를 측정하기 위한 지표를 알아보는 시간입니다."
   ]
  },
  {
   "cell_type": "markdown",
   "id": "4443bff5",
   "metadata": {},
   "source": [
    "# 투자성과 지표\n",
    "\n",
    "* 단일 종목 일간수익률\n",
    "* 단일 종목 누적수익률\n",
    "* CAGR\n",
    "* MDD"
   ]
  },
  {
   "cell_type": "code",
   "execution_count": 1,
   "id": "6416954a",
   "metadata": {},
   "outputs": [],
   "source": [
    "import pandas as pd\n",
    "import numpy as np"
   ]
  },
  {
   "cell_type": "code",
   "execution_count": 2,
   "id": "c8856dc9",
   "metadata": {
    "scrolled": false
   },
   "outputs": [
    {
     "data": {
      "text/html": [
       "<div>\n",
       "<style scoped>\n",
       "    .dataframe tbody tr th:only-of-type {\n",
       "        vertical-align: middle;\n",
       "    }\n",
       "\n",
       "    .dataframe tbody tr th {\n",
       "        vertical-align: top;\n",
       "    }\n",
       "\n",
       "    .dataframe thead th {\n",
       "        text-align: right;\n",
       "    }\n",
       "</style>\n",
       "<table border=\"1\" class=\"dataframe\">\n",
       "  <thead>\n",
       "    <tr style=\"text-align: right;\">\n",
       "      <th></th>\n",
       "      <th>close</th>\n",
       "    </tr>\n",
       "  </thead>\n",
       "  <tbody>\n",
       "    <tr>\n",
       "      <th>0</th>\n",
       "      <td>100</td>\n",
       "    </tr>\n",
       "    <tr>\n",
       "      <th>1</th>\n",
       "      <td>95</td>\n",
       "    </tr>\n",
       "    <tr>\n",
       "      <th>2</th>\n",
       "      <td>101</td>\n",
       "    </tr>\n",
       "    <tr>\n",
       "      <th>3</th>\n",
       "      <td>103</td>\n",
       "    </tr>\n",
       "    <tr>\n",
       "      <th>4</th>\n",
       "      <td>90</td>\n",
       "    </tr>\n",
       "    <tr>\n",
       "      <th>5</th>\n",
       "      <td>95</td>\n",
       "    </tr>\n",
       "    <tr>\n",
       "      <th>6</th>\n",
       "      <td>110</td>\n",
       "    </tr>\n",
       "    <tr>\n",
       "      <th>7</th>\n",
       "      <td>98</td>\n",
       "    </tr>\n",
       "    <tr>\n",
       "      <th>8</th>\n",
       "      <td>101</td>\n",
       "    </tr>\n",
       "  </tbody>\n",
       "</table>\n",
       "</div>"
      ],
      "text/plain": [
       "   close\n",
       "0    100\n",
       "1     95\n",
       "2    101\n",
       "3    103\n",
       "4     90\n",
       "5     95\n",
       "6    110\n",
       "7     98\n",
       "8    101"
      ]
     },
     "execution_count": 2,
     "metadata": {},
     "output_type": "execute_result"
    }
   ],
   "source": [
    "# 가격 데이터\n",
    "data = {'close': [100, 95, 101, 103, 90, 95, 110, 98, 101] index =[\"2022-05-17\",    \n",
    "\"2022-05-18\" ,   \n",
    "\"2022-05-19\"  ,  \n",
    "\"2022-05-20\"   , \n",
    "\"2022-05-23\"    ,\n",
    "\"2022-05-24\"    ,\n",
    "\"2022-05-25\"    ,\n",
    "\"2022-05-26\"    ,\n",
    "\"2022-05-27\"    ]} # 9일 간 가격 데이터, \n",
    "df = pd.DataFrame(data=data)\n",
    "\n",
    "\n",
    "\n",
    "df"
   ]
  },
  {
   "cell_type": "code",
   "execution_count": 3,
   "id": "da57b667",
   "metadata": {},
   "outputs": [
    {
     "data": {
      "text/plain": [
       "<AxesSubplot:>"
      ]
     },
     "execution_count": 3,
     "metadata": {},
     "output_type": "execute_result"
    },
    {
     "data": {
      "image/png": "[encoded data removed]",
      "text/plain": [
       "<Figure size 432x288 with 1 Axes>"
      ]
     },
     "metadata": {
      "needs_background": "light"
     },
     "output_type": "display_data"
    }
   ],
   "source": [
    "df.plot()"
   ]
  },
  {
   "cell_type": "markdown",
   "id": "d028ea9e",
   "metadata": {},
   "source": [
    "  "
   ]
  },
  {
   "cell_type": "markdown",
   "id": "0c576925",
   "metadata": {},
   "source": [
    "  "
   ]
  },
  {
   "cell_type": "markdown",
   "id": "8e2d6669",
   "metadata": {},
   "source": [
    "  "
   ]
  },
  {
   "cell_type": "markdown",
   "id": "1ed16934",
   "metadata": {},
   "source": [
    "### 단일종목 일간 수익률\n",
    "\n",
    "일간 수익률 = `당기 가격 / 전기 가격` 으로 계산할 수 있습니다.  \n",
    "판다스의 `shift 메서드`를 이용해서 간편하게 계산할 수 있습니다.  \n",
    "`shift(n)` 메서드는 `n`만큼 아래로 이동시키는 기능을 합니다."
   ]
  },
  {
   "cell_type": "code",
   "execution_count": 4,
   "id": "759ab5d4",
   "metadata": {},
   "outputs": [
    {
     "data": {
      "text/html": [
       "<div>\n",
       "<style scoped>\n",
       "    .dataframe tbody tr th:only-of-type {\n",
       "        vertical-align: middle;\n",
       "    }\n",
       "\n",
       "    .dataframe tbody tr th {\n",
       "        vertical-align: top;\n",
       "    }\n",
       "\n",
       "    .dataframe thead th {\n",
       "        text-align: right;\n",
       "    }\n",
       "</style>\n",
       "<table border=\"1\" class=\"dataframe\">\n",
       "  <thead>\n",
       "    <tr style=\"text-align: right;\">\n",
       "      <th></th>\n",
       "      <th>close</th>\n",
       "    </tr>\n",
       "  </thead>\n",
       "  <tbody>\n",
       "    <tr>\n",
       "      <th>0</th>\n",
       "      <td>NaN</td>\n",
       "    </tr>\n",
       "    <tr>\n",
       "      <th>1</th>\n",
       "      <td>100.0</td>\n",
       "    </tr>\n",
       "    <tr>\n",
       "      <th>2</th>\n",
       "      <td>95.0</td>\n",
       "    </tr>\n",
       "    <tr>\n",
       "      <th>3</th>\n",
       "      <td>101.0</td>\n",
       "    </tr>\n",
       "    <tr>\n",
       "      <th>4</th>\n",
       "      <td>103.0</td>\n",
       "    </tr>\n",
       "    <tr>\n",
       "      <th>5</th>\n",
       "      <td>90.0</td>\n",
       "    </tr>\n",
       "    <tr>\n",
       "      <th>6</th>\n",
       "      <td>95.0</td>\n",
       "    </tr>\n",
       "    <tr>\n",
       "      <th>7</th>\n",
       "      <td>110.0</td>\n",
       "    </tr>\n",
       "    <tr>\n",
       "      <th>8</th>\n",
       "      <td>98.0</td>\n",
       "    </tr>\n",
       "  </tbody>\n",
       "</table>\n",
       "</div>"
      ],
      "text/plain": [
       "   close\n",
       "0    NaN\n",
       "1  100.0\n",
       "2   95.0\n",
       "3  101.0\n",
       "4  103.0\n",
       "5   90.0\n",
       "6   95.0\n",
       "7  110.0\n",
       "8   98.0"
      ]
     },
     "execution_count": 4,
     "metadata": {},
     "output_type": "execute_result"
    }
   ],
   "source": [
    "df.shift(1)"
   ]
  },
  {
   "cell_type": "code",
   "execution_count": 5,
   "id": "329de1f3",
   "metadata": {},
   "outputs": [
    {
     "data": {
      "text/html": [
       "<div>\n",
       "<style scoped>\n",
       "    .dataframe tbody tr th:only-of-type {\n",
       "        vertical-align: middle;\n",
       "    }\n",
       "\n",
       "    .dataframe tbody tr th {\n",
       "        vertical-align: top;\n",
       "    }\n",
       "\n",
       "    .dataframe thead th {\n",
       "        text-align: right;\n",
       "    }\n",
       "</style>\n",
       "<table border=\"1\" class=\"dataframe\">\n",
       "  <thead>\n",
       "    <tr style=\"text-align: right;\">\n",
       "      <th></th>\n",
       "      <th>close</th>\n",
       "    </tr>\n",
       "  </thead>\n",
       "  <tbody>\n",
       "    <tr>\n",
       "      <th>0</th>\n",
       "      <td>NaN</td>\n",
       "    </tr>\n",
       "    <tr>\n",
       "      <th>1</th>\n",
       "      <td>0.950000</td>\n",
       "    </tr>\n",
       "    <tr>\n",
       "      <th>2</th>\n",
       "      <td>1.063158</td>\n",
       "    </tr>\n",
       "    <tr>\n",
       "      <th>3</th>\n",
       "      <td>1.019802</td>\n",
       "    </tr>\n",
       "    <tr>\n",
       "      <th>4</th>\n",
       "      <td>0.873786</td>\n",
       "    </tr>\n",
       "    <tr>\n",
       "      <th>5</th>\n",
       "      <td>1.055556</td>\n",
       "    </tr>\n",
       "    <tr>\n",
       "      <th>6</th>\n",
       "      <td>1.157895</td>\n",
       "    </tr>\n",
       "    <tr>\n",
       "      <th>7</th>\n",
       "      <td>0.890909</td>\n",
       "    </tr>\n",
       "    <tr>\n",
       "      <th>8</th>\n",
       "      <td>1.030612</td>\n",
       "    </tr>\n",
       "  </tbody>\n",
       "</table>\n",
       "</div>"
      ],
      "text/plain": [
       "      close\n",
       "0       NaN\n",
       "1  0.950000\n",
       "2  1.063158\n",
       "3  1.019802\n",
       "4  0.873786\n",
       "5  1.055556\n",
       "6  1.157895\n",
       "7  0.890909\n",
       "8  1.030612"
      ]
     },
     "execution_count": 5,
     "metadata": {},
     "output_type": "execute_result"
    }
   ],
   "source": [
    "dayReturn = df / df.shift(1)\n",
    "dayReturn"
   ]
  },
  {
   "cell_type": "markdown",
   "id": "12cef58f",
   "metadata": {},
   "source": [
    "간단하게 일간 수익률을 구했습니다. 다만, 첫번째 수익률은 1로 해주면 되겠죠.  \n",
    "`fillna()` 메서드를 사용하면 nan를 원하는 값으로 바꿀 수 있습니다."
   ]
  },
  {
   "cell_type": "code",
   "execution_count": 6,
   "id": "cf67f1b9",
   "metadata": {},
   "outputs": [
    {
     "data": {
      "text/html": [
       "<div>\n",
       "<style scoped>\n",
       "    .dataframe tbody tr th:only-of-type {\n",
       "        vertical-align: middle;\n",
       "    }\n",
       "\n",
       "    .dataframe tbody tr th {\n",
       "        vertical-align: top;\n",
       "    }\n",
       "\n",
       "    .dataframe thead th {\n",
       "        text-align: right;\n",
       "    }\n",
       "</style>\n",
       "<table border=\"1\" class=\"dataframe\">\n",
       "  <thead>\n",
       "    <tr style=\"text-align: right;\">\n",
       "      <th></th>\n",
       "      <th>close</th>\n",
       "    </tr>\n",
       "  </thead>\n",
       "  <tbody>\n",
       "    <tr>\n",
       "      <th>0</th>\n",
       "      <td>1.000000</td>\n",
       "    </tr>\n",
       "    <tr>\n",
       "      <th>1</th>\n",
       "      <td>0.950000</td>\n",
       "    </tr>\n",
       "    <tr>\n",
       "      <th>2</th>\n",
       "      <td>1.063158</td>\n",
       "    </tr>\n",
       "    <tr>\n",
       "      <th>3</th>\n",
       "      <td>1.019802</td>\n",
       "    </tr>\n",
       "    <tr>\n",
       "      <th>4</th>\n",
       "      <td>0.873786</td>\n",
       "    </tr>\n",
       "    <tr>\n",
       "      <th>5</th>\n",
       "      <td>1.055556</td>\n",
       "    </tr>\n",
       "    <tr>\n",
       "      <th>6</th>\n",
       "      <td>1.157895</td>\n",
       "    </tr>\n",
       "    <tr>\n",
       "      <th>7</th>\n",
       "      <td>0.890909</td>\n",
       "    </tr>\n",
       "    <tr>\n",
       "      <th>8</th>\n",
       "      <td>1.030612</td>\n",
       "    </tr>\n",
       "  </tbody>\n",
       "</table>\n",
       "</div>"
      ],
      "text/plain": [
       "      close\n",
       "0  1.000000\n",
       "1  0.950000\n",
       "2  1.063158\n",
       "3  1.019802\n",
       "4  0.873786\n",
       "5  1.055556\n",
       "6  1.157895\n",
       "7  0.890909\n",
       "8  1.030612"
      ]
     },
     "execution_count": 6,
     "metadata": {},
     "output_type": "execute_result"
    }
   ],
   "source": [
    "dayReturn = (df / df.shift(1)).fillna(1)\n",
    "dayReturn"
   ]
  },
  {
   "cell_type": "markdown",
   "id": "01292c90",
   "metadata": {},
   "source": [
    "  "
   ]
  },
  {
   "cell_type": "markdown",
   "id": "3c7a91ca",
   "metadata": {},
   "source": [
    "  "
   ]
  },
  {
   "cell_type": "markdown",
   "id": "084af991",
   "metadata": {},
   "source": [
    "### 단일종목 누적 수익률\n",
    "\n",
    "주가의 움직임은 복리입니다.  \n",
    "일간 수익률을 누적곱해주면 누적 수익률을 구할 수 있습니다.  \n",
    "`cumprod()`메서드를 사용하면 누적곱을 구할 수 있습니다.\n",
    "\n"
   ]
  },
  {
   "cell_type": "code",
   "execution_count": 7,
   "id": "dc582060",
   "metadata": {},
   "outputs": [
    {
     "data": {
      "text/html": [
       "<div>\n",
       "<style scoped>\n",
       "    .dataframe tbody tr th:only-of-type {\n",
       "        vertical-align: middle;\n",
       "    }\n",
       "\n",
       "    .dataframe tbody tr th {\n",
       "        vertical-align: top;\n",
       "    }\n",
       "\n",
       "    .dataframe thead th {\n",
       "        text-align: right;\n",
       "    }\n",
       "</style>\n",
       "<table border=\"1\" class=\"dataframe\">\n",
       "  <thead>\n",
       "    <tr style=\"text-align: right;\">\n",
       "      <th></th>\n",
       "      <th>close</th>\n",
       "    </tr>\n",
       "  </thead>\n",
       "  <tbody>\n",
       "    <tr>\n",
       "      <th>0</th>\n",
       "      <td>1.00</td>\n",
       "    </tr>\n",
       "    <tr>\n",
       "      <th>1</th>\n",
       "      <td>0.95</td>\n",
       "    </tr>\n",
       "    <tr>\n",
       "      <th>2</th>\n",
       "      <td>1.01</td>\n",
       "    </tr>\n",
       "    <tr>\n",
       "      <th>3</th>\n",
       "      <td>1.03</td>\n",
       "    </tr>\n",
       "    <tr>\n",
       "      <th>4</th>\n",
       "      <td>0.90</td>\n",
       "    </tr>\n",
       "    <tr>\n",
       "      <th>5</th>\n",
       "      <td>0.95</td>\n",
       "    </tr>\n",
       "    <tr>\n",
       "      <th>6</th>\n",
       "      <td>1.10</td>\n",
       "    </tr>\n",
       "    <tr>\n",
       "      <th>7</th>\n",
       "      <td>0.98</td>\n",
       "    </tr>\n",
       "    <tr>\n",
       "      <th>8</th>\n",
       "      <td>1.01</td>\n",
       "    </tr>\n",
       "  </tbody>\n",
       "</table>\n",
       "</div>"
      ],
      "text/plain": [
       "   close\n",
       "0   1.00\n",
       "1   0.95\n",
       "2   1.01\n",
       "3   1.03\n",
       "4   0.90\n",
       "5   0.95\n",
       "6   1.10\n",
       "7   0.98\n",
       "8   1.01"
      ]
     },
     "execution_count": 7,
     "metadata": {},
     "output_type": "execute_result"
    }
   ],
   "source": [
    "cumulativeReturn = dayReturn.cumprod()\n",
    "cumulativeReturn"
   ]
  },
  {
   "cell_type": "markdown",
   "id": "c2fad4f0",
   "metadata": {},
   "source": [
    "여기서 중요한 점은,  \n",
    "누적 수익률은 `자산의 흐름`과 같다고 볼 수 있습니다.  \n",
    "내가 1원을 투자했다고 한다면, 1원이 주가 변동에 따라 최종적으로 평가금액이 얼마인지를 알려주는 지표입니다."
   ]
  },
  {
   "cell_type": "markdown",
   "id": "ebfedec6",
   "metadata": {},
   "source": [
    "  "
   ]
  },
  {
   "cell_type": "markdown",
   "id": "666044a3",
   "metadata": {},
   "source": [
    "  "
   ]
  },
  {
   "cell_type": "markdown",
   "id": "cc513e45",
   "metadata": {},
   "source": [
    "### CAGR (compound annual growth rate)\n",
    "\n",
    "투자 수익률를 계산할 떄는 복리 개념이기 때문에, 흔히 알고 있는 산술평균이 아니라 기하평균으로 계산해야 합니다.  \n",
    "산술평균 = 합의 평균  \n",
    "기하평균 = 곱의 평균  \n",
    "\n",
    "1년차 수익률 5%,  \n",
    "2년차 수익률 10%\n",
    "\n",
    "2년 투자 기간동안의 연 평균 수익률 k라고 했을 때..\n",
    "\n",
    "k =  $\\sqrt{0.05 * 0.1}$"
   ]
  },
  {
   "cell_type": "markdown",
   "id": "7a092e26",
   "metadata": {},
   "source": [
    "**하지만 우리는 앞으로 일간 데이터를 사용할 것이기 때문에,**  \n",
    "**일간 데이터를 활용하여 연간 수익률을 계산하기 위해서는**  \n",
    "`(일간 수익률 갯수) / (영업일)` 역수 제곱으로 연산합니다.  \n",
    "보통 금융공학에서는 1년의 총 영업일을 252일로 간주합니다."
   ]
  },
  {
   "cell_type": "code",
   "execution_count": 8,
   "id": "2300d3bd",
   "metadata": {},
   "outputs": [
    {
     "data": {
      "text/plain": [
       "9"
      ]
     },
     "execution_count": 8,
     "metadata": {},
     "output_type": "execute_result"
    }
   ],
   "source": [
    "len(df)"
   ]
  },
  {
   "cell_type": "code",
   "execution_count": 9,
   "id": "dd797d25",
   "metadata": {},
   "outputs": [
    {
     "data": {
      "text/plain": [
       "close    1.321291\n",
       "Name: 8, dtype: float64"
      ]
     },
     "execution_count": 9,
     "metadata": {},
     "output_type": "execute_result"
    }
   ],
   "source": [
    "cagr = cumulativeReturn.iloc[-1] ** (252/len(df)) # 연평균 복리 수익률\n",
    "cagr"
   ]
  },
  {
   "cell_type": "markdown",
   "id": "b582d6f5",
   "metadata": {},
   "source": [
    "### MDD\n",
    "\n",
    "최대 낙폭지수,투자 기간 동안 고점부터 떨어진 낙폭 최댓값을 의미합니다.  \n",
    "최종 수익률만 보고 판단하기 쉬운데, 사실 투자 기간동안 50%가 빠지면 심리적 타격도 있기 때문에 손절하고 투자를 중단할 수도 있습니다.  \n",
    "그렇기 때문에 최대 낙폭은 가능한 낮을수록 좋습니다."
   ]
  },
  {
   "cell_type": "code",
   "execution_count": 10,
   "id": "128449f2",
   "metadata": {
    "scrolled": false
   },
   "outputs": [
    {
     "data": {
      "text/html": [
       "<div>\n",
       "<style scoped>\n",
       "    .dataframe tbody tr th:only-of-type {\n",
       "        vertical-align: middle;\n",
       "    }\n",
       "\n",
       "    .dataframe tbody tr th {\n",
       "        vertical-align: top;\n",
       "    }\n",
       "\n",
       "    .dataframe thead th {\n",
       "        text-align: right;\n",
       "    }\n",
       "</style>\n",
       "<table border=\"1\" class=\"dataframe\">\n",
       "  <thead>\n",
       "    <tr style=\"text-align: right;\">\n",
       "      <th></th>\n",
       "      <th>close</th>\n",
       "    </tr>\n",
       "  </thead>\n",
       "  <tbody>\n",
       "    <tr>\n",
       "      <th>0</th>\n",
       "      <td>0.000000</td>\n",
       "    </tr>\n",
       "    <tr>\n",
       "      <th>1</th>\n",
       "      <td>5.000000</td>\n",
       "    </tr>\n",
       "    <tr>\n",
       "      <th>2</th>\n",
       "      <td>0.000000</td>\n",
       "    </tr>\n",
       "    <tr>\n",
       "      <th>3</th>\n",
       "      <td>0.000000</td>\n",
       "    </tr>\n",
       "    <tr>\n",
       "      <th>4</th>\n",
       "      <td>12.621359</td>\n",
       "    </tr>\n",
       "    <tr>\n",
       "      <th>5</th>\n",
       "      <td>7.766990</td>\n",
       "    </tr>\n",
       "    <tr>\n",
       "      <th>6</th>\n",
       "      <td>0.000000</td>\n",
       "    </tr>\n",
       "    <tr>\n",
       "      <th>7</th>\n",
       "      <td>10.909091</td>\n",
       "    </tr>\n",
       "    <tr>\n",
       "      <th>8</th>\n",
       "      <td>8.181818</td>\n",
       "    </tr>\n",
       "  </tbody>\n",
       "</table>\n",
       "</div>"
      ],
      "text/plain": [
       "       close\n",
       "0   0.000000\n",
       "1   5.000000\n",
       "2   0.000000\n",
       "3   0.000000\n",
       "4  12.621359\n",
       "5   7.766990\n",
       "6   0.000000\n",
       "7  10.909091\n",
       "8   8.181818"
      ]
     },
     "execution_count": 10,
     "metadata": {},
     "output_type": "execute_result"
    }
   ],
   "source": [
    "dd = (cumulativeReturn.cummax() - cumulativeReturn) /cumulativeReturn.cummax() * 100 # 낙폭\n",
    "dd"
   ]
  },
  {
   "cell_type": "code",
   "execution_count": 11,
   "id": "39e9c50c",
   "metadata": {},
   "outputs": [
    {
     "data": {
      "text/plain": [
       "close    12.621359\n",
       "dtype: float64"
      ]
     },
     "execution_count": 11,
     "metadata": {},
     "output_type": "execute_result"
    }
   ],
   "source": [
    "mdd = dd.max()\n",
    "mdd"
   ]
  },
  {
   "cell_type": "markdown",
   "id": "fe2771ba",
   "metadata": {},
   "source": [
    "  "
   ]
  },
  {
   "cell_type": "markdown",
   "id": "31b39f5e",
   "metadata": {},
   "source": [
    "  "
   ]
  },
  {
   "cell_type": "markdown",
   "id": "0e42837a",
   "metadata": {},
   "source": [
    "  "
   ]
  },
  {
   "cell_type": "markdown",
   "id": "02282a0f",
   "metadata": {},
   "source": [
    "  "
   ]
  },
  {
   "cell_type": "markdown",
   "id": "da147eee",
   "metadata": {},
   "source": [
    "  "
   ]
  },
  {
   "cell_type": "markdown",
   "id": "62e530da",
   "metadata": {},
   "source": [
    "  "
   ]
  },
  {
   "cell_type": "markdown",
   "id": "f6fb79e7",
   "metadata": {},
   "source": [
    "  "
   ]
  },
  {
   "cell_type": "markdown",
   "id": "76effbb5",
   "metadata": {},
   "source": [
    "  "
   ]
  },
  {
   "cell_type": "markdown",
   "id": "7e8f9323",
   "metadata": {},
   "source": [
    "  "
   ]
  },
  {
   "cell_type": "markdown",
   "id": "90ca357a",
   "metadata": {},
   "source": [
    "  "
   ]
  },
  {
   "cell_type": "markdown",
   "id": "9cdc1252",
   "metadata": {},
   "source": [
    "  "
   ]
  },
  {
   "cell_type": "markdown",
   "id": "63f8ffc4",
   "metadata": {},
   "source": [
    "  "
   ]
  },
  {
   "cell_type": "markdown",
   "id": "5b67fa8b",
   "metadata": {},
   "source": [
    "  "
   ]
  },
  {
   "cell_type": "markdown",
   "id": "519326a0",
   "metadata": {},
   "source": [
    "  "
   ]
  },
  {
   "cell_type": "markdown",
   "id": "73551c8f",
   "metadata": {},
   "source": [
    "  "
   ]
  },
  {
   "cell_type": "markdown",
   "id": "ba814fb4",
   "metadata": {},
   "source": [
    "  "
   ]
  },
  {
   "cell_type": "markdown",
   "id": "0d533d5d",
   "metadata": {},
   "source": [
    "  "
   ]
  },
  {
   "cell_type": "markdown",
   "id": "79e732d5",
   "metadata": {},
   "source": [
    "  "
   ]
  },
  {
   "cell_type": "code",
   "execution_count": null,
   "id": "5f87868d",
   "metadata": {},
   "outputs": [],
   "source": []
  },
  {
   "cell_type": "markdown",
   "id": "898a0c4c",
   "metadata": {},
   "source": [
    "### 수익률 표준편차 => 변동성"
   ]
  },
  {
   "cell_type": "markdown",
   "id": "214d99a2",
   "metadata": {},
   "source": [
    "`(연간 변동성 ** 2) = (일간 변동성 ** 2) * 영업일`"
   ]
  },
  {
   "cell_type": "code",
   "execution_count": 12,
   "id": "2e278731",
   "metadata": {},
   "outputs": [
    {
     "data": {
      "text/plain": [
       "close    1.333129\n",
       "dtype: float64"
      ]
     },
     "execution_count": 12,
     "metadata": {},
     "output_type": "execute_result"
    }
   ],
   "source": [
    "# np.std() 표준편차 메서드\n",
    "# np.sqrt() 제곱근 메서드\n",
    "\n",
    "volatility = np.std(dayReturn) * np.sqrt(252)\n",
    "volatility"
   ]
  },
  {
   "cell_type": "markdown",
   "id": "1686d9e3",
   "metadata": {},
   "source": [
    "### 샤프지수\n",
    "\n",
    "샤프지수는 위험 대비 수익성이 어느정도인지를 알려줍니다.  \n",
    "높을수록 좋은 것이겠죠?  \n",
    "채권이나 예금같은 무위험 수익률 대비 수익성으로 계산할 수도 있지만  \n",
    "사후적 샤프지수로 계산하는 방법도 있습니다.  \n",
    "\n",
    "`사후적 샤프지수 = (일간 수익률 산술평균) / (실현 수익률 변동성)`"
   ]
  },
  {
   "cell_type": "code",
   "execution_count": null,
   "id": "e088e8ac",
   "metadata": {},
   "outputs": [],
   "source": []
  },
  {
   "cell_type": "code",
   "execution_count": null,
   "id": "2eb7640f",
   "metadata": {},
   "outputs": [],
   "source": []
  },
  {
   "cell_type": "code",
   "execution_count": null,
   "id": "b747fcf4",
   "metadata": {},
   "outputs": [],
   "source": []
  }
 ],
 "metadata": {
  "kernelspec": {
   "display_name": "AITrading",
   "language": "python",
   "name": "aitradingproject"
  },
  "language_info": {
   "codemirror_mode": {
    "name": "ipython",
    "version": 3
   },
   "file_extension": ".py",
   "mimetype": "text/x-python",
   "name": "python",
   "nbconvert_exporter": "python",
   "pygments_lexer": "ipython3",
   "version": "3.9.7"
  }
 },
 "nbformat": 4,
 "nbformat_minor": 5
}
